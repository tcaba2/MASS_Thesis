{
  "cells": [
    {
      "cell_type": "markdown",
      "metadata": {},
      "source": [
        "\n",
        "# 1D spectrum simulation\n",
        "\n",
        "Simulate a number of spectral on-off observations of a source with a power-law spectral\n",
        "model using the CTA 1DC response and fit them with the assumed spectral model.\n",
        "\n",
        "## Prerequisites\n",
        "\n",
        "-  Knowledge of spectral extraction and datasets used in gammapy, see\n",
        "   for instance the :doc:`spectral analysis\n",
        "   tutorial </tutorials/analysis-1d/spectral_analysis>`\n",
        "\n",
        "## Context\n",
        "\n",
        "To simulate a specific observation, it is not always necessary to\n",
        "simulate the full photon list. For many uses cases, simulating directly\n",
        "a reduced binned dataset is enough: the IRFs reduced in the correct\n",
        "geometry are combined with a source model to predict an actual number of\n",
        "counts per bin. The latter is then used to simulate a reduced dataset\n",
        "using Poisson probability distribution.\n",
        "\n",
        "This can be done to check the feasibility of a measurement, to test\n",
        "whether fitted parameters really provide a good fit to the data etc.\n",
        "\n",
        "Here we will see how to perform a 1D spectral simulation of a CTAO\n",
        "observation, in particular, we will generate OFF observations following\n",
        "the template background stored in the CTAO IRFs.\n",
        "\n",
        "**Objective: simulate a number of spectral ON-OFF observations of a\n",
        "source with a power-law spectral model with CTAO using the CTA 1DC\n",
        "response, fit them with the assumed spectral model and check that the\n",
        "distribution of fitted parameters is consistent with the input values.**\n",
        "\n",
        "## Proposed approach\n",
        "\n",
        "We will use the following classes and functions:\n",
        "\n",
        "-  `~gammapy.datasets.SpectrumDatasetOnOff`\n",
        "-  `~gammapy.datasets.SpectrumDataset`\n",
        "-  `~gammapy.irf.load_irf_dict_from_file`\n",
        "-  `~gammapy.modeling.models.PowerLawSpectralModel`\n"
      ]
    },
    {
      "cell_type": "code",
      "execution_count": 1,
      "metadata": {
        "collapsed": false
      },
      "outputs": [],
      "source": [
        "import numpy as np\n",
        "import astropy.units as u\n",
        "from astropy.coordinates import Angle, SkyCoord\n",
        "from regions import CircleSkyRegion\n",
        "\n",
        "# %matplotlib inline\n",
        "import matplotlib.pyplot as plt"
      ]
    },
    {
      "cell_type": "markdown",
      "metadata": {},
      "source": [
        "## Setup\n",
        "\n",
        "\n"
      ]
    },
    {
      "cell_type": "code",
      "execution_count": 2,
      "metadata": {
        "collapsed": false
      },
      "outputs": [],
      "source": [
        "from IPython.display import display\n",
        "from gammapy.data import FixedPointingInfo, Observation, observatory_locations\n",
        "from gammapy.datasets import Datasets, SpectrumDataset, SpectrumDatasetOnOff\n",
        "from gammapy.irf import load_irf_dict_from_file\n",
        "from gammapy.makers import SpectrumDatasetMaker\n",
        "from gammapy.maps import MapAxis, RegionGeom\n",
        "from gammapy.modeling import Fit\n",
        "from gammapy.modeling.models import PowerLawSpectralModel, SkyModel"
      ]
    },
    {
      "cell_type": "markdown",
      "metadata": {},
      "source": [
        "## Check setup\n",
        "\n"
      ]
    },
    {
      "cell_type": "code",
      "execution_count": 3,
      "metadata": {
        "collapsed": false
      },
      "outputs": [
        {
          "name": "stdout",
          "output_type": "stream",
          "text": [
            "\n",
            "System:\n",
            "\n",
            "\tpython_executable      : /Users/tharacaba/miniconda3/envs/gammapy-1.3/bin/python \n",
            "\tpython_version         : 3.11.11    \n",
            "\tmachine                : arm64      \n",
            "\tsystem                 : Darwin     \n",
            "\n",
            "\n",
            "Gammapy package:\n",
            "\n",
            "\tversion                : 1.3        \n",
            "\tpath                   : /Users/tharacaba/miniconda3/envs/gammapy-1.3/lib/python3.11/site-packages/gammapy \n",
            "\n",
            "\n",
            "Other packages:\n",
            "\n",
            "\tnumpy                  : 2.1.3      \n",
            "\tscipy                  : 1.14.1     \n",
            "\tastropy                : 6.1.6      \n",
            "\tregions                : 0.10       \n",
            "\tclick                  : 8.1.8      \n",
            "\tyaml                   : 6.0.2      \n",
            "\tIPython                : 8.27.0     \n",
            "\tjupyterlab             : 4.2.7      \n",
            "\tmatplotlib             : 3.9.4      \n",
            "\tpandas                 : 2.2.3      \n",
            "\thealpy                 : 1.18.0     \n",
            "\timinuit                : 2.30.1     \n",
            "\tsherpa                 : not installed \n",
            "\tnaima                  : 0.10.2     \n",
            "\temcee                  : 3.1.6      \n",
            "\tcorner                 : 2.2.3      \n",
            "\tray                    : 2.39.0     \n",
            "\n",
            "\n",
            "Gammapy environment variables:\n",
            "\n",
            "\tGAMMAPY_DATA           : /Users/tharacaba/Desktop/Tesis_2/gammapy-datasets/1.3 \n",
            "\n"
          ]
        }
      ],
      "source": [
        "from gammapy.utils.check import check_tutorials_setup\n",
        "\n",
        "check_tutorials_setup()"
      ]
    },
    {
      "cell_type": "markdown",
      "metadata": {},
      "source": [
        "## Simulation of a single spectrum\n",
        "\n",
        "To do a simulation, we need to define the observational parameters like\n",
        "the livetime, the offset, the assumed integration radius, the energy\n",
        "range to perform the simulation for and the choice of spectral model. We\n",
        "then use an in-memory observation which is convolved with the IRFs to\n",
        "get the predicted number of counts. This is Poisson fluctuated using\n",
        "the `fake()` to get the simulated counts for each observation.\n",
        "\n",
        "\n"
      ]
    },
    {
      "cell_type": "code",
      "execution_count": 4,
      "metadata": {
        "collapsed": false
      },
      "outputs": [
        {
          "name": "stdout",
          "output_type": "stream",
          "text": [
            "PowerLawSpectralModel\n",
            "\n",
            "type    name     value         unit        error   min max frozen link prior\n",
            "---- --------- ---------- -------------- --------- --- --- ------ ---- -----\n",
            "         index 3.0000e+00                0.000e+00 nan nan  False           \n",
            "     amplitude 2.5000e-12 TeV-1 s-1 cm-2 0.000e+00 nan nan  False           \n",
            "     reference 1.0000e+00            TeV 0.000e+00 nan nan   True           \n"
          ]
        }
      ],
      "source": [
        "# Define simulation parameters parameters\n",
        "livetime = 1 * u.h\n",
        "\n",
        "pointing_position = SkyCoord(0, 0, unit=\"deg\", frame=\"galactic\")\n",
        "# We want to simulate an observation pointing at a fixed position in the sky.\n",
        "# For this, we use the `FixedPointingInfo` class\n",
        "pointing = FixedPointingInfo(\n",
        "    fixed_icrs=pointing_position.icrs,\n",
        ")\n",
        "offset = 0.5 * u.deg\n",
        "\n",
        "# Reconstructed and true energy axis\n",
        "energy_axis = MapAxis.from_edges(\n",
        "    np.logspace(-0.5, 1.0, 10), unit=\"TeV\", name=\"energy\", interp=\"log\"\n",
        ")\n",
        "energy_axis_true = MapAxis.from_edges(\n",
        "    np.logspace(-1.2, 2.0, 31), unit=\"TeV\", name=\"energy_true\", interp=\"log\"\n",
        ")\n",
        "\n",
        "on_region_radius = Angle(\"0.11 deg\")\n",
        "\n",
        "center = pointing_position.directional_offset_by(\n",
        "    position_angle=0 * u.deg, separation=offset\n",
        ")\n",
        "on_region = CircleSkyRegion(center=center, radius=on_region_radius)\n",
        "\n",
        "# Define spectral model - a simple Power Law in this case\n",
        "model_simu = PowerLawSpectralModel(\n",
        "    index=3.0,\n",
        "    amplitude=2.5e-12 * u.Unit(\"cm-2 s-1 TeV-1\"),\n",
        "    reference=1 * u.TeV,\n",
        ")\n",
        "print(model_simu)\n",
        "# we set the sky model used in the dataset\n",
        "model = SkyModel(spectral_model=model_simu, name=\"source\")"
      ]
    },
    {
      "cell_type": "markdown",
      "metadata": {},
      "source": [
        "Load the IRFs\n",
        "In this simulation, we use the CTA-1DC IRFs shipped with Gammapy.\n",
        "\n"
      ]
    },
    {
      "cell_type": "code",
      "execution_count": 5,
      "metadata": {
        "collapsed": false
      },
      "outputs": [
        {
          "name": "stderr",
          "output_type": "stream",
          "text": [
            "WARNING: UnitsWarning: '1/s/MeV/sr' did not parse as fits unit: Numeric factor not supported by FITS If this is meant to be a custom unit, define it with 'u.def_unit'. To have it recognized inside a file reader or other code, enable it with 'u.add_enabled_units'. For details, see https://docs.astropy.org/en/latest/units/combining_and_defining.html [astropy.units.core]\n",
            "Invalid unit found in background table! Assuming (s-1 MeV-1 sr-1)\n"
          ]
        },
        {
          "name": "stdout",
          "output_type": "stream",
          "text": [
            "Observation\n",
            "\n",
            "\tobs id            : 0 \n",
            " \ttstart            : 51544.00\n",
            "\ttstop             : 51544.04\n",
            "\tduration          : 3600.00 s\n",
            "\tpointing (icrs)   : 266.4 deg, -28.9 deg\n",
            "\n",
            "\tdeadtime fraction : 0.0%\n",
            "\n"
          ]
        }
      ],
      "source": [
        "irfs = load_irf_dict_from_file(\n",
        "    \"$GAMMAPY_DATA/cta-1dc/caldb/data/cta/1dc/bcf/South_z20_50h/irf_file.fits\"\n",
        ")\n",
        "\n",
        "location = observatory_locations[\"cta_south\"]\n",
        "obs = Observation.create(\n",
        "    pointing=pointing,\n",
        "    livetime=livetime,\n",
        "    irfs=irfs,\n",
        "    location=location,\n",
        ")\n",
        "print(obs)"
      ]
    },
    {
      "cell_type": "markdown",
      "metadata": {},
      "source": [
        "Simulate a spectra\n",
        "\n",
        "\n"
      ]
    },
    {
      "cell_type": "code",
      "execution_count": 6,
      "metadata": {
        "collapsed": false
      },
      "outputs": [
        {
          "name": "stdout",
          "output_type": "stream",
          "text": [
            "SpectrumDataset\n",
            "---------------\n",
            "\n",
            "  Name                            : obs-0 \n",
            "\n",
            "  Total counts                    : 298 \n",
            "  Total background counts         : 22.29\n",
            "  Total excess counts             : 275.71\n",
            "\n",
            "  Predicted counts                : 303.66\n",
            "  Predicted background counts     : 22.29\n",
            "  Predicted excess counts         : 281.37\n",
            "\n",
            "  Exposure min                    : 2.53e+08 m2 s\n",
            "  Exposure max                    : 1.77e+10 m2 s\n",
            "\n",
            "  Number of total bins            : 9 \n",
            "  Number of fit bins              : 9 \n",
            "\n",
            "  Fit statistic type              : cash\n",
            "  Fit statistic value (-2 log(L)) : -1811.58\n",
            "\n",
            "  Number of models                : 1 \n",
            "  Number of parameters            : 3\n",
            "  Number of free parameters       : 2\n",
            "\n",
            "  Component 0: SkyModel\n",
            "  \n",
            "    Name                      : source\n",
            "    Datasets names            : None\n",
            "    Spectral model type       : PowerLawSpectralModel\n",
            "    Spatial  model type       : \n",
            "    Temporal model type       : \n",
            "    Parameters:\n",
            "      index                         :      3.000   +/-    0.00             \n",
            "      amplitude                     :   2.50e-12   +/- 0.0e+00 1 / (TeV s cm2)\n",
            "      reference             (frozen):      1.000       TeV         \n",
            "  \n",
            "  \n"
          ]
        }
      ],
      "source": [
        "# Make the SpectrumDataset\n",
        "geom = RegionGeom.create(region=on_region, axes=[energy_axis])\n",
        "\n",
        "dataset_empty = SpectrumDataset.create(\n",
        "    geom=geom, energy_axis_true=energy_axis_true, name=\"obs-0\"\n",
        ")\n",
        "maker = SpectrumDatasetMaker(selection=[\"exposure\", \"edisp\", \"background\"])\n",
        "\n",
        "dataset = maker.run(dataset_empty, obs)\n",
        "\n",
        "# Set the model on the dataset, and fake\n",
        "dataset.models = model\n",
        "dataset.fake(random_state=42)\n",
        "print(dataset)"
      ]
    },
    {
      "cell_type": "markdown",
      "metadata": {},
      "source": [
        "You can see that background counts are now simulated\n",
        "\n",
        "\n"
      ]
    },
    {
      "cell_type": "markdown",
      "metadata": {},
      "source": [
        "### On-Off analysis\n",
        "\n",
        "To do an on off spectral analysis, which is the usual science case, the\n",
        "standard would be to use `SpectrumDatasetOnOff`, which uses the\n",
        "acceptance to fake off-counts. Please also refer to the `Dataset simulations`\n",
        "section in the :doc:`/tutorials/analysis-1d/spectral_analysis_rad_max` tutorial,\n",
        "dealing with simulations based on observations of real off counts.\n",
        "\n",
        "\n"
      ]
    },
    {
      "cell_type": "code",
      "execution_count": 7,
      "metadata": {
        "collapsed": false
      },
      "outputs": [
        {
          "name": "stdout",
          "output_type": "stream",
          "text": [
            "SpectrumDatasetOnOff\n",
            "--------------------\n",
            "\n",
            "  Name                            : -MKMVEif \n",
            "\n",
            "  Total counts                    : 288 \n",
            "  Total background counts         : 23.00\n",
            "  Total excess counts             : 265.00\n",
            "\n",
            "  Predicted counts                : 304.14\n",
            "  Predicted background counts     : 22.77\n",
            "  Predicted excess counts         : 281.37\n",
            "\n",
            "  Exposure min                    : 2.53e+08 m2 s\n",
            "  Exposure max                    : 1.77e+10 m2 s\n",
            "\n",
            "  Number of total bins            : 9 \n",
            "  Number of fit bins              : 9 \n",
            "\n",
            "  Fit statistic type              : wstat\n",
            "  Fit statistic value (-2 log(L)) : 6.62\n",
            "\n",
            "  Number of models                : 1 \n",
            "  Number of parameters            : 3\n",
            "  Number of free parameters       : 2\n",
            "\n",
            "  Component 0: SkyModel\n",
            "  \n",
            "    Name                      : source\n",
            "    Datasets names            : None\n",
            "    Spectral model type       : PowerLawSpectralModel\n",
            "    Spatial  model type       : \n",
            "    Temporal model type       : \n",
            "    Parameters:\n",
            "      index                         :      3.000   +/-    0.00             \n",
            "      amplitude                     :   2.50e-12   +/- 0.0e+00 1 / (TeV s cm2)\n",
            "      reference             (frozen):      1.000       TeV         \n",
            "  \n",
            "    Total counts_off                : 115 \n",
            "  Acceptance                      : 9 \n",
            "  Acceptance off                  : 45 \n",
            "\n"
          ]
        }
      ],
      "source": [
        "dataset_on_off = SpectrumDatasetOnOff.from_spectrum_dataset(\n",
        "    dataset=dataset, acceptance=1, acceptance_off=5\n",
        ")\n",
        "dataset_on_off.fake(npred_background=dataset.npred_background())\n",
        "print(dataset_on_off)"
      ]
    },
    {
      "cell_type": "markdown",
      "metadata": {},
      "source": [
        "You can see that off counts are now simulated as well. We now simulate\n",
        "several spectra using the same set of observation conditions.\n",
        "\n",
        "\n"
      ]
    },
    {
      "cell_type": "code",
      "execution_count": 8,
      "metadata": {
        "collapsed": false
      },
      "outputs": [
        {
          "data": {
            "text/html": [
              "<div><i>Table length=100</i>\n",
              "<table id=\"table6010036688\" class=\"table-striped table-bordered table-condensed\">\n",
              "<thead><tr><th>name</th><th>counts</th><th>excess</th><th>sqrt_ts</th><th>background</th><th>npred</th><th>npred_background</th><th>npred_signal</th><th>exposure_min</th><th>exposure_max</th><th>livetime</th><th>ontime</th><th>counts_rate</th><th>background_rate</th><th>excess_rate</th><th>n_bins</th><th>n_fit_bins</th><th>stat_type</th><th>stat_sum</th><th>counts_off</th><th>acceptance</th><th>acceptance_off</th><th>alpha</th></tr></thead>\n",
              "<thead><tr><th></th><th></th><th></th><th></th><th></th><th></th><th></th><th></th><th>m2 s</th><th>m2 s</th><th>s</th><th>s</th><th>1 / s</th><th>1 / s</th><th>1 / s</th><th></th><th></th><th></th><th></th><th></th><th></th><th></th><th></th></tr></thead>\n",
              "<thead><tr><th>str6</th><th>int64</th><th>float64</th><th>float64</th><th>float64</th><th>float64</th><th>float64</th><th>float64</th><th>float64</th><th>float64</th><th>float64</th><th>float64</th><th>float64</th><th>float64</th><th>float64</th><th>int64</th><th>int64</th><th>str5</th><th>float64</th><th>int64</th><th>float64</th><th>float64</th><th>float64</th></tr></thead>\n",
              "<tr><td>obs-0</td><td>317</td><td>298.6</td><td>27.08240194504323</td><td>18.400000000000002</td><td>68.16666666666667</td><td>68.16666666666667</td><td>nan</td><td>252718170.97287455</td><td>17719697919.599255</td><td>3600.000000000002</td><td>3600.000000000002</td><td>0.08805555555555551</td><td>0.005111111111111109</td><td>0.0829444444444444</td><td>9</td><td>9</td><td>wstat</td><td>738.7245908429609</td><td>92</td><td>9.0</td><td>45.0</td><td>0.2</td></tr>\n",
              "<tr><td>obs-1</td><td>275</td><td>253.0</td><td>23.76785365487285</td><td>22.0</td><td>64.16666666666669</td><td>64.16666666666669</td><td>nan</td><td>252718170.97287455</td><td>17719697919.599255</td><td>3600.000000000002</td><td>3600.000000000002</td><td>0.07638888888888885</td><td>0.006111111111111108</td><td>0.07027777777777774</td><td>9</td><td>9</td><td>wstat</td><td>575.779512784738</td><td>110</td><td>9.0</td><td>45.0</td><td>0.2</td></tr>\n",
              "<tr><td>obs-2</td><td>293</td><td>272.4</td><td>25.17110555404655</td><td>20.6</td><td>66.0</td><td>66.0</td><td>nan</td><td>252718170.97287455</td><td>17719697919.599255</td><td>3600.000000000002</td><td>3600.000000000002</td><td>0.08138888888888884</td><td>0.00572222222222222</td><td>0.07566666666666662</td><td>9</td><td>9</td><td>wstat</td><td>645.4993824075303</td><td>103</td><td>9.0</td><td>45.0</td><td>0.2</td></tr>\n",
              "<tr><td>obs-3</td><td>280</td><td>257.6</td><td>23.982951737405354</td><td>22.4</td><td>65.33333333333334</td><td>65.33333333333334</td><td>nan</td><td>252718170.97287455</td><td>17719697919.599255</td><td>3600.000000000002</td><td>3600.000000000002</td><td>0.07777777777777774</td><td>0.006222222222222218</td><td>0.07155555555555553</td><td>9</td><td>9</td><td>wstat</td><td>585.9241546985872</td><td>112</td><td>9.0</td><td>45.00000000000001</td><td>0.19999999999999998</td></tr>\n",
              "<tr><td>obs-4</td><td>337</td><td>316.4</td><td>27.682709945184747</td><td>20.6</td><td>73.33333333333334</td><td>73.33333333333334</td><td>nan</td><td>252718170.97287455</td><td>17719697919.599255</td><td>3600.000000000002</td><td>3600.000000000002</td><td>0.09361111111111106</td><td>0.00572222222222222</td><td>0.08788888888888884</td><td>9</td><td>9</td><td>wstat</td><td>787.314723949448</td><td>103</td><td>9.0</td><td>45.0</td><td>0.2</td></tr>\n",
              "<tr><td>obs-5</td><td>283</td><td>258.6</td><td>23.727154782347895</td><td>24.400000000000002</td><td>67.50000000000001</td><td>67.50000000000001</td><td>nan</td><td>252718170.97287455</td><td>17719697919.599255</td><td>3600.000000000002</td><td>3600.000000000002</td><td>0.07861111111111108</td><td>0.006777777777777775</td><td>0.0718333333333333</td><td>9</td><td>9</td><td>wstat</td><td>574.8525737727499</td><td>122</td><td>9.0</td><td>45.0</td><td>0.2</td></tr>\n",
              "<tr><td>obs-6</td><td>330</td><td>307.6</td><td>26.889184475727866</td><td>22.400000000000006</td><td>73.66666666666667</td><td>73.66666666666667</td><td>nan</td><td>252718170.97287455</td><td>17719697919.599255</td><td>3600.000000000002</td><td>3600.000000000002</td><td>0.09166666666666662</td><td>0.006222222222222221</td><td>0.0854444444444444</td><td>9</td><td>9</td><td>wstat</td><td>734.2414755285937</td><td>112</td><td>9.0</td><td>44.99999999999999</td><td>0.20000000000000004</td></tr>\n",
              "<tr><td>obs-7</td><td>283</td><td>257.2</td><td>23.43087974795853</td><td>25.8</td><td>68.66666666666667</td><td>68.66666666666667</td><td>nan</td><td>252718170.97287455</td><td>17719697919.599255</td><td>3600.000000000002</td><td>3600.000000000002</td><td>0.07861111111111108</td><td>0.007166666666666663</td><td>0.07144444444444441</td><td>9</td><td>9</td><td>wstat</td><td>552.3698779448044</td><td>129</td><td>9.0</td><td>45.0</td><td>0.2</td></tr>\n",
              "<tr><td>obs-8</td><td>308</td><td>284.6</td><td>25.42049273328331</td><td>23.400000000000002</td><td>70.83333333333334</td><td>70.83333333333334</td><td>nan</td><td>252718170.97287455</td><td>17719697919.599255</td><td>3600.000000000002</td><td>3600.000000000002</td><td>0.08555555555555551</td><td>0.006499999999999997</td><td>0.07905555555555552</td><td>9</td><td>9</td><td>wstat</td><td>652.2621572567633</td><td>117</td><td>9.0</td><td>45.0</td><td>0.2</td></tr>\n",
              "<tr><td>...</td><td>...</td><td>...</td><td>...</td><td>...</td><td>...</td><td>...</td><td>...</td><td>...</td><td>...</td><td>...</td><td>...</td><td>...</td><td>...</td><td>...</td><td>...</td><td>...</td><td>...</td><td>...</td><td>...</td><td>...</td><td>...</td><td>...</td></tr>\n",
              "<tr><td>obs-91</td><td>285</td><td>259.8</td><td>23.67754591931069</td><td>25.200000000000003</td><td>68.50000000000001</td><td>68.50000000000001</td><td>nan</td><td>252718170.97287455</td><td>17719697919.599255</td><td>3600.000000000002</td><td>3600.000000000002</td><td>0.07916666666666662</td><td>0.0069999999999999975</td><td>0.07216666666666663</td><td>9</td><td>9</td><td>wstat</td><td>573.3564742963381</td><td>126</td><td>9.0</td><td>45.0</td><td>0.2</td></tr>\n",
              "<tr><td>obs-92</td><td>313</td><td>289.4</td><td>25.664935420194176</td><td>23.6</td><td>71.83333333333336</td><td>71.83333333333336</td><td>nan</td><td>252718170.97287455</td><td>17719697919.599255</td><td>3600.000000000002</td><td>3600.000000000002</td><td>0.0869444444444444</td><td>0.006555555555555552</td><td>0.08038888888888884</td><td>9</td><td>9</td><td>wstat</td><td>669.4496142825196</td><td>118</td><td>9.0</td><td>45.0</td><td>0.2</td></tr>\n",
              "<tr><td>obs-93</td><td>302</td><td>283.2</td><td>26.123867522605497</td><td>18.8</td><td>66.00000000000001</td><td>66.00000000000001</td><td>nan</td><td>252718170.97287455</td><td>17719697919.599255</td><td>3600.000000000002</td><td>3600.000000000002</td><td>0.08388888888888885</td><td>0.00522222222222222</td><td>0.07866666666666662</td><td>9</td><td>9</td><td>wstat</td><td>700.5066738339824</td><td>94</td><td>9.0</td><td>45.0</td><td>0.2</td></tr>\n",
              "<tr><td>obs-94</td><td>322</td><td>300.2</td><td>26.574029757473202</td><td>21.8</td><td>71.83333333333334</td><td>71.83333333333334</td><td>nan</td><td>252718170.97287455</td><td>17719697919.599255</td><td>3600.000000000002</td><td>3600.000000000002</td><td>0.0894444444444444</td><td>0.006055555555555553</td><td>0.08338888888888885</td><td>9</td><td>9</td><td>wstat</td><td>715.2570498037147</td><td>109</td><td>9.0</td><td>45.0</td><td>0.2</td></tr>\n",
              "<tr><td>obs-95</td><td>305</td><td>280.6</td><td>25.030731260493152</td><td>24.400000000000006</td><td>71.16666666666667</td><td>71.16666666666667</td><td>nan</td><td>252718170.97287455</td><td>17719697919.599255</td><td>3600.000000000002</td><td>3600.000000000002</td><td>0.08472222222222218</td><td>0.006777777777777776</td><td>0.07794444444444441</td><td>9</td><td>9</td><td>wstat</td><td>643.2846879404793</td><td>122</td><td>9.0</td><td>44.99999999999999</td><td>0.20000000000000004</td></tr>\n",
              "<tr><td>obs-96</td><td>301</td><td>277.4</td><td>24.969845969421428</td><td>23.6</td><td>69.83333333333334</td><td>69.83333333333334</td><td>nan</td><td>252718170.97287455</td><td>17719697919.599255</td><td>3600.000000000002</td><td>3600.000000000002</td><td>0.08361111111111107</td><td>0.006555555555555552</td><td>0.07705555555555552</td><td>9</td><td>9</td><td>wstat</td><td>626.7396842428624</td><td>118</td><td>9.0</td><td>45.0</td><td>0.2</td></tr>\n",
              "<tr><td>obs-97</td><td>290</td><td>271.2</td><td>25.417982194454826</td><td>18.8</td><td>64.00000000000001</td><td>64.00000000000001</td><td>nan</td><td>252718170.97287455</td><td>17719697919.599255</td><td>3600.000000000002</td><td>3600.000000000002</td><td>0.08055555555555552</td><td>0.00522222222222222</td><td>0.0753333333333333</td><td>9</td><td>9</td><td>wstat</td><td>650.9762484493856</td><td>94</td><td>9.0</td><td>45.0</td><td>0.2</td></tr>\n",
              "<tr><td>obs-98</td><td>301</td><td>280.6</td><td>25.687832964675007</td><td>20.400000000000002</td><td>67.16666666666667</td><td>67.16666666666667</td><td>nan</td><td>252718170.97287455</td><td>17719697919.599255</td><td>3600.000000000002</td><td>3600.000000000002</td><td>0.08361111111111107</td><td>0.0056666666666666645</td><td>0.07794444444444441</td><td>9</td><td>9</td><td>wstat</td><td>664.5620099404952</td><td>102</td><td>9.0</td><td>45.0</td><td>0.2</td></tr>\n",
              "<tr><td>obs-99</td><td>323</td><td>302.2</td><td>26.85707842376871</td><td>20.8</td><td>71.16666666666669</td><td>71.16666666666669</td><td>nan</td><td>252718170.97287455</td><td>17719697919.599255</td><td>3600.000000000002</td><td>3600.000000000002</td><td>0.08972222222222218</td><td>0.005777777777777775</td><td>0.0839444444444444</td><td>9</td><td>9</td><td>wstat</td><td>733.1576598768017</td><td>104</td><td>9.0</td><td>45.0</td><td>0.2</td></tr>\n",
              "</table></div>"
            ],
            "text/plain": [
              "<Table length=100>\n",
              " name  counts  excess ... acceptance   acceptance_off         alpha       \n",
              "                      ...                                                 \n",
              " str6  int64  float64 ...  float64        float64            float64      \n",
              "------ ------ ------- ... ---------- ----------------- -------------------\n",
              " obs-0    317   298.6 ...        9.0              45.0                 0.2\n",
              " obs-1    275   253.0 ...        9.0              45.0                 0.2\n",
              " obs-2    293   272.4 ...        9.0              45.0                 0.2\n",
              " obs-3    280   257.6 ...        9.0 45.00000000000001 0.19999999999999998\n",
              " obs-4    337   316.4 ...        9.0              45.0                 0.2\n",
              " obs-5    283   258.6 ...        9.0              45.0                 0.2\n",
              " obs-6    330   307.6 ...        9.0 44.99999999999999 0.20000000000000004\n",
              " obs-7    283   257.2 ...        9.0              45.0                 0.2\n",
              " obs-8    308   284.6 ...        9.0              45.0                 0.2\n",
              "   ...    ...     ... ...        ...               ...                 ...\n",
              "obs-91    285   259.8 ...        9.0              45.0                 0.2\n",
              "obs-92    313   289.4 ...        9.0              45.0                 0.2\n",
              "obs-93    302   283.2 ...        9.0              45.0                 0.2\n",
              "obs-94    322   300.2 ...        9.0              45.0                 0.2\n",
              "obs-95    305   280.6 ...        9.0 44.99999999999999 0.20000000000000004\n",
              "obs-96    301   277.4 ...        9.0              45.0                 0.2\n",
              "obs-97    290   271.2 ...        9.0              45.0                 0.2\n",
              "obs-98    301   280.6 ...        9.0              45.0                 0.2\n",
              "obs-99    323   302.2 ...        9.0              45.0                 0.2"
            ]
          },
          "metadata": {},
          "output_type": "display_data"
        }
      ],
      "source": [
        "n_obs = 100\n",
        "datasets = Datasets()\n",
        "\n",
        "for idx in range(n_obs):\n",
        "    dataset_on_off.fake(random_state=idx, npred_background=dataset.npred_background())\n",
        "    dataset_fake = dataset_on_off.copy(name=f\"obs-{idx}\")\n",
        "    dataset_fake.meta_table[\"OBS_ID\"] = [idx]\n",
        "    datasets.append(dataset_fake)\n",
        "\n",
        "table = datasets.info_table()\n",
        "display(table)"
      ]
    },
    {
      "cell_type": "markdown",
      "metadata": {},
      "source": [
        "Before moving on to the fit let’s have a look at the simulated\n",
        "observations.\n",
        "\n",
        "\n"
      ]
    },
    {
      "cell_type": "code",
      "execution_count": 9,
      "metadata": {
        "collapsed": false
      },
      "outputs": [
        {
          "data": {
            "image/png": "[encoded data removed]",
            "text/plain": [
              "<Figure size 1200x400 with 3 Axes>"
            ]
          },
          "metadata": {},
          "output_type": "display_data"
        }
      ],
      "source": [
        "fix, axes = plt.subplots(1, 3, figsize=(12, 4))\n",
        "axes[0].hist(table[\"counts\"])\n",
        "axes[0].set_xlabel(\"Counts\")\n",
        "axes[1].hist(table[\"counts_off\"])\n",
        "axes[1].set_xlabel(\"Counts Off\")\n",
        "axes[2].hist(table[\"excess\"])\n",
        "axes[2].set_xlabel(\"excess\")\n",
        "plt.show()"
      ]
    },
    {
      "cell_type": "markdown",
      "metadata": {},
      "source": [
        "Now, we fit each simulated spectrum individually\n",
        "\n",
        "\n"
      ]
    },
    {
      "cell_type": "code",
      "execution_count": 10,
      "metadata": {
        "collapsed": false
      },
      "outputs": [],
      "source": [
        "results = []\n",
        "\n",
        "fit = Fit()\n",
        "\n",
        "for dataset in datasets:\n",
        "    dataset.models = model.copy()\n",
        "    result = fit.optimize(dataset)\n",
        "    results.append(\n",
        "        {\n",
        "            \"index\": result.parameters[\"index\"].value,\n",
        "            \"amplitude\": result.parameters[\"amplitude\"].value,\n",
        "        }\n",
        "    )"
      ]
    },
    {
      "cell_type": "markdown",
      "metadata": {},
      "source": [
        "We take a look at the distribution of the fitted indices. This matches\n",
        "very well with the spectrum that we initially injected.\n",
        "\n",
        "\n"
      ]
    },
    {
      "cell_type": "code",
      "execution_count": 11,
      "metadata": {
        "collapsed": false
      },
      "outputs": [
        {
          "name": "stdout",
          "output_type": "stream",
          "text": [
            "index: 3.003692555041712 += 0.08081469527767825\n"
          ]
        },
        {
          "data": {
            "image/png": "[encoded data removed]",
            "text/plain": [
              "<Figure size 640x480 with 1 Axes>"
            ]
          },
          "metadata": {},
          "output_type": "display_data"
        }
      ],
      "source": [
        "fig, ax = plt.subplots()\n",
        "index = np.array([_[\"index\"] for _ in results])\n",
        "ax.hist(index, bins=10, alpha=0.5)\n",
        "ax.axvline(x=model_simu.parameters[\"index\"].value, color=\"red\")\n",
        "ax.set_xlabel(\"Reconstructed spectral index\")\n",
        "print(f\"index: {index.mean()} += {index.std()}\")\n",
        "plt.show()"
      ]
    },
    {
      "cell_type": "markdown",
      "metadata": {},
      "source": [
        "## Exercises\n",
        "\n",
        "-  Change the observation time to something longer or shorter. Does the\n",
        "   observation and spectrum results change as you expected?\n",
        "-  Change the spectral model, e.g. add a cutoff at 5 TeV, or put a\n",
        "   steep-spectrum source with spectral index of 4.0\n",
        "-  Simulate spectra with the spectral model we just defined. How much\n",
        "   observation duration do you need to get back the injected parameters?\n",
        "\n",
        "\n"
      ]
    },
    {
      "cell_type": "code",
      "execution_count": 15,
      "metadata": {},
      "outputs": [
        {
          "name": "stdout",
          "output_type": "stream",
          "text": [
            "Observation\n",
            "\n",
            "\tobs id            : 0 \n",
            " \ttstart            : 51544.00\n",
            "\ttstop             : 51544.02\n",
            "\tduration          : 1800.00 s\n",
            "\tpointing (icrs)   : 266.4 deg, -28.9 deg\n",
            "\n",
            "\tdeadtime fraction : 0.0%\n",
            "\n",
            "SpectrumDataset\n",
            "---------------\n",
            "\n",
            "  Name                            : obs-0 \n",
            "\n",
            "  Total counts                    : 144 \n",
            "  Total background counts         : 11.15\n",
            "  Total excess counts             : 132.85\n",
            "\n",
            "  Predicted counts                : 151.83\n",
            "  Predicted background counts     : 11.15\n",
            "  Predicted excess counts         : 140.69\n",
            "\n",
            "  Exposure min                    : 1.26e+08 m2 s\n",
            "  Exposure max                    : 8.86e+09 m2 s\n",
            "\n",
            "  Number of total bins            : 9 \n",
            "  Number of fit bins              : 9 \n",
            "\n",
            "  Fit statistic type              : cash\n",
            "  Fit statistic value (-2 log(L)) : -671.89\n",
            "\n",
            "  Number of models                : 1 \n",
            "  Number of parameters            : 3\n",
            "  Number of free parameters       : 2\n",
            "\n",
            "  Component 0: SkyModel\n",
            "  \n",
            "    Name                      : source\n",
            "    Datasets names            : None\n",
            "    Spectral model type       : PowerLawSpectralModel\n",
            "    Spatial  model type       : \n",
            "    Temporal model type       : \n",
            "    Parameters:\n",
            "      index                         :      3.000   +/-    0.00             \n",
            "      amplitude                     :   2.50e-12   +/- 0.0e+00 1 / (TeV s cm2)\n",
            "      reference             (frozen):      1.000       TeV         \n",
            "  \n",
            "  \n",
            "SpectrumDatasetOnOff\n",
            "--------------------\n",
            "\n",
            "  Name                            : VuShQZfX \n",
            "\n",
            "  Total counts                    : 155 \n",
            "  Total background counts         : 10.80\n",
            "  Total excess counts             : 144.20\n",
            "\n",
            "  Predicted counts                : 151.39\n",
            "  Predicted background counts     : 10.71\n",
            "  Predicted excess counts         : 140.69\n",
            "\n",
            "  Exposure min                    : 1.26e+08 m2 s\n",
            "  Exposure max                    : 8.86e+09 m2 s\n",
            "\n",
            "  Number of total bins            : 9 \n",
            "  Number of fit bins              : 9 \n",
            "\n",
            "  Fit statistic type              : wstat\n",
            "  Fit statistic value (-2 log(L)) : 14.55\n",
            "\n",
            "  Number of models                : 1 \n",
            "  Number of parameters            : 3\n",
            "  Number of free parameters       : 2\n",
            "\n",
            "  Component 0: SkyModel\n",
            "  \n",
            "    Name                      : source\n",
            "    Datasets names            : None\n",
            "    Spectral model type       : PowerLawSpectralModel\n",
            "    Spatial  model type       : \n",
            "    Temporal model type       : \n",
            "    Parameters:\n",
            "      index                         :      3.000   +/-    0.00             \n",
            "      amplitude                     :   2.50e-12   +/- 0.0e+00 1 / (TeV s cm2)\n",
            "      reference             (frozen):      1.000       TeV         \n",
            "  \n",
            "    Total counts_off                : 54 \n",
            "  Acceptance                      : 9 \n",
            "  Acceptance off                  : 45 \n",
            "\n"
          ]
        },
        {
          "data": {
            "text/html": [
              "<div><i>Table length=100</i>\n",
              "<table id=\"table6073761296\" class=\"table-striped table-bordered table-condensed\">\n",
              "<thead><tr><th>name</th><th>counts</th><th>excess</th><th>sqrt_ts</th><th>background</th><th>npred</th><th>npred_background</th><th>npred_signal</th><th>exposure_min</th><th>exposure_max</th><th>livetime</th><th>ontime</th><th>counts_rate</th><th>background_rate</th><th>excess_rate</th><th>n_bins</th><th>n_fit_bins</th><th>stat_type</th><th>stat_sum</th><th>counts_off</th><th>acceptance</th><th>acceptance_off</th><th>alpha</th></tr></thead>\n",
              "<thead><tr><th></th><th></th><th></th><th></th><th></th><th></th><th></th><th></th><th>m2 s</th><th>m2 s</th><th>s</th><th>s</th><th>1 / s</th><th>1 / s</th><th>1 / s</th><th></th><th></th><th></th><th></th><th></th><th></th><th></th><th></th></tr></thead>\n",
              "<thead><tr><th>str6</th><th>int64</th><th>float64</th><th>float64</th><th>float64</th><th>float64</th><th>float64</th><th>float64</th><th>float64</th><th>float64</th><th>float64</th><th>float64</th><th>float64</th><th>float64</th><th>float64</th><th>int64</th><th>int64</th><th>str5</th><th>float64</th><th>int64</th><th>float64</th><th>float64</th><th>float64</th></tr></thead>\n",
              "<tr><td>obs-0</td><td>157</td><td>147.4</td><td>18.893854325404533</td><td>9.6</td><td>34.16666666666667</td><td>34.16666666666667</td><td>nan</td><td>126359085.4864371</td><td>8859848959.799614</td><td>1799.9999999999984</td><td>1799.9999999999984</td><td>0.0872222222222223</td><td>0.0053333333333333375</td><td>0.08188888888888897</td><td>9</td><td>9</td><td>wstat</td><td>363.2716491636674</td><td>48</td><td>9.0</td><td>45.00000000000001</td><td>0.19999999999999998</td></tr>\n",
              "<tr><td>obs-1</td><td>135</td><td>123.8</td><td>16.525441025261564</td><td>11.2</td><td>31.833333333333336</td><td>31.833333333333336</td><td>nan</td><td>126359085.4864371</td><td>8859848959.799614</td><td>1799.9999999999984</td><td>1799.9999999999984</td><td>0.07500000000000007</td><td>0.006222222222222227</td><td>0.06877777777777784</td><td>9</td><td>9</td><td>wstat</td><td>284.6176898632265</td><td>56</td><td>9.0</td><td>45.00000000000001</td><td>0.19999999999999998</td></tr>\n",
              "<tr><td>obs-2</td><td>141</td><td>130.8</td><td>17.366382751775095</td><td>10.200000000000001</td><td>32.00000000000001</td><td>32.00000000000001</td><td>nan</td><td>126359085.4864371</td><td>8859848959.799614</td><td>1799.9999999999984</td><td>1799.9999999999984</td><td>0.07833333333333341</td><td>0.005666666666666672</td><td>0.07266666666666674</td><td>9</td><td>9</td><td>wstat</td><td>311.3827520854396</td><td>51</td><td>9.0</td><td>45.0</td><td>0.2</td></tr>\n",
              "<tr><td>obs-3</td><td>133</td><td>122.2</td><td>16.477477640122057</td><td>10.8</td><td>31.16666666666667</td><td>31.16666666666667</td><td>nan</td><td>126359085.4864371</td><td>8859848959.799614</td><td>1799.9999999999984</td><td>1799.9999999999984</td><td>0.07388888888888895</td><td>0.006000000000000005</td><td>0.06788888888888896</td><td>9</td><td>9</td><td>wstat</td><td>285.7368024492199</td><td>54</td><td>9.0</td><td>45.0</td><td>0.2</td></tr>\n",
              "<tr><td>obs-4</td><td>175</td><td>161.6</td><td>19.131255715503688</td><td>13.4</td><td>40.33333333333334</td><td>40.33333333333334</td><td>nan</td><td>126359085.4864371</td><td>8859848959.799614</td><td>1799.9999999999984</td><td>1799.9999999999984</td><td>0.09722222222222231</td><td>0.0074444444444444514</td><td>0.08977777777777786</td><td>9</td><td>9</td><td>wstat</td><td>372.4298995041811</td><td>67</td><td>9.0</td><td>45.0</td><td>0.2</td></tr>\n",
              "<tr><td>obs-5</td><td>138</td><td>126.0</td><td>16.537648585491905</td><td>12.0</td><td>33.00000000000001</td><td>33.00000000000001</td><td>nan</td><td>126359085.4864371</td><td>8859848959.799614</td><td>1799.9999999999984</td><td>1799.9999999999984</td><td>0.07666666666666673</td><td>0.006666666666666672</td><td>0.07000000000000006</td><td>9</td><td>9</td><td>wstat</td><td>287.73804582792326</td><td>60</td><td>9.0</td><td>45.0</td><td>0.2</td></tr>\n",
              "<tr><td>obs-6</td><td>174</td><td>163.4</td><td>19.903096727347393</td><td>10.600000000000001</td><td>37.833333333333336</td><td>37.833333333333336</td><td>nan</td><td>126359085.4864371</td><td>8859848959.799614</td><td>1799.9999999999984</td><td>1799.9999999999984</td><td>0.09666666666666675</td><td>0.005888888888888895</td><td>0.09077777777777786</td><td>9</td><td>9</td><td>wstat</td><td>406.1528745829105</td><td>53</td><td>9.0</td><td>44.99999999999999</td><td>0.20000000000000004</td></tr>\n",
              "<tr><td>obs-7</td><td>134</td><td>121.0</td><td>15.888657318013436</td><td>13.0</td><td>33.16666666666667</td><td>33.16666666666667</td><td>nan</td><td>126359085.4864371</td><td>8859848959.799614</td><td>1799.9999999999984</td><td>1799.9999999999984</td><td>0.07444444444444451</td><td>0.007222222222222229</td><td>0.06722222222222228</td><td>9</td><td>9</td><td>wstat</td><td>257.7707398323575</td><td>65</td><td>9.0</td><td>45.0</td><td>0.2</td></tr>\n",
              "<tr><td>obs-8</td><td>154</td><td>140.8</td><td>17.52564033394757</td><td>13.2</td><td>36.66666666666667</td><td>36.66666666666667</td><td>nan</td><td>126359085.4864371</td><td>8859848959.799614</td><td>1799.9999999999984</td><td>1799.9999999999984</td><td>0.08555555555555563</td><td>0.007333333333333339</td><td>0.0782222222222223</td><td>9</td><td>9</td><td>wstat</td><td>314.5706964065001</td><td>66</td><td>9.0</td><td>45.00000000000001</td><td>0.19999999999999998</td></tr>\n",
              "<tr><td>...</td><td>...</td><td>...</td><td>...</td><td>...</td><td>...</td><td>...</td><td>...</td><td>...</td><td>...</td><td>...</td><td>...</td><td>...</td><td>...</td><td>...</td><td>...</td><td>...</td><td>...</td><td>...</td><td>...</td><td>...</td><td>...</td><td>...</td></tr>\n",
              "<tr><td>obs-91</td><td>134</td><td>120.6</td><td>15.77161788495378</td><td>13.4</td><td>33.50000000000001</td><td>33.50000000000001</td><td>nan</td><td>126359085.4864371</td><td>8859848959.799614</td><td>1799.9999999999984</td><td>1799.9999999999984</td><td>0.07444444444444451</td><td>0.0074444444444444514</td><td>0.06700000000000006</td><td>9</td><td>9</td><td>wstat</td><td>252.9385432999656</td><td>67</td><td>9.0</td><td>45.0</td><td>0.2</td></tr>\n",
              "<tr><td>obs-92</td><td>156</td><td>143.4</td><td>17.86555632166972</td><td>12.600000000000001</td><td>36.5</td><td>36.5</td><td>nan</td><td>126359085.4864371</td><td>8859848959.799614</td><td>1799.9999999999984</td><td>1799.9999999999984</td><td>0.08666666666666674</td><td>0.007000000000000007</td><td>0.07966666666666675</td><td>9</td><td>9</td><td>wstat</td><td>323.7304521682154</td><td>63</td><td>9.0</td><td>45.0</td><td>0.2</td></tr>\n",
              "<tr><td>obs-93</td><td>152</td><td>143.0</td><td>18.691732184327215</td><td>9.000000000000002</td><td>32.833333333333336</td><td>32.833333333333336</td><td>nan</td><td>126359085.4864371</td><td>8859848959.799614</td><td>1799.9999999999984</td><td>1799.9999999999984</td><td>0.08444444444444452</td><td>0.005000000000000005</td><td>0.07944444444444451</td><td>9</td><td>9</td><td>wstat</td><td>359.0397570540536</td><td>45</td><td>9.0</td><td>44.99999999999999</td><td>0.20000000000000004</td></tr>\n",
              "<tr><td>obs-94</td><td>161</td><td>150.8</td><td>19.016024492158248</td><td>10.200000000000001</td><td>35.333333333333336</td><td>35.333333333333336</td><td>nan</td><td>126359085.4864371</td><td>8859848959.799614</td><td>1799.9999999999984</td><td>1799.9999999999984</td><td>0.08944444444444452</td><td>0.005666666666666672</td><td>0.08377777777777785</td><td>9</td><td>9</td><td>wstat</td><td>368.69662111960656</td><td>51</td><td>9.0</td><td>45.0</td><td>0.2</td></tr>\n",
              "<tr><td>obs-95</td><td>159</td><td>150.2</td><td>19.328279923786926</td><td>8.8</td><td>33.833333333333336</td><td>33.833333333333336</td><td>nan</td><td>126359085.4864371</td><td>8859848959.799614</td><td>1799.9999999999984</td><td>1799.9999999999984</td><td>0.08833333333333342</td><td>0.004888888888888894</td><td>0.08344444444444452</td><td>9</td><td>9</td><td>wstat</td><td>377.8665695817064</td><td>44</td><td>9.0</td><td>45.0</td><td>0.2</td></tr>\n",
              "<tr><td>obs-96</td><td>148</td><td>138.0</td><td>18.022662067321136</td><td>10.0</td><td>33.00000000000001</td><td>33.00000000000001</td><td>nan</td><td>126359085.4864371</td><td>8859848959.799614</td><td>1799.9999999999984</td><td>1799.9999999999984</td><td>0.0822222222222223</td><td>0.00555555555555556</td><td>0.07666666666666673</td><td>9</td><td>9</td><td>wstat</td><td>335.54886886530295</td><td>50</td><td>9.0</td><td>45.0</td><td>0.2</td></tr>\n",
              "<tr><td>obs-97</td><td>142</td><td>132.2</td><td>17.58442566268123</td><td>9.8</td><td>31.83333333333334</td><td>31.83333333333334</td><td>nan</td><td>126359085.4864371</td><td>8859848959.799614</td><td>1799.9999999999984</td><td>1799.9999999999984</td><td>0.07888888888888895</td><td>0.00544444444444445</td><td>0.0734444444444445</td><td>9</td><td>9</td><td>wstat</td><td>317.3749906596429</td><td>49</td><td>9.0</td><td>45.0</td><td>0.2</td></tr>\n",
              "<tr><td>obs-98</td><td>154</td><td>145.2</td><td>18.924654783992178</td><td>8.799999999999999</td><td>33.00000000000001</td><td>33.00000000000001</td><td>nan</td><td>126359085.4864371</td><td>8859848959.799614</td><td>1799.9999999999984</td><td>1799.9999999999984</td><td>0.08555555555555563</td><td>0.004888888888888892</td><td>0.08066666666666673</td><td>9</td><td>9</td><td>wstat</td><td>364.1417378660277</td><td>44</td><td>9.0</td><td>45.00000000000001</td><td>0.19999999999999998</td></tr>\n",
              "<tr><td>obs-99</td><td>160</td><td>149.2</td><td>18.742516420191237</td><td>10.8</td><td>35.66666666666667</td><td>35.66666666666667</td><td>nan</td><td>126359085.4864371</td><td>8859848959.799614</td><td>1799.9999999999984</td><td>1799.9999999999984</td><td>0.08888888888888896</td><td>0.006000000000000005</td><td>0.08288888888888896</td><td>9</td><td>9</td><td>wstat</td><td>357.47407651504057</td><td>54</td><td>9.0</td><td>45.0</td><td>0.2</td></tr>\n",
              "</table></div>"
            ],
            "text/plain": [
              "<Table length=100>\n",
              " name  counts  excess ... acceptance   acceptance_off         alpha       \n",
              "                      ...                                                 \n",
              " str6  int64  float64 ...  float64        float64            float64      \n",
              "------ ------ ------- ... ---------- ----------------- -------------------\n",
              " obs-0    157   147.4 ...        9.0 45.00000000000001 0.19999999999999998\n",
              " obs-1    135   123.8 ...        9.0 45.00000000000001 0.19999999999999998\n",
              " obs-2    141   130.8 ...        9.0              45.0                 0.2\n",
              " obs-3    133   122.2 ...        9.0              45.0                 0.2\n",
              " obs-4    175   161.6 ...        9.0              45.0                 0.2\n",
              " obs-5    138   126.0 ...        9.0              45.0                 0.2\n",
              " obs-6    174   163.4 ...        9.0 44.99999999999999 0.20000000000000004\n",
              " obs-7    134   121.0 ...        9.0              45.0                 0.2\n",
              " obs-8    154   140.8 ...        9.0 45.00000000000001 0.19999999999999998\n",
              "   ...    ...     ... ...        ...               ...                 ...\n",
              "obs-91    134   120.6 ...        9.0              45.0                 0.2\n",
              "obs-92    156   143.4 ...        9.0              45.0                 0.2\n",
              "obs-93    152   143.0 ...        9.0 44.99999999999999 0.20000000000000004\n",
              "obs-94    161   150.8 ...        9.0              45.0                 0.2\n",
              "obs-95    159   150.2 ...        9.0              45.0                 0.2\n",
              "obs-96    148   138.0 ...        9.0              45.0                 0.2\n",
              "obs-97    142   132.2 ...        9.0              45.0                 0.2\n",
              "obs-98    154   145.2 ...        9.0 45.00000000000001 0.19999999999999998\n",
              "obs-99    160   149.2 ...        9.0              45.0                 0.2"
            ]
          },
          "metadata": {},
          "output_type": "display_data"
        },
        {
          "data": {
            "image/png": "[encoded data removed]",
            "text/plain": [
              "<Figure size 1200x400 with 3 Axes>"
            ]
          },
          "metadata": {},
          "output_type": "display_data"
        },
        {
          "name": "stdout",
          "output_type": "stream",
          "text": [
            "index: 3.00776953249691 ± 0.13086329572034083\n"
          ]
        },
        {
          "data": {
            "image/png": "[encoded data removed]",
            "text/plain": [
              "<Figure size 640x480 with 1 Axes>"
            ]
          },
          "metadata": {},
          "output_type": "display_data"
        }
      ],
      "source": [
        "# Create a short observation (0.5 h livetime)\n",
        "obs_short = Observation.create(\n",
        "    pointing=pointing,\n",
        "    livetime=0.5 * u.h,\n",
        "    irfs=irfs,\n",
        "    location=location,\n",
        ")\n",
        "print(obs_short)\n",
        "\n",
        "# Create a SpectrumDataset for the short observation\n",
        "ds_short = maker.run(dataset_empty, obs_short)\n",
        "\n",
        "# Set the model and simulate counts\n",
        "ds_short.models = model\n",
        "ds_short.fake(random_state=42)\n",
        "print(ds_short)\n",
        "\n",
        "# Create an on-off dataset and simulate background\n",
        "dataset_on_off = SpectrumDatasetOnOff.from_spectrum_dataset(\n",
        "    dataset=ds_short, acceptance=1, acceptance_off=5\n",
        ")\n",
        "dataset_on_off.fake(npred_background=ds_short.npred_background())\n",
        "print(dataset_on_off)\n",
        "\n",
        "# Simulate a set of observations using the short observation settings\n",
        "n_obs = 100\n",
        "datasets_short = Datasets()\n",
        "\n",
        "for idx in range(n_obs):\n",
        "    # Use the background prediction from ds_short\n",
        "    dataset_on_off.fake(random_state=idx, npred_background=ds_short.npred_background())\n",
        "    dataset_fake = dataset_on_off.copy(name=f\"obs-{idx}\")\n",
        "    dataset_fake.meta_table[\"OBS_ID\"] = [idx]\n",
        "    datasets_short.append(dataset_fake)\n",
        "\n",
        "table = datasets_short.info_table()\n",
        "display(table)\n",
        "\n",
        "# Plot histograms of counts, off counts, and excess\n",
        "fig, axes = plt.subplots(1, 3, figsize=(12, 4))\n",
        "axes[0].hist(table[\"counts\"])\n",
        "axes[0].set_xlabel(\"Counts\")\n",
        "axes[1].hist(table[\"counts_off\"])\n",
        "axes[1].set_xlabel(\"Counts Off\")\n",
        "axes[2].hist(table[\"excess\"])\n",
        "axes[2].set_xlabel(\"Excess\")\n",
        "plt.show()\n",
        "\n",
        "# Fit each simulated spectrum\n",
        "results = []\n",
        "fit = Fit()\n",
        "\n",
        "for ds in datasets_short:\n",
        "    ds.models = model.copy()\n",
        "    result = fit.optimize(ds)\n",
        "    results.append(\n",
        "        {\n",
        "            \"index\": result.parameters[\"index\"].value,\n",
        "            \"amplitude\": result.parameters[\"amplitude\"].value,\n",
        "        }\n",
        "    )\n",
        "\n",
        "# Plot the distribution of the fitted spectral indices\n",
        "fig, ax = plt.subplots()\n",
        "index = np.array([_[\"index\"] for _ in results])\n",
        "ax.hist(index, bins=10, alpha=0.5)\n",
        "ax.axvline(x=model_simu.parameters[\"index\"].value, color=\"red\")\n",
        "ax.set_xlabel(\"Reconstructed spectral index\")\n",
        "print(f\"index: {index.mean()} ± {index.std()}\")\n",
        "plt.show()\n"
      ]
    },
    {
      "cell_type": "code",
      "execution_count": 16,
      "metadata": {},
      "outputs": [
        {
          "name": "stdout",
          "output_type": "stream",
          "text": [
            "PowerLawSpectralModel\n",
            "\n",
            "type    name     value         unit        error   min max frozen link prior\n",
            "---- --------- ---------- -------------- --------- --- --- ------ ---- -----\n",
            "         index 4.0000e+00                0.000e+00 nan nan  False           \n",
            "     amplitude 2.5000e-12 TeV-1 s-1 cm-2 0.000e+00 nan nan  False           \n",
            "     reference 1.0000e+00            TeV 0.000e+00 nan nan   True           \n",
            "Observation\n",
            "\n",
            "\tobs id            : 0 \n",
            " \ttstart            : 51544.00\n",
            "\ttstop             : 51544.04\n",
            "\tduration          : 3600.00 s\n",
            "\tpointing (icrs)   : 266.4 deg, -28.9 deg\n",
            "\n",
            "\tdeadtime fraction : 0.0%\n",
            "\n",
            "SpectrumDataset\n",
            "---------------\n",
            "\n",
            "  Name                            : obs-0 \n",
            "\n",
            "  Total counts                    : 530 \n",
            "  Total background counts         : 22.29\n",
            "  Total excess counts             : 507.71\n",
            "\n",
            "  Predicted counts                : 534.76\n",
            "  Predicted background counts     : 22.29\n",
            "  Predicted excess counts         : 512.47\n",
            "\n",
            "  Exposure min                    : 2.53e+08 m2 s\n",
            "  Exposure max                    : 1.77e+10 m2 s\n",
            "\n",
            "  Number of total bins            : 9 \n",
            "  Number of fit bins              : 9 \n",
            "\n",
            "  Fit statistic type              : cash\n",
            "  Fit statistic value (-2 log(L)) : -4326.94\n",
            "\n",
            "  Number of models                : 1 \n",
            "  Number of parameters            : 3\n",
            "  Number of free parameters       : 2\n",
            "\n",
            "  Component 0: SkyModel\n",
            "  \n",
            "    Name                      : source\n",
            "    Datasets names            : None\n",
            "    Spectral model type       : PowerLawSpectralModel\n",
            "    Spatial  model type       : \n",
            "    Temporal model type       : \n",
            "    Parameters:\n",
            "      index                         :      4.000   +/-    0.00             \n",
            "      amplitude                     :   2.50e-12   +/- 0.0e+00 1 / (TeV s cm2)\n",
            "      reference             (frozen):      1.000       TeV         \n",
            "  \n",
            "  \n",
            "SpectrumDatasetOnOff\n",
            "--------------------\n",
            "\n",
            "  Name                            : tiTt-UKb \n",
            "\n",
            "  Total counts                    : 515 \n",
            "  Total background counts         : 20.60\n",
            "  Total excess counts             : 494.40\n",
            "\n",
            "  Predicted counts                : 532.85\n",
            "  Predicted background counts     : 20.39\n",
            "  Predicted excess counts         : 512.47\n",
            "\n",
            "  Exposure min                    : 2.53e+08 m2 s\n",
            "  Exposure max                    : 1.77e+10 m2 s\n",
            "\n",
            "  Number of total bins            : 9 \n",
            "  Number of fit bins              : 9 \n",
            "\n",
            "  Fit statistic type              : wstat\n",
            "  Fit statistic value (-2 log(L)) : 8.69\n",
            "\n",
            "  Number of models                : 1 \n",
            "  Number of parameters            : 3\n",
            "  Number of free parameters       : 2\n",
            "\n",
            "  Component 0: SkyModel\n",
            "  \n",
            "    Name                      : source\n",
            "    Datasets names            : None\n",
            "    Spectral model type       : PowerLawSpectralModel\n",
            "    Spatial  model type       : \n",
            "    Temporal model type       : \n",
            "    Parameters:\n",
            "      index                         :      4.000   +/-    0.00             \n",
            "      amplitude                     :   2.50e-12   +/- 0.0e+00 1 / (TeV s cm2)\n",
            "      reference             (frozen):      1.000       TeV         \n",
            "  \n",
            "    Total counts_off                : 103 \n",
            "  Acceptance                      : 9 \n",
            "  Acceptance off                  : 45 \n",
            "\n"
          ]
        },
        {
          "data": {
            "text/html": [
              "<div><i>Table length=100</i>\n",
              "<table id=\"table6082196496\" class=\"table-striped table-bordered table-condensed\">\n",
              "<thead><tr><th>name</th><th>counts</th><th>excess</th><th>sqrt_ts</th><th>background</th><th>npred</th><th>npred_background</th><th>npred_signal</th><th>exposure_min</th><th>exposure_max</th><th>livetime</th><th>ontime</th><th>counts_rate</th><th>background_rate</th><th>excess_rate</th><th>n_bins</th><th>n_fit_bins</th><th>stat_type</th><th>stat_sum</th><th>counts_off</th><th>acceptance</th><th>acceptance_off</th><th>alpha</th></tr></thead>\n",
              "<thead><tr><th></th><th></th><th></th><th></th><th></th><th></th><th></th><th></th><th>m2 s</th><th>m2 s</th><th>s</th><th>s</th><th>1 / s</th><th>1 / s</th><th>1 / s</th><th></th><th></th><th></th><th></th><th></th><th></th><th></th><th></th></tr></thead>\n",
              "<thead><tr><th>str6</th><th>int64</th><th>float64</th><th>float64</th><th>float64</th><th>float64</th><th>float64</th><th>float64</th><th>float64</th><th>float64</th><th>float64</th><th>float64</th><th>float64</th><th>float64</th><th>float64</th><th>int64</th><th>int64</th><th>str5</th><th>float64</th><th>int64</th><th>float64</th><th>float64</th><th>float64</th></tr></thead>\n",
              "<tr><td>obs-0</td><td>538</td><td>516.4</td><td>37.203734248898606</td><td>21.599999999999998</td><td>107.66666666666669</td><td>107.66666666666669</td><td>nan</td><td>252718170.97287455</td><td>17719697919.599255</td><td>3600.000000000002</td><td>3600.000000000002</td><td>0.14944444444444438</td><td>0.005999999999999997</td><td>0.14344444444444437</td><td>9</td><td>9</td><td>wstat</td><td>1405.6347270126785</td><td>108</td><td>9.0</td><td>45.00000000000001</td><td>0.19999999999999998</td></tr>\n",
              "<tr><td>obs-1</td><td>503</td><td>481.0</td><td>35.57702557374587</td><td>22.0</td><td>102.16666666666669</td><td>102.16666666666669</td><td>nan</td><td>252718170.97287455</td><td>17719697919.599255</td><td>3600.000000000002</td><td>3600.000000000002</td><td>0.13972222222222216</td><td>0.006111111111111108</td><td>0.13361111111111104</td><td>9</td><td>9</td><td>wstat</td><td>1306.8165261159625</td><td>110</td><td>9.0</td><td>45.0</td><td>0.2</td></tr>\n",
              "<tr><td>obs-2</td><td>523</td><td>499.8</td><td>36.20878690377295</td><td>23.200000000000003</td><td>106.50000000000001</td><td>106.50000000000001</td><td>nan</td><td>252718170.97287455</td><td>17719697919.599255</td><td>3600.000000000002</td><td>3600.000000000002</td><td>0.1452777777777777</td><td>0.006444444444444442</td><td>0.13883333333333325</td><td>9</td><td>9</td><td>wstat</td><td>1333.8674632071106</td><td>116</td><td>9.0</td><td>45.0</td><td>0.2</td></tr>\n",
              "<tr><td>obs-3</td><td>505</td><td>482.6</td><td>35.580563203540606</td><td>22.4</td><td>102.83333333333334</td><td>102.83333333333334</td><td>nan</td><td>252718170.97287455</td><td>17719697919.599255</td><td>3600.000000000002</td><td>3600.000000000002</td><td>0.1402777777777777</td><td>0.006222222222222218</td><td>0.13405555555555548</td><td>9</td><td>9</td><td>wstat</td><td>1288.9360677247703</td><td>112</td><td>9.0</td><td>45.00000000000001</td><td>0.19999999999999998</td></tr>\n",
              "<tr><td>obs-4</td><td>586</td><td>563.4</td><td>39.02121823496922</td><td>22.6</td><td>116.50000000000003</td><td>116.50000000000003</td><td>nan</td><td>252718170.97287455</td><td>17719697919.599255</td><td>3600.000000000002</td><td>3600.000000000002</td><td>0.1627777777777777</td><td>0.006277777777777775</td><td>0.15649999999999992</td><td>9</td><td>9</td><td>wstat</td><td>1548.037928744606</td><td>113</td><td>9.0</td><td>45.0</td><td>0.2</td></tr>\n",
              "<tr><td>obs-5</td><td>515</td><td>490.6</td><td>35.60543799143957</td><td>24.400000000000002</td><td>106.16666666666666</td><td>106.16666666666666</td><td>nan</td><td>252718170.97287455</td><td>17719697919.599255</td><td>3600.000000000002</td><td>3600.000000000002</td><td>0.1430555555555555</td><td>0.006777777777777775</td><td>0.13627777777777772</td><td>9</td><td>9</td><td>wstat</td><td>1289.1893920604057</td><td>122</td><td>9.0</td><td>45.0</td><td>0.2</td></tr>\n",
              "<tr><td>obs-6</td><td>573</td><td>550.6</td><td>38.5220891251129</td><td>22.400000000000006</td><td>114.16666666666669</td><td>114.16666666666669</td><td>nan</td><td>252718170.97287455</td><td>17719697919.599255</td><td>3600.000000000002</td><td>3600.000000000002</td><td>0.1591666666666666</td><td>0.006222222222222221</td><td>0.15294444444444438</td><td>9</td><td>9</td><td>wstat</td><td>1502.767223846411</td><td>112</td><td>9.0</td><td>44.99999999999999</td><td>0.20000000000000004</td></tr>\n",
              "<tr><td>obs-7</td><td>502</td><td>476.4</td><td>34.779133412900165</td><td>25.6</td><td>105.0</td><td>105.0</td><td>nan</td><td>252718170.97287455</td><td>17719697919.599255</td><td>3600.000000000002</td><td>3600.000000000002</td><td>0.13944444444444437</td><td>0.007111111111111108</td><td>0.13233333333333325</td><td>9</td><td>9</td><td>wstat</td><td>1232.4332346407934</td><td>128</td><td>9.0</td><td>45.0</td><td>0.2</td></tr>\n",
              "<tr><td>obs-8</td><td>546</td><td>524.2</td><td>37.50532016841514</td><td>21.799999999999997</td><td>109.16666666666669</td><td>109.16666666666669</td><td>nan</td><td>252718170.97287455</td><td>17719697919.599255</td><td>3600.000000000002</td><td>3600.000000000002</td><td>0.1516666666666666</td><td>0.006055555555555552</td><td>0.14561111111111105</td><td>9</td><td>9</td><td>wstat</td><td>1448.7205922746252</td><td>109</td><td>9.0</td><td>45.00000000000001</td><td>0.19999999999999998</td></tr>\n",
              "<tr><td>...</td><td>...</td><td>...</td><td>...</td><td>...</td><td>...</td><td>...</td><td>...</td><td>...</td><td>...</td><td>...</td><td>...</td><td>...</td><td>...</td><td>...</td><td>...</td><td>...</td><td>...</td><td>...</td><td>...</td><td>...</td><td>...</td><td>...</td></tr>\n",
              "<tr><td>obs-91</td><td>501</td><td>475.8</td><td>34.815562789702426</td><td>25.200000000000003</td><td>104.50000000000003</td><td>104.50000000000003</td><td>nan</td><td>252718170.97287455</td><td>17719697919.599255</td><td>3600.000000000002</td><td>3600.000000000002</td><td>0.1391666666666666</td><td>0.0069999999999999975</td><td>0.1321666666666666</td><td>9</td><td>9</td><td>wstat</td><td>1244.9950480614511</td><td>126</td><td>9.0</td><td>45.0</td><td>0.2</td></tr>\n",
              "<tr><td>obs-92</td><td>554</td><td>531.2</td><td>37.634844574658246</td><td>22.800000000000004</td><td>111.33333333333334</td><td>111.33333333333334</td><td>nan</td><td>252718170.97287455</td><td>17719697919.599255</td><td>3600.000000000002</td><td>3600.000000000002</td><td>0.1538888888888888</td><td>0.0063333333333333314</td><td>0.1475555555555555</td><td>9</td><td>9</td><td>wstat</td><td>1442.9583406569695</td><td>114</td><td>9.0</td><td>44.99999999999999</td><td>0.20000000000000004</td></tr>\n",
              "<tr><td>obs-93</td><td>532</td><td>515.8</td><td>38.1746275910836</td><td>16.200000000000003</td><td>102.16666666666667</td><td>102.16666666666667</td><td>nan</td><td>252718170.97287455</td><td>17719697919.599255</td><td>3600.000000000002</td><td>3600.000000000002</td><td>0.1477777777777777</td><td>0.004499999999999999</td><td>0.1432777777777777</td><td>9</td><td>9</td><td>wstat</td><td>1487.343279781792</td><td>81</td><td>9.0</td><td>44.99999999999999</td><td>0.20000000000000004</td></tr>\n",
              "<tr><td>obs-94</td><td>546</td><td>524.2</td><td>37.50532016841514</td><td>21.8</td><td>109.16666666666669</td><td>109.16666666666669</td><td>nan</td><td>252718170.97287455</td><td>17719697919.599255</td><td>3600.000000000002</td><td>3600.000000000002</td><td>0.1516666666666666</td><td>0.006055555555555553</td><td>0.14561111111111105</td><td>9</td><td>9</td><td>wstat</td><td>1428.5781975914438</td><td>109</td><td>9.0</td><td>45.0</td><td>0.2</td></tr>\n",
              "<tr><td>obs-95</td><td>540</td><td>515.6</td><td>36.70055716472608</td><td>24.400000000000006</td><td>110.33333333333334</td><td>110.33333333333334</td><td>nan</td><td>252718170.97287455</td><td>17719697919.599255</td><td>3600.000000000002</td><td>3600.000000000002</td><td>0.1499999999999999</td><td>0.006777777777777776</td><td>0.14322222222222217</td><td>9</td><td>9</td><td>wstat</td><td>1357.2377109713836</td><td>122</td><td>9.0</td><td>44.99999999999999</td><td>0.20000000000000004</td></tr>\n",
              "<tr><td>obs-96</td><td>519</td><td>497.4</td><td>36.37440582549158</td><td>21.6</td><td>104.50000000000003</td><td>104.50000000000003</td><td>nan</td><td>252718170.97287455</td><td>17719697919.599255</td><td>3600.000000000002</td><td>3600.000000000002</td><td>0.14416666666666658</td><td>0.0059999999999999975</td><td>0.1381666666666666</td><td>9</td><td>9</td><td>wstat</td><td>1354.9769033028235</td><td>108</td><td>9.0</td><td>45.0</td><td>0.2</td></tr>\n",
              "<tr><td>obs-97</td><td>526</td><td>507.2</td><td>37.30404209202375</td><td>18.8</td><td>103.33333333333334</td><td>103.33333333333334</td><td>nan</td><td>252718170.97287455</td><td>17719697919.599255</td><td>3600.000000000002</td><td>3600.000000000002</td><td>0.14611111111111103</td><td>0.00522222222222222</td><td>0.1408888888888888</td><td>9</td><td>9</td><td>wstat</td><td>1416.5145984226328</td><td>94</td><td>9.0</td><td>45.0</td><td>0.2</td></tr>\n",
              "<tr><td>obs-98</td><td>535</td><td>516.8</td><td>37.83253018445885</td><td>18.200000000000003</td><td>104.33333333333336</td><td>104.33333333333336</td><td>nan</td><td>252718170.97287455</td><td>17719697919.599255</td><td>3600.000000000002</td><td>3600.000000000002</td><td>0.14861111111111103</td><td>0.005055555555555554</td><td>0.14355555555555546</td><td>9</td><td>9</td><td>wstat</td><td>1467.6109283665712</td><td>91</td><td>9.0</td><td>44.99999999999999</td><td>0.20000000000000004</td></tr>\n",
              "<tr><td>obs-99</td><td>560</td><td>539.2</td><td>38.31836765367185</td><td>20.8</td><td>110.66666666666669</td><td>110.66666666666669</td><td>nan</td><td>252718170.97287455</td><td>17719697919.599255</td><td>3600.000000000002</td><td>3600.000000000002</td><td>0.15555555555555547</td><td>0.005777777777777775</td><td>0.1497777777777777</td><td>9</td><td>9</td><td>wstat</td><td>1493.5754548801156</td><td>104</td><td>9.0</td><td>45.0</td><td>0.2</td></tr>\n",
              "</table></div>"
            ],
            "text/plain": [
              "<Table length=100>\n",
              " name  counts  excess ... acceptance   acceptance_off         alpha       \n",
              "                      ...                                                 \n",
              " str6  int64  float64 ...  float64        float64            float64      \n",
              "------ ------ ------- ... ---------- ----------------- -------------------\n",
              " obs-0    538   516.4 ...        9.0 45.00000000000001 0.19999999999999998\n",
              " obs-1    503   481.0 ...        9.0              45.0                 0.2\n",
              " obs-2    523   499.8 ...        9.0              45.0                 0.2\n",
              " obs-3    505   482.6 ...        9.0 45.00000000000001 0.19999999999999998\n",
              " obs-4    586   563.4 ...        9.0              45.0                 0.2\n",
              " obs-5    515   490.6 ...        9.0              45.0                 0.2\n",
              " obs-6    573   550.6 ...        9.0 44.99999999999999 0.20000000000000004\n",
              " obs-7    502   476.4 ...        9.0              45.0                 0.2\n",
              " obs-8    546   524.2 ...        9.0 45.00000000000001 0.19999999999999998\n",
              "   ...    ...     ... ...        ...               ...                 ...\n",
              "obs-91    501   475.8 ...        9.0              45.0                 0.2\n",
              "obs-92    554   531.2 ...        9.0 44.99999999999999 0.20000000000000004\n",
              "obs-93    532   515.8 ...        9.0 44.99999999999999 0.20000000000000004\n",
              "obs-94    546   524.2 ...        9.0              45.0                 0.2\n",
              "obs-95    540   515.6 ...        9.0 44.99999999999999 0.20000000000000004\n",
              "obs-96    519   497.4 ...        9.0              45.0                 0.2\n",
              "obs-97    526   507.2 ...        9.0              45.0                 0.2\n",
              "obs-98    535   516.8 ...        9.0 44.99999999999999 0.20000000000000004\n",
              "obs-99    560   539.2 ...        9.0              45.0                 0.2"
            ]
          },
          "metadata": {},
          "output_type": "display_data"
        },
        {
          "data": {
            "image/png": "[encoded data removed]",
            "text/plain": [
              "<Figure size 1200x400 with 3 Axes>"
            ]
          },
          "metadata": {},
          "output_type": "display_data"
        },
        {
          "name": "stdout",
          "output_type": "stream",
          "text": [
            "index: 4.009832780638607 += 0.10505934372406446\n"
          ]
        },
        {
          "data": {
            "image/png": "[encoded data removed]",
            "text/plain": [
              "<Figure size 640x480 with 1 Axes>"
            ]
          },
          "metadata": {},
          "output_type": "display_data"
        }
      ],
      "source": [
        "#Changing spectral model\n",
        "\n",
        "# Define spectral model - a simple Power Law in this case\n",
        "model_simu = PowerLawSpectralModel(\n",
        "    index=4.0,\n",
        "    amplitude=2.5e-12 * u.Unit(\"cm-2 s-1 TeV-1\"),\n",
        "    reference=1 * u.TeV,\n",
        ")\n",
        "\n",
        "print(model_simu)\n",
        "# we set the sky model used in the dataset\n",
        "model = SkyModel(spectral_model=model_simu, name=\"source\")\n",
        "\n",
        "location = observatory_locations[\"cta_south\"]\n",
        "obs = Observation.create(\n",
        "    pointing=pointing,\n",
        "    livetime=livetime,\n",
        "    irfs=irfs,\n",
        "    location=location,\n",
        ")\n",
        "print(obs)\n",
        "\n",
        "dataset = maker.run(dataset_empty, obs)\n",
        "\n",
        "# Set the model on the dataset, and fake\n",
        "dataset.models = model\n",
        "dataset.fake(random_state=42)\n",
        "print(dataset)\n",
        "\n",
        "dataset_on_off = SpectrumDatasetOnOff.from_spectrum_dataset(\n",
        "    dataset=dataset, acceptance=1, acceptance_off=5\n",
        ")\n",
        "dataset_on_off.fake(npred_background=dataset.npred_background())\n",
        "print(dataset_on_off)\n",
        "\n",
        "n_obs = 100\n",
        "datasets = Datasets()\n",
        "\n",
        "for idx in range(n_obs):\n",
        "    dataset_on_off.fake(random_state=idx, npred_background=dataset.npred_background())\n",
        "    dataset_fake = dataset_on_off.copy(name=f\"obs-{idx}\")\n",
        "    dataset_fake.meta_table[\"OBS_ID\"] = [idx]\n",
        "    datasets.append(dataset_fake)\n",
        "\n",
        "table = datasets.info_table()\n",
        "display(table)\n",
        "\n",
        "fix, axes = plt.subplots(1, 3, figsize=(12, 4))\n",
        "axes[0].hist(table[\"counts\"])\n",
        "axes[0].set_xlabel(\"Counts\")\n",
        "axes[1].hist(table[\"counts_off\"])\n",
        "axes[1].set_xlabel(\"Counts Off\")\n",
        "axes[2].hist(table[\"excess\"])\n",
        "axes[2].set_xlabel(\"excess\")\n",
        "plt.show()\n",
        "\n",
        "results = []\n",
        "\n",
        "fit = Fit()\n",
        "\n",
        "for dataset in datasets:\n",
        "    dataset.models = model.copy()\n",
        "    result = fit.optimize(dataset)\n",
        "    results.append(\n",
        "        {\n",
        "            \"index\": result.parameters[\"index\"].value,\n",
        "            \"amplitude\": result.parameters[\"amplitude\"].value,\n",
        "        }\n",
        "    )\n",
        "\n",
        "fig, ax = plt.subplots()\n",
        "index = np.array([_[\"index\"] for _ in results])\n",
        "ax.hist(index, bins=10, alpha=0.5)\n",
        "ax.axvline(x=model_simu.parameters[\"index\"].value, color=\"red\")\n",
        "ax.set_xlabel(\"Reconstructed spectral index\")\n",
        "print(f\"index: {index.mean()} += {index.std()}\")\n",
        "plt.show()"
      ]
    }
  ],
  "metadata": {
    "kernelspec": {
      "display_name": "gammapy-1.3",
      "language": "python",
      "name": "python3"
    },
    "language_info": {
      "codemirror_mode": {
        "name": "ipython",
        "version": 3
      },
      "file_extension": ".py",
      "mimetype": "text/x-python",
      "name": "python",
      "nbconvert_exporter": "python",
      "pygments_lexer": "ipython3",
      "version": "3.11.11"
    }
  },
  "nbformat": 4,
  "nbformat_minor": 0
}
