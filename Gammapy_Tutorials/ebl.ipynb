{
  "cells": [
    {
      "cell_type": "markdown",
      "metadata": {},
      "source": [
        "\n",
        "# Account for spectral absorption due to the EBL\n",
        "\n",
        "Gamma rays emitted from extra-galactic objects, eg blazars, interact\n",
        "with the photons of the Extragalactic Background Light (EBL) through\n",
        "pair production and are attenuated, thus modifying the intrinsic\n",
        "spectrum.\n",
        "\n",
        "Various models of the EBL are supplied in `GAMMAPY_DATA`. This\n",
        "notebook shows how to use these models to correct for this interaction.\n"
      ]
    },
    {
      "cell_type": "markdown",
      "metadata": {},
      "source": [
        "## Setup\n",
        "\n",
        "As usual, we’ll start with the standard imports …\n",
        "\n",
        "\n"
      ]
    },
    {
      "cell_type": "code",
      "execution_count": 1,
      "metadata": {
        "collapsed": false
      },
      "outputs": [],
      "source": [
        "import astropy.units as u\n",
        "import matplotlib.pyplot as plt\n",
        "from gammapy.catalog import SourceCatalog4FGL\n",
        "from gammapy.datasets import SpectrumDatasetOnOff\n",
        "from gammapy.estimators import FluxPointsEstimator\n",
        "from gammapy.modeling import Fit\n",
        "from gammapy.modeling.models import (\n",
        "    EBL_DATA_BUILTIN,\n",
        "    EBLAbsorptionNormSpectralModel,\n",
        "    GaussianPrior,\n",
        "    PowerLawSpectralModel,\n",
        "    SkyModel,\n",
        ")"
      ]
    },
    {
      "cell_type": "markdown",
      "metadata": {},
      "source": [
        "## Load the data\n",
        "\n",
        "We will use 6 observations of the blazars PKS 2155-304 taken in 2008 by\n",
        "H.E.S.S. when it was in a steady state. The data have already been\n",
        "reduced to OGIP format `SpectrumDatasetOnOff` following the procedure\n",
        ":doc:`/tutorials/analysis-1d/spectral_analysis` tutorial using a\n",
        "`ReflectedRegions` background estimation. The spectra and IRFs from the\n",
        "6 observations have been stacked together.\n",
        "\n",
        "We will load this dataset as a `~gammapy.datasets.SpectrumDatasetOnOff` and proceed with\n",
        "the modeling. You can do a 3D analysis as well.\n",
        "\n",
        "\n"
      ]
    },
    {
      "cell_type": "code",
      "execution_count": 2,
      "metadata": {
        "collapsed": false
      },
      "outputs": [
        {
          "name": "stdout",
          "output_type": "stream",
          "text": [
            "SpectrumDatasetOnOff\n",
            "--------------------\n",
            "\n",
            "  Name                            : stacked \n",
            "\n",
            "  Total counts                    : 119 \n",
            "  Total background counts         : 37.75\n",
            "  Total excess counts             : 81.25\n",
            "\n",
            "  Predicted counts                : 44.00\n",
            "  Predicted background counts     : 44.00\n",
            "  Predicted excess counts         : nan\n",
            "\n",
            "  Exposure min                    : 3.80e+05 m2 s\n",
            "  Exposure max                    : 2.68e+09 m2 s\n",
            "\n",
            "  Number of total bins            : 10 \n",
            "  Number of fit bins              : 8 \n",
            "\n",
            "  Fit statistic type              : wstat\n",
            "  Fit statistic value (-2 log(L)) : 109.21\n",
            "\n",
            "  Number of models                : 0 \n",
            "  Number of parameters            : 0\n",
            "  Number of free parameters       : 0\n",
            "\n",
            "  Total counts_off                : 453 \n",
            "  Acceptance                      : 8 \n",
            "  Acceptance off                  : 96 \n",
            "\n"
          ]
        }
      ],
      "source": [
        "dataset = SpectrumDatasetOnOff.read(\n",
        "    \"$GAMMAPY_DATA/PKS2155-steady/pks2155-304_steady.fits.gz\"\n",
        ")\n",
        "\n",
        "print(dataset)"
      ]
    },
    {
      "cell_type": "markdown",
      "metadata": {},
      "source": [
        "## Model the observed spectrum\n",
        "\n",
        "The observed spectrum is already attenuated due to the EBL. Assuming\n",
        "that the intrinsic spectrum is a power law, the observed spectrum is a\n",
        "`gammapy.modeling.models.CompoundSpectralModel` given by the product of an EBL model with the\n",
        "intrinsic model.\n",
        "\n",
        "\n"
      ]
    },
    {
      "cell_type": "markdown",
      "metadata": {},
      "source": [
        "For a list of available models, see\n",
        ":doc:`/api/gammapy.modeling.models.EBL_DATA_BUILTIN`.\n",
        "\n",
        "\n"
      ]
    },
    {
      "cell_type": "code",
      "execution_count": 3,
      "metadata": {
        "collapsed": false
      },
      "outputs": [
        {
          "name": "stdout",
          "output_type": "stream",
          "text": [
            "dict_keys(['franceschini', 'dominguez', 'finke', 'franceschini17', 'saldana-lopez21'])\n"
          ]
        }
      ],
      "source": [
        "print(EBL_DATA_BUILTIN.keys())"
      ]
    },
    {
      "cell_type": "markdown",
      "metadata": {},
      "source": [
        "To use other EBL models, you need to save the optical depth as a\n",
        "function of energy and redshift as an XSPEC model.\n",
        "Alternatively, you can use packages like [ebltable](https://github.com/me-manu/ebltable)\n",
        "which shows how to interface other EBL models with Gammapy.\n",
        "\n",
        "\n"
      ]
    },
    {
      "cell_type": "markdown",
      "metadata": {},
      "source": [
        "Define the power law\n",
        "\n",
        "\n"
      ]
    },
    {
      "cell_type": "code",
      "execution_count": 4,
      "metadata": {
        "collapsed": false
      },
      "outputs": [
        {
          "name": "stdout",
          "output_type": "stream",
          "text": [
            "CompoundSpectralModel\n",
            "    Component 1 : PowerLawSpectralModel\n",
            "\n",
            "type    name     value         unit        error   min max frozen link prior\n",
            "---- --------- ---------- -------------- --------- --- --- ------ ---- -----\n",
            "         index 2.3000e+00                0.000e+00 nan nan  False           \n",
            "     amplitude 1.8100e-12 TeV-1 s-1 cm-2 0.000e+00 nan nan  False           \n",
            "     reference 1.0000e+00            TeV 0.000e+00 nan nan   True           \n",
            "    Component 2 : EBLAbsorptionNormSpectralModel\n",
            "\n",
            "type    name      value    unit   error   min max frozen link prior\n",
            "---- ---------- ---------- ---- --------- --- --- ------ ---- -----\n",
            "     alpha_norm 1.0000e+00      0.000e+00 nan nan   True           \n",
            "       redshift 1.1600e-01      0.000e+00 nan nan   True           \n",
            "    Operator : mul\n",
            "\n"
          ]
        }
      ],
      "source": [
        "index = 2.3\n",
        "amplitude = 1.81 * 1e-12 * u.Unit(\"cm-2 s-1 TeV-1\")\n",
        "reference = 1 * u.TeV\n",
        "pwl = PowerLawSpectralModel(index=index, amplitude=amplitude, reference=reference)\n",
        "pwl.index.frozen = False\n",
        "# Specify the redshift of the source\n",
        "redshift = 0.116\n",
        "\n",
        "# Load the EBL model. Here we use the model from Dominguez, 2011\n",
        "absorption = EBLAbsorptionNormSpectralModel.read_builtin(\"dominguez\", redshift=redshift)\n",
        "\n",
        "\n",
        "# The power-law model is multiplied by the EBL to get the final model\n",
        "spectral_model = pwl * absorption\n",
        "print(spectral_model)"
      ]
    },
    {
      "cell_type": "markdown",
      "metadata": {},
      "source": [
        "Now, create a sky model and proceed with the fit\n",
        "\n",
        "\n"
      ]
    },
    {
      "cell_type": "code",
      "execution_count": 5,
      "metadata": {
        "collapsed": false
      },
      "outputs": [],
      "source": [
        "sky_model = SkyModel(spatial_model=None, spectral_model=spectral_model, name=\"pks2155\")\n",
        "\n",
        "dataset.models = sky_model"
      ]
    },
    {
      "cell_type": "markdown",
      "metadata": {},
      "source": [
        "Note that since this dataset has been produced\n",
        "by a reflected region analysis, it uses ON-OFF statistic\n",
        "and does not require a background model.\n",
        "\n",
        "\n"
      ]
    },
    {
      "cell_type": "code",
      "execution_count": 6,
      "metadata": {
        "collapsed": false
      },
      "outputs": [
        {
          "name": "stdout",
          "output_type": "stream",
          "text": [
            " model  type    name      value         unit      ... min max frozen link prior\n",
            "------- ---- ---------- ---------- -------------- ... --- --- ------ ---- -----\n",
            "pks2155           index 2.5531e+00                ... nan nan  False           \n",
            "pks2155       amplitude 1.2978e-11 TeV-1 s-1 cm-2 ... nan nan  False           \n",
            "pks2155       reference 1.0000e+00            TeV ... nan nan   True           \n",
            "pks2155      alpha_norm 1.0000e+00                ... nan nan   True           \n",
            "pks2155        redshift 1.1600e-01                ... nan nan   True           \n"
          ]
        }
      ],
      "source": [
        "fit = Fit()\n",
        "result = fit.run(datasets=[dataset])\n",
        "\n",
        "# we make a copy here to compare it later\n",
        "model_best = sky_model.copy()\n",
        "\n",
        "print(result.models.to_parameters_table())"
      ]
    },
    {
      "cell_type": "markdown",
      "metadata": {},
      "source": [
        "# Get the flux points\n",
        "\n",
        "To get the observed flux points, just run the `~gammapy.estimators.FluxPointsEstimator`\n",
        "normally\n",
        "\n",
        "\n"
      ]
    },
    {
      "cell_type": "code",
      "execution_count": 7,
      "metadata": {
        "collapsed": false
      },
      "outputs": [],
      "source": [
        "energy_edges = dataset.counts.geom.axes[\"energy\"].edges\n",
        "fpe = FluxPointsEstimator(\n",
        "    energy_edges=energy_edges, source=\"pks2155\", selection_optional=\"all\"\n",
        ")\n",
        "flux_points_obs = fpe.run(datasets=[dataset])"
      ]
    },
    {
      "cell_type": "markdown",
      "metadata": {},
      "source": [
        "To get the deabsorbed flux points (ie, intrinsic points), we simply need\n",
        "to set the reference model to the best fit power law instead of the\n",
        "compound model.\n",
        "\n",
        "\n"
      ]
    },
    {
      "cell_type": "code",
      "execution_count": 8,
      "metadata": {
        "collapsed": false
      },
      "outputs": [
        {
          "name": "stderr",
          "output_type": "stream",
          "text": [
            "Changing the reference model will change the fluxes. Handle with care.\n"
          ]
        },
        {
          "name": "stdout",
          "output_type": "stream",
          "text": [
            "SkyModel\n",
            "\n",
            "  Name                      : yUGEZldc\n",
            "  Datasets names            : None\n",
            "  Spectral model type       : CompoundSpectralModel\n",
            "  Spatial  model type       : \n",
            "  Temporal model type       : \n",
            "  Parameters:\n",
            "    index                         :      2.553   +/-    0.30             \n",
            "    amplitude                     :   1.30e-11   +/- 1.9e-12 1 / (TeV s cm2)\n",
            "    reference             (frozen):      1.000       TeV         \n",
            "    alpha_norm            (frozen):      1.000                   \n",
            "    redshift              (frozen):      0.116                   \n",
            "\n",
            "\n",
            "SkyModel\n",
            "\n",
            "  Name                      : zj4xUidM\n",
            "  Datasets names            : None\n",
            "  Spectral model type       : PowerLawSpectralModel\n",
            "  Spatial  model type       : \n",
            "  Temporal model type       : \n",
            "  Parameters:\n",
            "    index                         :      2.553   +/-    0.30             \n",
            "    amplitude                     :   1.30e-11   +/- 1.9e-12 1 / (TeV s cm2)\n",
            "    reference             (frozen):      1.000       TeV         \n",
            "\n",
            "\n"
          ]
        }
      ],
      "source": [
        "flux_points_intrinsic = flux_points_obs.copy(\n",
        "    reference_model=SkyModel(spectral_model=pwl)\n",
        ")\n",
        "\n",
        "#\n",
        "print(flux_points_obs.reference_model)\n",
        "\n",
        "#\n",
        "print(flux_points_intrinsic.reference_model)"
      ]
    },
    {
      "cell_type": "markdown",
      "metadata": {},
      "source": [
        "## Plot the observed and intrinsic fluxes\n",
        "\n",
        "\n"
      ]
    },
    {
      "cell_type": "code",
      "execution_count": 9,
      "metadata": {
        "collapsed": false
      },
      "outputs": [
        {
          "data": {
            "image/png": "[encoded data removed]",
            "text/plain": [
              "<Figure size 640x480 with 1 Axes>"
            ]
          },
          "metadata": {},
          "output_type": "display_data"
        }
      ],
      "source": [
        "plt.figure()\n",
        "sed_type = \"e2dnde\"\n",
        "energy_bounds = [0.2, 20] * u.TeV\n",
        "ax = flux_points_obs.plot(sed_type=sed_type, label=\"observed\", color=\"navy\")\n",
        "flux_points_intrinsic.plot(ax=ax, sed_type=sed_type, label=\"intrinsic\", color=\"red\")\n",
        "\n",
        "model_best.spectral_model.plot(\n",
        "    ax=ax, energy_bounds=energy_bounds, sed_type=sed_type, color=\"blue\"\n",
        ")\n",
        "model_best.spectral_model.plot_error(\n",
        "    ax=ax, energy_bounds=energy_bounds, sed_type=\"e2dnde\", facecolor=\"blue\"\n",
        ")\n",
        "\n",
        "pwl.plot(ax=ax, energy_bounds=energy_bounds, sed_type=sed_type, color=\"tomato\")\n",
        "pwl.plot_error(\n",
        "    ax=ax, energy_bounds=energy_bounds, sed_type=sed_type, facecolor=\"tomato\"\n",
        ")\n",
        "plt.ylim(bottom=1e-13)\n",
        "plt.legend()\n",
        "plt.show()\n",
        "# sphinx_gallery_thumbnail_number = 2"
      ]
    },
    {
      "cell_type": "markdown",
      "metadata": {},
      "source": [
        "## Further extensions\n",
        "\n",
        "In this notebook, we have kept the parameters of the EBL model, the\n",
        "`alpha_norm` and the `redshift` frozen. Under reasonable assumptions\n",
        "on the intrinsic spectrum, it can be possible to constrain these\n",
        "parameters.\n",
        "\n",
        "Example: We now assume that the FermiLAT 4FGL catalog spectrum of the\n",
        "source is a good assumption of the intrinsic spectrum.\n",
        "\n",
        "*NOTE*: This is a very simplified assumption and in reality, EBL\n",
        "absorption can affect the Fermi spectrum significantly. Also, blazar\n",
        "spectra vary with time and long term averaged states may not be\n",
        "representative of a specific steady state\n",
        "\n",
        "\n"
      ]
    },
    {
      "cell_type": "code",
      "execution_count": 10,
      "metadata": {
        "collapsed": false
      },
      "outputs": [
        {
          "name": "stdout",
          "output_type": "stream",
          "text": [
            "LogParabolaSpectralModel\n",
            "\n",
            "type    name     value         unit        error   min max frozen link prior\n",
            "---- --------- ---------- -------------- --------- --- --- ------ ---- -----\n",
            "     amplitude 1.2591e-11 MeV-1 s-1 cm-2 1.317e-13 nan nan  False           \n",
            "     reference 1.1610e+03            MeV 0.000e+00 nan nan   True           \n",
            "         alpha 1.7733e+00                1.029e-02 nan nan  False           \n",
            "          beta 4.1893e-02                3.743e-03 nan nan  False           \n"
          ]
        }
      ],
      "source": [
        "catalog = SourceCatalog4FGL()\n",
        "\n",
        "src = catalog[\"PKS 2155-304\"]\n",
        "\n",
        "# Get the intrinsic model\n",
        "intrinsic_model = src.spectral_model()\n",
        "print(intrinsic_model)"
      ]
    },
    {
      "cell_type": "markdown",
      "metadata": {},
      "source": [
        "We add Gaussian priors on the `alpha` and `beta` parameters based on the 4FGL\n",
        "measurements and the associated errors. For more details on using priors, see\n",
        ":doc:`/tutorials/api/priors`\n",
        "\n",
        "\n"
      ]
    },
    {
      "cell_type": "code",
      "execution_count": 11,
      "metadata": {
        "collapsed": false
      },
      "outputs": [],
      "source": [
        "intrinsic_model.alpha.prior = GaussianPrior(\n",
        "    mu=intrinsic_model.alpha.value, sigma=intrinsic_model.alpha.error\n",
        ")\n",
        "intrinsic_model.beta.prior = GaussianPrior(\n",
        "    mu=intrinsic_model.beta.value, sigma=intrinsic_model.beta.error\n",
        ")"
      ]
    },
    {
      "cell_type": "markdown",
      "metadata": {},
      "source": [
        "As before, multiply the intrinsic model with the EBL model\n",
        "\n",
        "\n"
      ]
    },
    {
      "cell_type": "code",
      "execution_count": 12,
      "metadata": {
        "collapsed": false
      },
      "outputs": [],
      "source": [
        "obs_model = intrinsic_model * absorption"
      ]
    },
    {
      "cell_type": "markdown",
      "metadata": {},
      "source": [
        "Now, free the redshift of the source\n",
        "\n",
        "\n"
      ]
    },
    {
      "cell_type": "code",
      "execution_count": 13,
      "metadata": {
        "collapsed": false
      },
      "outputs": [
        {
          "name": "stdout",
          "output_type": "stream",
          "text": [
            "type    name      value         unit      ... max frozen link     prior    \n",
            "---- ---------- ---------- -------------- ... --- ------ ---- -------------\n",
            "      amplitude 1.2591e-11 MeV-1 s-1 cm-2 ... nan  False                   \n",
            "      reference 1.1610e+03            MeV ... nan   True                   \n",
            "          alpha 1.7733e+00                ... nan  False      GaussianPrior\n",
            "           beta 4.1893e-02                ... nan  False      GaussianPrior\n",
            "     alpha_norm 1.0000e+00                ... nan   True                   \n",
            "       redshift 1.1600e-01                ... nan  False                   \n",
            "type    name      value         unit      ... max frozen link     prior    \n",
            "---- ---------- ---------- -------------- ... --- ------ ---- -------------\n",
            "      amplitude 1.9692e-11 MeV-1 s-1 cm-2 ... nan  False                   \n",
            "      reference 1.1610e+03            MeV ... nan   True                   \n",
            "          alpha 1.7733e+00                ... nan  False      GaussianPrior\n",
            "           beta 4.1896e-02                ... nan  False      GaussianPrior\n",
            "     alpha_norm 1.0000e+00                ... nan   True                   \n",
            "       redshift 1.4338e-01                ... nan  False                   \n"
          ]
        }
      ],
      "source": [
        "obs_model.parameters[\"redshift\"].frozen = False\n",
        "\n",
        "print(obs_model.parameters.to_table())\n",
        "\n",
        "sky_model = SkyModel(spectral_model=obs_model, name=\"observed\")\n",
        "dataset.models = sky_model\n",
        "\n",
        "result1 = fit.run([dataset])\n",
        "\n",
        "print(result1.parameters.to_table())"
      ]
    },
    {
      "cell_type": "markdown",
      "metadata": {},
      "source": [
        "## Get a fit stat profile for the redshift\n",
        "\n",
        "For more information about stat profiles, see\n",
        ":doc:`/tutorials/api/fitting`\n",
        "\n",
        "\n"
      ]
    },
    {
      "cell_type": "code",
      "execution_count": 14,
      "metadata": {
        "collapsed": false
      },
      "outputs": [
        {
          "data": {
            "image/png": "[encoded data removed]",
            "text/plain": [
              "<Figure size 640x480 with 1 Axes>"
            ]
          },
          "metadata": {},
          "output_type": "display_data"
        }
      ],
      "source": [
        "total_stat = result1.total_stat\n",
        "\n",
        "par = sky_model.parameters[\"redshift\"]\n",
        "par.scan_max = par.value + 5.0 * par.error\n",
        "par.scan_min = max(0, par.value - 5.0 * par.error)\n",
        "par.scan_n_values = 31\n",
        "\n",
        "# %time\n",
        "profile = fit.stat_profile(\n",
        "    datasets=[dataset], parameter=sky_model.parameters[\"redshift\"], reoptimize=True\n",
        ")\n",
        "\n",
        "plt.figure()\n",
        "ax = plt.gca()\n",
        "ax.plot(\n",
        "    profile[\"observed.spectral.model2.redshift_scan\"], profile[\"stat_scan\"] - total_stat\n",
        ")\n",
        "ax.set_title(\"TS profile\")\n",
        "ax.set_xlabel(\"Redshift\")\n",
        "ax.set_ylabel(\"$\\Delta$ TS\")\n",
        "plt.show()"
      ]
    },
    {
      "cell_type": "markdown",
      "metadata": {},
      "source": [
        "We see that the redshift is well constrained.\n",
        "\n",
        "\n"
      ]
    }
  ],
  "metadata": {
    "kernelspec": {
      "display_name": "gammapy-1.3",
      "language": "python",
      "name": "python3"
    },
    "language_info": {
      "codemirror_mode": {
        "name": "ipython",
        "version": 3
      },
      "file_extension": ".py",
      "mimetype": "text/x-python",
      "name": "python",
      "nbconvert_exporter": "python",
      "pygments_lexer": "ipython3",
      "version": "3.11.11"
    }
  },
  "nbformat": 4,
  "nbformat_minor": 0
}
