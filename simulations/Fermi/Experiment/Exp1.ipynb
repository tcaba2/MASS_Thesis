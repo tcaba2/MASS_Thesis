{
 "cells": [
  {
   "cell_type": "code",
   "execution_count": 1,
   "id": "f64b2dd2",
   "metadata": {},
   "outputs": [],
   "source": [
    "from pathlib import Path\n",
    "import numpy as np\n",
    "import astropy.units as u\n",
    "from astropy.coordinates import Angle, SkyCoord\n",
    "from astropy.io import fits\n",
    "from astropy.time import Time\n",
    "from regions import CircleSkyRegion\n",
    "import matplotlib.pyplot as plt\n",
    "from IPython.display import display\n",
    "from gammapy.data import (\n",
    "    DataStore,\n",
    "    FixedPointingInfo,\n",
    "    Observation,\n",
    "    observatory_locations,\n",
    ")\n",
    "from gammapy.datasets import MapDataset, MapDatasetEventSampler\n",
    "from gammapy.irf import load_irf_dict_from_file\n",
    "from gammapy.makers import MapDatasetMaker\n",
    "from gammapy.maps import MapAxis, WcsGeom\n",
    "from gammapy.modeling.models import (\n",
    "    ExpDecayTemporalModel,\n",
    "    FoVBackgroundModel,\n",
    "    Models,\n",
    "    PointSpatialModel,\n",
    "    PowerLawNormSpectralModel,\n",
    "    PowerLawSpectralModel,\n",
    "    SkyModel,\n",
    "    TemplateSpatialModel,\n",
    "    EBLAbsorptionNormSpectralModel\n",
    ")\n",
    "from gammapy.catalog import CATALOG_REGISTRY\n",
    "\n",
    "import warnings\n",
    "from gammapy.utils.deprecation import GammapyDeprecationWarning\n",
    "from astropy.utils.exceptions import AstropyWarning\n",
    "\n",
    "import glob, os, itertools\n"
   ]
  },
  {
   "cell_type": "code",
   "execution_count": 3,
   "id": "5d78407c",
   "metadata": {},
   "outputs": [],
   "source": [
    "# 1. Hide the Gammapy “FixedPointingInfo will be required” notice\n",
    "warnings.filterwarnings(\"ignore\", category=GammapyDeprecationWarning)\n",
    "\n",
    "# 2. Hide the Astropy polar-motion / IERS table notice\n",
    "warnings.filterwarnings(\"ignore\", category=AstropyWarning)"
   ]
  },
  {
   "cell_type": "code",
   "execution_count": 4,
   "id": "4a1e81d5",
   "metadata": {},
   "outputs": [
    {
     "data": {
      "image/png": "[encoded data removed]",
      "text/plain": [
       "<Figure size 640x480 with 1 Axes>"
      ]
     },
     "metadata": {},
     "output_type": "display_data"
    }
   ],
   "source": [
    "# Source\n",
    "target_position = SkyCoord(40.669 * u.deg, -0.013 * u.deg, frame=\"icrs\", unit=\"deg\")\n",
    "\n",
    "# Getting data from Fermi catalogs\n",
    "catalog_4fgl = CATALOG_REGISTRY.get_cls(\"4fgl\")()\n",
    "source_4fgl = catalog_4fgl[\"4FGL J0242.6-0000\"]          # NGC 1068\n",
    "fermi_model = source_4fgl.sky_model()\n",
    "\n",
    "# Specify the redshift of the source\n",
    "redshift = 0.00379\n",
    "\n",
    "# Load the EBL model. Here we use the model from Dominguez, 2011\n",
    "ebl = EBLAbsorptionNormSpectralModel.read_builtin(\"dominguez\", redshift=redshift)\n",
    "\n",
    "# The Fermi model is multiplied by the EBL to get the final model\n",
    "spectral_model = fermi_model.spectral_model * ebl \n",
    "\n",
    "spatial_model = PointSpatialModel.from_position(target_position)\n",
    "\n",
    "sky_model = SkyModel(\n",
    "                    spectral_model=spectral_model,\n",
    "                    spatial_model=spatial_model,\n",
    "                    name=\"NGC_1068\",\n",
    "                    )\n",
    "\n",
    "# Background\n",
    "bkg_model = FoVBackgroundModel(dataset_name=\"my-dataset\")\n",
    "\n",
    "# Plotting the model\n",
    "energy_bounds = [0.1, 100] * u.TeV\n",
    "opts = dict(sed_type=\"e2dnde\", yunits=u.Unit(\"erg cm-2 s-1\"))\n",
    "spectral_model.plot(energy_bounds, **opts)\n",
    "plt.grid(which=\"both\")"
   ]
  },
  {
   "cell_type": "code",
   "execution_count": 5,
   "id": "280543c0",
   "metadata": {},
   "outputs": [
    {
     "name": "stdout",
     "output_type": "stream",
     "text": [
      "Models\n",
      "\n",
      "Component 0: SkyModel\n",
      "\n",
      "  Name                      : NGC_1068\n",
      "  Datasets names            : None\n",
      "  Spectral model type       : CompoundSpectralModel\n",
      "  Spatial  model type       : PointSpatialModel\n",
      "  Temporal model type       : \n",
      "  Parameters:\n",
      "    index                         :      2.350   +/-    0.05             \n",
      "    amplitude                     :   6.49e-13   +/- 4.3e-14 1 / (MeV s cm2)\n",
      "    reference             (frozen):   1048.521       MeV         \n",
      "    alpha_norm            (frozen):      1.000                   \n",
      "    redshift              (frozen):      0.004                   \n",
      "    lon_0                         :     40.669   +/-    0.00 deg         \n",
      "    lat_0                         :     -0.013   +/-    0.00 deg         \n",
      "\n",
      "Component 1: FoVBackgroundModel\n",
      "\n",
      "  Name                      : my-dataset-bkg\n",
      "  Datasets names            : ['my-dataset']\n",
      "  Spectral model type       : PowerLawNormSpectralModel\n",
      "  Parameters:\n",
      "    norm                          :      1.000   +/-    0.00             \n",
      "    tilt                  (frozen):      0.000                   \n",
      "    reference             (frozen):      1.000       TeV         \n",
      "\n",
      "\n"
     ]
    }
   ],
   "source": [
    "# Define the full model\n",
    "models = Models([sky_model, bkg_model])\n",
    "print(models)\n",
    "\n",
    "# save it to disk\n",
    "file_model = \"./Fermi_NGC_1068.yaml\"\n",
    "models.write(file_model, write_covariance=False, overwrite=True)\n",
    "\n",
    "irf_filename = \"/Users/tharacaba/Desktop/Tesis_2/gammapy-datasets/1.3/cta-prod5-zenodo-fitsonly-v0/fits/CTA-Performance-prod5-v0.1-North-40deg.FITS/Prod5-North-40deg-AverageAz-4LSTs09MSTs.180000s-v0.1.fits\"  \n",
    "IRF = load_irf_dict_from_file(irf_filename)"
   ]
  },
  {
   "cell_type": "code",
   "execution_count": 6,
   "id": "b16f9f68",
   "metadata": {},
   "outputs": [
    {
     "name": "stdout",
     "output_type": "stream",
     "text": [
      "Deleted file: /Users/tharacaba/Desktop/Tesis_2/MASS_Thesis/simulations/Fermi/Experiment/events_obs14.fits\n",
      "Deleted file: /Users/tharacaba/Desktop/Tesis_2/MASS_Thesis/simulations/Fermi/Experiment/events_obs0.fits\n",
      "Deleted file: /Users/tharacaba/Desktop/Tesis_2/MASS_Thesis/simulations/Fermi/Experiment/events_obs18.fits\n",
      "Deleted file: /Users/tharacaba/Desktop/Tesis_2/MASS_Thesis/simulations/Fermi/Experiment/events_obs22.fits\n",
      "Deleted file: /Users/tharacaba/Desktop/Tesis_2/MASS_Thesis/simulations/Fermi/Experiment/events_obs23.fits\n",
      "Deleted file: /Users/tharacaba/Desktop/Tesis_2/MASS_Thesis/simulations/Fermi/Experiment/events_obs19.fits\n",
      "Deleted file: /Users/tharacaba/Desktop/Tesis_2/MASS_Thesis/simulations/Fermi/Experiment/events_obs1.fits\n",
      "Deleted file: /Users/tharacaba/Desktop/Tesis_2/MASS_Thesis/simulations/Fermi/Experiment/events_obs15.fits\n",
      "Deleted file: /Users/tharacaba/Desktop/Tesis_2/MASS_Thesis/simulations/Fermi/Experiment/events_obs24.fits\n",
      "Deleted file: /Users/tharacaba/Desktop/Tesis_2/MASS_Thesis/simulations/Fermi/Experiment/events_obs12.fits\n",
      "Deleted file: /Users/tharacaba/Desktop/Tesis_2/MASS_Thesis/simulations/Fermi/Experiment/events_obs6.fits\n",
      "Deleted file: /Users/tharacaba/Desktop/Tesis_2/MASS_Thesis/simulations/Fermi/Experiment/events_obs7.fits\n",
      "Deleted file: /Users/tharacaba/Desktop/Tesis_2/MASS_Thesis/simulations/Fermi/Experiment/events_obs13.fits\n",
      "Deleted file: /Users/tharacaba/Desktop/Tesis_2/MASS_Thesis/simulations/Fermi/Experiment/events_obs8.fits\n",
      "Deleted file: /Users/tharacaba/Desktop/Tesis_2/MASS_Thesis/simulations/Fermi/Experiment/events_obs4.fits\n",
      "Deleted file: /Users/tharacaba/Desktop/Tesis_2/MASS_Thesis/simulations/Fermi/Experiment/events_obs10.fits\n",
      "Deleted file: /Users/tharacaba/Desktop/Tesis_2/MASS_Thesis/simulations/Fermi/Experiment/events_obs11.fits\n",
      "Deleted file: /Users/tharacaba/Desktop/Tesis_2/MASS_Thesis/simulations/Fermi/Experiment/events_obs5.fits\n",
      "Deleted file: /Users/tharacaba/Desktop/Tesis_2/MASS_Thesis/simulations/Fermi/Experiment/events_obs9.fits\n",
      "Deleted file: /Users/tharacaba/Desktop/Tesis_2/MASS_Thesis/simulations/Fermi/Experiment/events_obs2.fits\n",
      "Deleted file: /Users/tharacaba/Desktop/Tesis_2/MASS_Thesis/simulations/Fermi/Experiment/events_obs16.fits\n",
      "Deleted file: /Users/tharacaba/Desktop/Tesis_2/MASS_Thesis/simulations/Fermi/Experiment/events_obs20.fits\n",
      "Deleted file: /Users/tharacaba/Desktop/Tesis_2/MASS_Thesis/simulations/Fermi/Experiment/events_obs21.fits\n",
      "Deleted file: /Users/tharacaba/Desktop/Tesis_2/MASS_Thesis/simulations/Fermi/Experiment/events_obs17.fits\n",
      "Deleted file: /Users/tharacaba/Desktop/Tesis_2/MASS_Thesis/simulations/Fermi/Experiment/events_obs3.fits\n"
     ]
    }
   ],
   "source": [
    "#Ereco ed Etrue must to be different: Etrue must have a larger range in order to reconstruct in the correct way (knowledge of\n",
    "#the whole photon energy extension)\n",
    "\n",
    "energy_axis = MapAxis.from_energy_bounds(\n",
    "    \"0.1 TeV\", \"100 TeV\", nbin=10, per_decade=True\n",
    "    )\n",
    "\n",
    "# for the Edisp\n",
    "energy_axis_true = MapAxis.from_energy_bounds(\n",
    "    \"0.01 TeV\", \"200 TeV\", nbin=20, per_decade=True, name=\"energy_true\"\n",
    "    )\n",
    "\n",
    "migra_axis = MapAxis.from_bounds(\n",
    "    0.5, 2, nbin=150, node_type=\"edges\", name=\"migra\" #If node_type = ‘edge’ then bounds correspond to the lower\n",
    "                                                      #  and upper bound of the first and last bin.\n",
    "    )   \n",
    "\n",
    "# pointing = FixedPointingInfo(\n",
    "#     fixed_icrs=SkyCoord(40.169 * u.deg, -0.013 * u.deg, frame=\"icrs\", unit=\"deg\"),\n",
    "# ) pointing.fixed_icrs, \n",
    "\n",
    "# let's define the geometry of the simulation:\n",
    "geom = WcsGeom.create(\n",
    "    skydir = target_position,       \n",
    "    width=(4, 4),         # gammapy uses a square not a circle \n",
    "    binsz=0.02,           # pixel size\n",
    "    frame=\"icrs\",\n",
    "    axes=[energy_axis],    #in reco energy\n",
    ")\n",
    "\n",
    "# Get all files in the ./sims directory\n",
    "files = glob.glob('/Users/tharacaba/Desktop/Tesis_2/MASS_Thesis/simulations/Fermi/Experiment/*.fits')\n",
    "\n",
    "# Loop and delete each file\n",
    "for f in files:\n",
    "    if os.path.isfile(f):\n",
    "        os.remove(f)\n",
    "        print(f\"Deleted file: {f}\")"
   ]
  },
  {
   "cell_type": "code",
   "execution_count": 6,
   "id": "97c7617e",
   "metadata": {},
   "outputs": [
    {
     "name": "stdout",
     "output_type": "stream",
     "text": [
      "Simulating observation 0, tstart = 0.083 d, livetime = 2.0 h\n"
     ]
    },
    {
     "name": "stderr",
     "output_type": "stream",
     "text": [
      "The meta information will be empty here.\n"
     ]
    },
    {
     "name": "stdout",
     "output_type": "stream",
     "text": [
      "Simulating observation 1, tstart = 0.287875 d, livetime = 2.0 h\n"
     ]
    },
    {
     "name": "stderr",
     "output_type": "stream",
     "text": [
      "The meta information will be empty here.\n"
     ]
    },
    {
     "name": "stdout",
     "output_type": "stream",
     "text": [
      "Simulating observation 2, tstart = 0.49275 d, livetime = 2.0 h\n"
     ]
    },
    {
     "name": "stderr",
     "output_type": "stream",
     "text": [
      "The meta information will be empty here.\n"
     ]
    },
    {
     "name": "stdout",
     "output_type": "stream",
     "text": [
      "Simulating observation 3, tstart = 0.6976249999999999 d, livetime = 2.0 h\n"
     ]
    },
    {
     "name": "stderr",
     "output_type": "stream",
     "text": [
      "The meta information will be empty here.\n"
     ]
    },
    {
     "name": "stdout",
     "output_type": "stream",
     "text": [
      "Simulating observation 4, tstart = 0.9025 d, livetime = 2.0 h\n"
     ]
    },
    {
     "name": "stderr",
     "output_type": "stream",
     "text": [
      "The meta information will be empty here.\n"
     ]
    },
    {
     "name": "stdout",
     "output_type": "stream",
     "text": [
      "Simulating observation 5, tstart = 1.107375 d, livetime = 2.0 h\n"
     ]
    },
    {
     "name": "stderr",
     "output_type": "stream",
     "text": [
      "The meta information will be empty here.\n"
     ]
    },
    {
     "name": "stdout",
     "output_type": "stream",
     "text": [
      "Simulating observation 6, tstart = 1.31225 d, livetime = 2.0 h\n"
     ]
    },
    {
     "name": "stderr",
     "output_type": "stream",
     "text": [
      "The meta information will be empty here.\n"
     ]
    },
    {
     "name": "stdout",
     "output_type": "stream",
     "text": [
      "Simulating observation 7, tstart = 1.517125 d, livetime = 2.0 h\n"
     ]
    },
    {
     "name": "stderr",
     "output_type": "stream",
     "text": [
      "The meta information will be empty here.\n"
     ]
    },
    {
     "name": "stdout",
     "output_type": "stream",
     "text": [
      "Simulating observation 8, tstart = 1.722 d, livetime = 2.0 h\n"
     ]
    },
    {
     "name": "stderr",
     "output_type": "stream",
     "text": [
      "The meta information will be empty here.\n"
     ]
    },
    {
     "name": "stdout",
     "output_type": "stream",
     "text": [
      "Simulating observation 9, tstart = 1.926875 d, livetime = 2.0 h\n"
     ]
    },
    {
     "name": "stderr",
     "output_type": "stream",
     "text": [
      "The meta information will be empty here.\n"
     ]
    },
    {
     "name": "stdout",
     "output_type": "stream",
     "text": [
      "Simulating observation 10, tstart = 2.1317500000000003 d, livetime = 2.0 h\n"
     ]
    },
    {
     "name": "stderr",
     "output_type": "stream",
     "text": [
      "The meta information will be empty here.\n"
     ]
    },
    {
     "name": "stdout",
     "output_type": "stream",
     "text": [
      "Simulating observation 11, tstart = 2.336625 d, livetime = 2.0 h\n"
     ]
    },
    {
     "name": "stderr",
     "output_type": "stream",
     "text": [
      "The meta information will be empty here.\n"
     ]
    },
    {
     "name": "stdout",
     "output_type": "stream",
     "text": [
      "Simulating observation 12, tstart = 2.5415 d, livetime = 2.0 h\n"
     ]
    },
    {
     "name": "stderr",
     "output_type": "stream",
     "text": [
      "The meta information will be empty here.\n"
     ]
    },
    {
     "name": "stdout",
     "output_type": "stream",
     "text": [
      "Simulating observation 13, tstart = 2.746375 d, livetime = 2.0 h\n"
     ]
    },
    {
     "name": "stderr",
     "output_type": "stream",
     "text": [
      "The meta information will be empty here.\n"
     ]
    },
    {
     "name": "stdout",
     "output_type": "stream",
     "text": [
      "Simulating observation 14, tstart = 2.9512500000000004 d, livetime = 2.0 h\n"
     ]
    },
    {
     "name": "stderr",
     "output_type": "stream",
     "text": [
      "The meta information will be empty here.\n"
     ]
    },
    {
     "name": "stdout",
     "output_type": "stream",
     "text": [
      "Simulating observation 15, tstart = 3.1561250000000003 d, livetime = 2.0 h\n"
     ]
    },
    {
     "name": "stderr",
     "output_type": "stream",
     "text": [
      "The meta information will be empty here.\n"
     ]
    },
    {
     "name": "stdout",
     "output_type": "stream",
     "text": [
      "Simulating observation 16, tstart = 3.361 d, livetime = 2.0 h\n"
     ]
    },
    {
     "name": "stderr",
     "output_type": "stream",
     "text": [
      "The meta information will be empty here.\n"
     ]
    },
    {
     "name": "stdout",
     "output_type": "stream",
     "text": [
      "Simulating observation 17, tstart = 3.565875 d, livetime = 2.0 h\n"
     ]
    },
    {
     "name": "stderr",
     "output_type": "stream",
     "text": [
      "The meta information will be empty here.\n"
     ]
    },
    {
     "name": "stdout",
     "output_type": "stream",
     "text": [
      "Simulating observation 18, tstart = 3.77075 d, livetime = 2.0 h\n"
     ]
    },
    {
     "name": "stderr",
     "output_type": "stream",
     "text": [
      "The meta information will be empty here.\n"
     ]
    },
    {
     "name": "stdout",
     "output_type": "stream",
     "text": [
      "Simulating observation 19, tstart = 3.9756250000000004 d, livetime = 2.0 h\n"
     ]
    },
    {
     "name": "stderr",
     "output_type": "stream",
     "text": [
      "The meta information will be empty here.\n"
     ]
    },
    {
     "name": "stdout",
     "output_type": "stream",
     "text": [
      "Simulating observation 20, tstart = 4.1805 d, livetime = 2.0 h\n"
     ]
    },
    {
     "name": "stderr",
     "output_type": "stream",
     "text": [
      "The meta information will be empty here.\n"
     ]
    },
    {
     "name": "stdout",
     "output_type": "stream",
     "text": [
      "Simulating observation 21, tstart = 4.385375 d, livetime = 2.0 h\n"
     ]
    },
    {
     "name": "stderr",
     "output_type": "stream",
     "text": [
      "The meta information will be empty here.\n"
     ]
    },
    {
     "name": "stdout",
     "output_type": "stream",
     "text": [
      "Simulating observation 22, tstart = 4.59025 d, livetime = 2.0 h\n"
     ]
    },
    {
     "name": "stderr",
     "output_type": "stream",
     "text": [
      "The meta information will be empty here.\n"
     ]
    },
    {
     "name": "stdout",
     "output_type": "stream",
     "text": [
      "Simulating observation 23, tstart = 4.7951250000000005 d, livetime = 2.0 h\n"
     ]
    },
    {
     "name": "stderr",
     "output_type": "stream",
     "text": [
      "The meta information will be empty here.\n"
     ]
    },
    {
     "name": "stdout",
     "output_type": "stream",
     "text": [
      "Simulating observation 24, tstart = 5.0 d, livetime = 2.0 h\n"
     ]
    },
    {
     "name": "stderr",
     "output_type": "stream",
     "text": [
      "The meta information will be empty here.\n"
     ]
    }
   ],
   "source": [
    "# tstart_obs = [0.083, 3, 10, 20, 25, 40, 80, 100, 200, 250] * u.d\n",
    "# livetime_obs = [8.5, 8.5, 8.5, 8.5, 8.5, 8.5, 8.5, 8.5, 8.5, 8.5] * u.hr\n",
    "# angle_wobble = [0, 90, 180, 270, 0, 90, 180, 270, 0, 90] * u.deg\n",
    "\n",
    "# Parameters\n",
    "total_hours = 50\n",
    "obs_duration = 2 \n",
    "n_obs = int(total_hours / obs_duration)\n",
    "\n",
    "# Generate tstart_obs with increasing values (non-simultaneous), spread out in time\n",
    "# We use an arbitrary starting point and step to ensure separation\n",
    "tstart_obs = np.linspace(0.083, 5, n_obs) * u.d\n",
    "\n",
    "livetime_obs = np.full(n_obs, obs_duration) * u.hr\n",
    "\n",
    "# Generate angle_wobble cycling through [0, 90, 180, 270]\n",
    "base_angles = [0, 90, 180, 270]\n",
    "angle_wobble = [base_angles[i % 4] for i in range(n_obs)] * u.deg\n",
    "\n",
    "location = observatory_locations[\"cta_north\"]\n",
    "\n",
    "reference_time = Time(\"2026-05-28T00:00:00\", format=\"isot\", scale=\"utc\")\n",
    "\n",
    "#### MapDataset object with zer0-filled map\n",
    "empty = MapDataset.create(\n",
    "        geom,                               \n",
    "        energy_axis_true=energy_axis_true,       #for the IRF maps\n",
    "        migra_axis=migra_axis,                   #for the Edisp map\n",
    "        name=\"my-dataset\",                       #the name that will read the FoVBKG\n",
    "            )\n",
    "\n",
    "### Make maps for a single observation\n",
    "maker = MapDatasetMaker(selection=[\"exposure\", \"background\", \"psf\", \"edisp\"]) #which maps to make (by default all)\n",
    "\n",
    "\n",
    "for i, (tobs, liveobs, wobobs) in enumerate(zip(tstart_obs, livetime_obs, angle_wobble)):\n",
    "\n",
    "    print(f\"Simulating observation {i}, tstart = {tobs}, livetime = {liveobs}\")\n",
    "\n",
    "    pointing_obs = target_position.directional_offset_by(wobobs, 0.5*u.deg)\n",
    "    obs = Observation.create(\n",
    "                            obs_id=i, \n",
    "                            pointing=pointing_obs, \n",
    "                            livetime=liveobs, \n",
    "                            irfs=IRF,\n",
    "                            location=location,\n",
    "                            reference_time = reference_time, \n",
    "                            tstart = tobs\n",
    "                  )    \n",
    "\n",
    "    dataset = maker.run(empty.copy(), obs) \n",
    "\n",
    "    bkg_model = bkg_model.copy()\n",
    "    bkg_model.datasets_names = [dataset.name]   # <-- relink\n",
    "\n",
    "    dataset.models = Models([sky_model, bkg_model])\n",
    "\n",
    "    sampler = MapDatasetEventSampler(random_state=i)\n",
    "    events = sampler.run(dataset, obs)\n",
    "\n",
    "    obs.events = events\n",
    "    obs.write(f\"events_obs{i}.fits\", include_irfs=False, overwrite=True)"
   ]
  }
 ],
 "metadata": {
  "kernelspec": {
   "display_name": "gammapy-1.3",
   "language": "python",
   "name": "python3"
  },
  "language_info": {
   "codemirror_mode": {
    "name": "ipython",
    "version": 3
   },
   "file_extension": ".py",
   "mimetype": "text/x-python",
   "name": "python",
   "nbconvert_exporter": "python",
   "pygments_lexer": "ipython3",
   "version": "3.11.11"
  }
 },
 "nbformat": 4,
 "nbformat_minor": 5
}
