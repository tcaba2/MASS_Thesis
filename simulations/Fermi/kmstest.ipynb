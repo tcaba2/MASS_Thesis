{
 "cells": [
  {
   "cell_type": "code",
   "execution_count": 1,
   "id": "de7ae84e",
   "metadata": {},
   "outputs": [
    {
     "name": "stdout",
     "output_type": "stream",
     "text": [
      "gammapy: 1.3\n",
      "numpy: 2.1.3\n",
      "astropy 6.1.6\n",
      "regions 0.10\n",
      "scipy 1.14.1\n"
     ]
    }
   ],
   "source": [
    "import matplotlib.pyplot as plt\n",
    "from pathlib import Path\n",
    "\n",
    "import gammapy\n",
    "import numpy as np\n",
    "import astropy\n",
    "import regions\n",
    "import scipy\n",
    "\n",
    "print(\"gammapy:\", gammapy.__version__)\n",
    "print(\"numpy:\", np.__version__)\n",
    "print(\"astropy\", astropy.__version__)\n",
    "print(\"regions\", regions.__version__)\n",
    "print(\"scipy\", scipy.__version__)\n",
    "\n",
    "\n",
    "from astropy.coordinates import SkyCoord\n",
    "import astropy.units as u\n",
    "from astropy.io import fits\n",
    "from astropy.table import Table\n",
    "from astropy.time import Time\n",
    "from astropy.coordinates import SkyCoord, Angle\n",
    "\n",
    "from regions import CircleSkyRegion\n",
    "\n",
    "from gammapy.data import DataStore, GTI, Observation, EventList\n",
    "from gammapy.datasets import (FluxPointsDataset, MapDataset, MapDatasetEventSampler, \n",
    "                              Datasets, SpectrumDataset, SpectrumDatasetOnOff)\n",
    "from gammapy.maps import MapAxis, WcsGeom, Map\n",
    "from gammapy.irf import load_irf_dict_from_file\n",
    "from gammapy.makers import SafeMaskMaker, SpectrumDatasetMaker, ReflectedRegionsBackgroundMaker, MapDatasetMaker\n",
    "from gammapy.modeling import Fit\n",
    "from gammapy.modeling.models import (\n",
    "    Model,\n",
    "    Models,\n",
    "    SkyModel,\n",
    "    PowerLawSpectralModel,\n",
    "    PowerLawNormSpectralModel,\n",
    "    ExpCutoffPowerLawSpectralModel,\n",
    "    PointSpatialModel,\n",
    "    GaussianSpatialModel,\n",
    "    TemplateSpatialModel,\n",
    "    TemplateSpectralModel,\n",
    "    FoVBackgroundModel,\n",
    ")\n",
    "\n",
    "\n",
    "import copy\n",
    "import scipy.stats as stats\n",
    "\n",
    "from gammapy.estimators import (\n",
    "    FluxPoints, \n",
    "    FluxPointsEstimator, \n",
    "    TSMapEstimator\n",
    ")\n",
    "\n",
    "from regions import CircleSkyRegion"
   ]
  },
  {
   "cell_type": "code",
   "execution_count": 2,
   "id": "c022550e",
   "metadata": {},
   "outputs": [],
   "source": [
    "BASE_PATH=Path(\".\")"
   ]
  },
  {
   "cell_type": "code",
   "execution_count": 3,
   "id": "6820370c",
   "metadata": {},
   "outputs": [],
   "source": [
    "dataset = MapDataset.read('/Users/tharacaba/Desktop/Tesis_2/MASS_Thesis/simulations/Wind/dataset_NGC1068_50hr.fits')"
   ]
  },
  {
   "cell_type": "code",
   "execution_count": 4,
   "id": "c3d84137",
   "metadata": {},
   "outputs": [],
   "source": [
    "center = SkyCoord.from_name(\"NGC 1068\").icrs\n",
    "\n",
    "offset = 0.5 * u.deg\n",
    "\n",
    "pointing_position = center.directional_offset_by(position_angle=0 * u.deg, separation=offset)\n",
    "\n",
    "ENERGY_AXIS = MapAxis.from_energy_bounds(\n",
    "    \"0.1 TeV\", \"100.0 TeV\", nbin=10, per_decade=True       #IRF range\n",
    ")\n",
    "    \n",
    "\n",
    "WCS_GEOM = WcsGeom.create(\n",
    "    skydir=pointing_position,\n",
    "    width=(10, 10),         #REMEMBER: if you want to point off-axis 4°, you need a wider field     \n",
    "    binsz=0.02,          #binsize simulation << PSF \n",
    "    frame=\"icrs\",\n",
    "    axes=[ENERGY_AXIS],\n",
    ")\n",
    "\n",
    "e_min, e_max, e_bins = 0.1, 100.0, 10\n",
    "e_edges = np.logspace(np.log10(e_min), np.log10(e_max), e_bins) * u.TeV\n",
    "\n",
    "dataset_original = Models.read(\"/Users/tharacaba/Desktop/Tesis_2/MASS_Thesis/simulations/Wind/Experiment/Wind_NGC_1068.yaml\") "
   ]
  },
  {
   "cell_type": "code",
   "execution_count": 30,
   "id": "8baf2dfb",
   "metadata": {},
   "outputs": [],
   "source": [
    "# spectral_model = PowerLawSpectralModel(\n",
    "#     amplitude = 5.76e-14  * u.Unit(\"cm-2 s-1 TeV-1\"),\n",
    "#     index = 2.3,\n",
    "#     reference = 1 * u.TeV,\n",
    "# )\n",
    "\n",
    "spectral_model = ExpCutoffPowerLawSpectralModel(\n",
    "   amplitude = 8.04e-13 * u.Unit(\"cm-2 s-1 TeV-1\"),\n",
    "   index = 1.96,\n",
    "   lambda_ = 2.626  * u.Unit(\"TeV-1\"),\n",
    "   reference = 1 * u.TeV,\n",
    "   alpha = 3.95\n",
    ")\n",
    "\n",
    "# Source\n",
    "point_model = PointSpatialModel(\n",
    "    lon_0=\"40.669 deg\", \n",
    "    lat_0=\"-0.013 deg\", \n",
    "    frame='icrs'\n",
    ")\n",
    "\n",
    "MainSourceAn = \"NGC1068_Wind\"   \n",
    "\n",
    "# Background\n",
    "bkg_model = FoVBackgroundModel(dataset_name=\"my-dataset\")\n",
    "\n",
    "sky_model = SkyModel(\n",
    "                    spectral_model=spectral_model,\n",
    "                    spatial_model=point_model,\n",
    " #                   temporal_model=expdecay_model,\n",
    "                    name=MainSourceAn,\n",
    "                    )\n",
    "\n",
    "# Define the whole model\n",
    "models = Models([sky_model, bkg_model])\n",
    "\n",
    "\n",
    "models[0].spatial_model.parameters['lon_0'].frozen=True       #Spatial coordinate freezed\n",
    "models[0].spatial_model.parameters['lat_0'].frozen=True"
   ]
  },
  {
   "cell_type": "code",
   "execution_count": null,
   "id": "b04c9e52",
   "metadata": {},
   "outputs": [
    {
     "name": "stdout",
     "output_type": "stream",
     "text": [
      "W VariableMetricBuilder No improvement in line search\n",
      "W VariableMetricBuilder Reached machine accuracy limit; Edm 0.00242733 is smaller than machine limit 0.405492 while 0.0002 was requested\n",
      "W VariableMetricBuilder No convergence; Edm 0.00242733 is above tolerance 0.002\n"
     ]
    },
    {
     "data": {
      "text/plain": [
       "<matplotlib.legend.Legend at 0x1764d4910>"
      ]
     },
     "execution_count": 31,
     "metadata": {},
     "output_type": "execute_result"
    },
    {
     "data": {
      "image/png": "[encoded data removed]",
      "text/plain": [
       "<Figure size 640x480 with 1 Axes>"
      ]
     },
     "metadata": {},
     "output_type": "display_data"
    }
   ],
   "source": [
    "dataset.models = models\n",
    "\n",
    "\n",
    "# spectral_model.index.frozen = True\n",
    "\n",
    "# #spectral_model.amplitude.frozen = True\n",
    "\n",
    "# #spectral_model.lambda_.frozen = True\n",
    "\n",
    "# spectral_model.alpha.frozen = True\n",
    "\n",
    "events = EventList.read('/Users/tharacaba/Desktop/Tesis_2/MASS_Thesis/simulations/Wind/100sims/events/NGC1068_50hr_events_0.fits')\n",
    "counts = Map.from_geom(WCS_GEOM)\n",
    "counts.fill_events(events)\n",
    "dataset.counts = counts\n",
    "\n",
    "fit = Fit(optimize_opts={\"print_level\": 1})\n",
    "result = fit.run([dataset])\n",
    "\n",
    "fpe = FluxPointsEstimator(energy_edges=e_edges, source=MainSourceAn)\n",
    "flux_points = fpe.run(datasets=dataset)\n",
    "flux_points.is_ul = flux_points.ts < 9\n",
    "\n",
    "ax = dataset_original[0].spectral_model.plot(\n",
    "energy_bounds=(0.1, 400) * u.TeV, \n",
    "label=\"Sim. model\",\n",
    "sed_type=\"e2dnde\",\n",
    "color='black'\n",
    ")\n",
    "\n",
    "px = {\"color\": \"red\", \"marker\":\"o\"}\n",
    "mx = {\"color\": \"blue\"}\n",
    "\n",
    "flux_points_dataset = FluxPointsDataset(data=flux_points, models=dataset.models[0])\n",
    "flux_points_dataset.plot_spectrum(ax=ax, kwargs_fp=px, kwargs_model=mx)\n",
    "ax.legend()"
   ]
  },
  {
   "cell_type": "code",
   "execution_count": 32,
   "id": "1369e4eb",
   "metadata": {},
   "outputs": [
    {
     "name": "stdout",
     "output_type": "stream",
     "text": [
      "SkyModel\n",
      "\n",
      "  Name                      : NGC1068_Wind\n",
      "  Datasets names            : None\n",
      "  Spectral model type       : ExpCutoffPowerLawSpectralModel\n",
      "  Spatial  model type       : PointSpatialModel\n",
      "  Temporal model type       : \n",
      "  Parameters:\n",
      "    index                 (frozen):      1.960                   \n",
      "    amplitude                     :   8.03e-13   +/- 6.4e-14 1 / (TeV s cm2)\n",
      "    reference             (frozen):      1.000       TeV         \n",
      "    lambda_                       :      2.620   +/-    0.13 1 / TeV     \n",
      "    alpha                 (frozen):      3.950                   \n",
      "    lon_0                 (frozen):     40.669       deg         \n",
      "    lat_0                 (frozen):     -0.013       deg         \n",
      "\n",
      "\n"
     ]
    }
   ],
   "source": [
    "print(dataset.models[0])"
   ]
  }
 ],
 "metadata": {
  "kernelspec": {
   "display_name": "gammapy-1.3",
   "language": "python",
   "name": "python3"
  },
  "language_info": {
   "codemirror_mode": {
    "name": "ipython",
    "version": 3
   },
   "file_extension": ".py",
   "mimetype": "text/x-python",
   "name": "python",
   "nbconvert_exporter": "python",
   "pygments_lexer": "ipython3",
   "version": "3.11.11"
  }
 },
 "nbformat": 4,
 "nbformat_minor": 5
}
