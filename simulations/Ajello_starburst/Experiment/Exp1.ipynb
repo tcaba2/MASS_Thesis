{
 "cells": [
  {
   "cell_type": "code",
   "execution_count": 1,
   "id": "f64b2dd2",
   "metadata": {},
   "outputs": [],
   "source": [
    "from pathlib import Path\n",
    "import numpy as np\n",
    "import astropy.units as u\n",
    "from astropy.coordinates import Angle, SkyCoord\n",
    "from astropy.io import fits\n",
    "from astropy.time import Time\n",
    "from regions import CircleSkyRegion\n",
    "import matplotlib.pyplot as plt\n",
    "from IPython.display import display\n",
    "from gammapy.data import (\n",
    "    DataStore,\n",
    "    FixedPointingInfo,\n",
    "    Observation,\n",
    "    observatory_locations,\n",
    ")\n",
    "from gammapy.datasets import MapDataset, MapDatasetEventSampler\n",
    "from gammapy.irf import load_irf_dict_from_file\n",
    "from gammapy.makers import MapDatasetMaker\n",
    "from gammapy.maps import MapAxis, WcsGeom\n",
    "from gammapy.modeling.models import (\n",
    "    ExpDecayTemporalModel,\n",
    "    FoVBackgroundModel,\n",
    "    Models,\n",
    "    PointSpatialModel,\n",
    "    PowerLawNormSpectralModel,\n",
    "    PowerLawSpectralModel,\n",
    "    SkyModel,\n",
    "    TemplateSpatialModel,\n",
    "    EBLAbsorptionNormSpectralModel,\n",
    "    TemplateSpectralModel\n",
    ")\n",
    "from gammapy.catalog import CATALOG_REGISTRY\n",
    "from astropy.io import ascii\n",
    "\n",
    "import warnings\n",
    "from gammapy.utils.deprecation import GammapyDeprecationWarning\n",
    "from astropy.utils.exceptions import AstropyWarning\n",
    "\n",
    "import glob, os, itertools"
   ]
  },
  {
   "cell_type": "code",
   "execution_count": 2,
   "id": "dcad30d8",
   "metadata": {},
   "outputs": [],
   "source": [
    "# 1. Hide the Gammapy “FixedPointingInfo will be required” notice\n",
    "warnings.filterwarnings(\"ignore\", category=GammapyDeprecationWarning)\n",
    "\n",
    "# 2. Hide the Astropy polar-motion / IERS table notice\n",
    "warnings.filterwarnings(\"ignore\", category=AstropyWarning)"
   ]
  },
  {
   "cell_type": "code",
   "execution_count": 3,
   "id": "4a1e81d5",
   "metadata": {},
   "outputs": [
    {
     "data": {
      "image/png": "[encoded data removed]",
      "text/plain": [
       "<Figure size 640x480 with 1 Axes>"
      ]
     },
     "metadata": {},
     "output_type": "display_data"
    }
   ],
   "source": [
    "# Source\n",
    "target_position = SkyCoord(40.669 * u.deg, -0.013 * u.deg, frame=\"icrs\", unit=\"deg\")\n",
    "\n",
    "# Template spectral model. Defined by values from Ajello+ 2023\n",
    "data = ascii.read(\"/Users/tharacaba/Desktop/Tesis_2/MASS_Thesis/simulations/Ajello_starburst/Ajello_starburst.csv\")\n",
    "\n",
    "# Getting the model in the correct units\n",
    "energy = data['x'] *u.GeV\n",
    "flux = data['y'] *u.GeV / (u.cm **2.0 * u.s)\n",
    "\n",
    "# Sort data by energy\n",
    "sorted_indices = np.argsort(energy)\n",
    "energy = energy[sorted_indices]\n",
    "flux  = flux[sorted_indices]\n",
    "\n",
    "energy_MeV = energy.to(u.MeV)\n",
    "\n",
    "# Sort data by energy\n",
    "sorted_indices = np.argsort(energy)\n",
    "energy = energy[sorted_indices]\n",
    "flux= flux[sorted_indices]\n",
    "\n",
    "flux = flux.to(u.MeV / (u.cm ** 2.0 * u.s))\n",
    "flux_MeV = flux / energy_MeV**2  # divide by energy to get dN/dE\n",
    "\n",
    "# Sort data by energy\n",
    "sorted_indices = np.argsort(energy)\n",
    "energy = energy[sorted_indices]\n",
    "flux_MeV = flux_MeV[sorted_indices]\n",
    "\n",
    "spectral_model = TemplateSpectralModel(energy=energy_MeV, values=flux_MeV)\n",
    "\n",
    "spatial_model = PointSpatialModel.from_position(target_position)\n",
    "\n",
    "sky_model = SkyModel(\n",
    "                    spectral_model=spectral_model,\n",
    "                    spatial_model=spatial_model,\n",
    "                    name=\"NGC_1068\",\n",
    "                    )\n",
    "\n",
    "# Background\n",
    "bkg_model = FoVBackgroundModel(dataset_name=\"my-dataset\")\n",
    "\n",
    "# Plotting the model\n",
    "energy_bounds = [0.1, 100] * u.TeV\n",
    "opts = dict(sed_type=\"e2dnde\", yunits=u.Unit(\"erg cm-2 s-1\"))\n",
    "spectral_model.plot(energy_bounds, **opts)\n",
    "plt.grid(which=\"both\")"
   ]
  },
  {
   "cell_type": "code",
   "execution_count": 4,
   "id": "280543c0",
   "metadata": {},
   "outputs": [
    {
     "name": "stdout",
     "output_type": "stream",
     "text": [
      "Models\n",
      "\n",
      "Component 0: SkyModel\n",
      "\n",
      "  Name                      : NGC_1068\n",
      "  Datasets names            : None\n",
      "  Spectral model type       : TemplateSpectralModel\n",
      "  Spatial  model type       : PointSpatialModel\n",
      "  Temporal model type       : \n",
      "  Parameters:\n",
      "    lon_0                         :     40.669   +/-    0.00 deg         \n",
      "    lat_0                         :     -0.013   +/-    0.00 deg         \n",
      "\n",
      "Component 1: FoVBackgroundModel\n",
      "\n",
      "  Name                      : my-dataset-bkg\n",
      "  Datasets names            : ['my-dataset']\n",
      "  Spectral model type       : PowerLawNormSpectralModel\n",
      "  Parameters:\n",
      "    norm                          :      1.000   +/-    0.00             \n",
      "    tilt                  (frozen):      0.000                   \n",
      "    reference             (frozen):      1.000       TeV         \n",
      "\n",
      "\n"
     ]
    }
   ],
   "source": [
    "# Define the full model\n",
    "models = Models([sky_model, bkg_model])\n",
    "print(models)\n",
    "\n",
    "# save it to disk\n",
    "file_model = \"./Ajello_NGC_1068.yaml\"\n",
    "models.write(file_model, write_covariance=False, overwrite=True)\n",
    "\n",
    "irf_filename = \"/Users/tharacaba/Desktop/Tesis_2/gammapy-datasets/1.3/cta-prod5-zenodo-fitsonly-v0/fits/CTA-Performance-prod5-v0.1-North-40deg.FITS/Prod5-North-40deg-AverageAz-4LSTs09MSTs.180000s-v0.1.fits\"  \n",
    "IRF = load_irf_dict_from_file(irf_filename)"
   ]
  },
  {
   "cell_type": "code",
   "execution_count": 5,
   "id": "b16f9f68",
   "metadata": {},
   "outputs": [
    {
     "name": "stdout",
     "output_type": "stream",
     "text": [
      "WcsGeom\n",
      "\n",
      "\taxes       : ['lon', 'lat', 'energy']\n",
      "\tshape      : (np.int64(200), np.int64(200), 30)\n",
      "\tndim       : 3\n",
      "\tframe      : icrs\n",
      "\tprojection : CAR\n",
      "\tcenter     : 40.2 deg, -0.0 deg\n",
      "\twidth      : 4.0 deg x 4.0 deg\n",
      "\twcs ref    : 40.2 deg, -0.0 deg\n",
      "\n"
     ]
    }
   ],
   "source": [
    "#Ereco ed Etrue must to be different: Etrue must have a larger range in order to reconstruct in the correct way (knowledge of\n",
    "#the whole photon energy extension)\n",
    "\n",
    "energy_axis = MapAxis.from_energy_bounds(\n",
    "    \"0.1 TeV\", \"100 TeV\", nbin=10, per_decade=True\n",
    "    )\n",
    "\n",
    "# for the Edisp\n",
    "energy_axis_true = MapAxis.from_energy_bounds(\n",
    "    \"0.01 TeV\", \"200 TeV\", nbin=20, per_decade=True, name=\"energy_true\"\n",
    "    )\n",
    "\n",
    "migra_axis = MapAxis.from_bounds(\n",
    "    0.5, 2, nbin=150, node_type=\"edges\", name=\"migra\" #If node_type = ‘edge’ then bounds correspond to the lower\n",
    "                                                      #  and upper bound of the first and last bin.\n",
    "    )   \n",
    "\n",
    "pointing = FixedPointingInfo(\n",
    "    fixed_icrs=SkyCoord(40.169 * u.deg, -0.013 * u.deg, frame=\"icrs\", unit=\"deg\"),\n",
    ")  \n",
    "\n",
    "# let's define the geometry of the simulation:\n",
    "geom = WcsGeom.create(\n",
    "    skydir=pointing.fixed_icrs,           \n",
    "    width=(4, 4),         # gammapy uses a square not a circle \n",
    "    binsz=0.02,           # pixel size\n",
    "    frame=\"icrs\",\n",
    "    axes=[energy_axis],    #in reco energy\n",
    ")\n",
    "print(geom)"
   ]
  },
  {
   "cell_type": "code",
   "execution_count": 6,
   "id": "18dfc675",
   "metadata": {},
   "outputs": [
    {
     "name": "stdout",
     "output_type": "stream",
     "text": [
      "Deleted file: /Users/tharacaba/Desktop/Tesis_2/MASS_Thesis/simulations/Ajello_starburst/Experiment/events_obs55.fits\n",
      "Deleted file: /Users/tharacaba/Desktop/Tesis_2/MASS_Thesis/simulations/Ajello_starburst/Experiment/events_obs43.fits\n",
      "Deleted file: /Users/tharacaba/Desktop/Tesis_2/MASS_Thesis/simulations/Ajello_starburst/Experiment/events_obs14.fits\n",
      "Deleted file: /Users/tharacaba/Desktop/Tesis_2/MASS_Thesis/simulations/Ajello_starburst/Experiment/events_obs80.fits\n",
      "Deleted file: /Users/tharacaba/Desktop/Tesis_2/MASS_Thesis/simulations/Ajello_starburst/Experiment/events_obs38.fits\n",
      "Deleted file: /Users/tharacaba/Desktop/Tesis_2/MASS_Thesis/simulations/Ajello_starburst/Experiment/events_obs0.fits\n",
      "Deleted file: /Users/tharacaba/Desktop/Tesis_2/MASS_Thesis/simulations/Ajello_starburst/Experiment/events_obs79.fits\n",
      "Deleted file: /Users/tharacaba/Desktop/Tesis_2/MASS_Thesis/simulations/Ajello_starburst/Experiment/events_obs59.fits\n",
      "Deleted file: /Users/tharacaba/Desktop/Tesis_2/MASS_Thesis/simulations/Ajello_starburst/Experiment/events_obs18.fits\n",
      "Deleted file: /Users/tharacaba/Desktop/Tesis_2/MASS_Thesis/simulations/Ajello_starburst/Experiment/events_obs63.fits\n",
      "Deleted file: /Users/tharacaba/Desktop/Tesis_2/MASS_Thesis/simulations/Ajello_starburst/Experiment/events_obs34.fits\n",
      "Deleted file: /Users/tharacaba/Desktop/Tesis_2/MASS_Thesis/simulations/Ajello_starburst/Experiment/events_obs22.fits\n",
      "Deleted file: /Users/tharacaba/Desktop/Tesis_2/MASS_Thesis/simulations/Ajello_starburst/Experiment/events_obs75.fits\n",
      "Deleted file: /Users/tharacaba/Desktop/Tesis_2/MASS_Thesis/simulations/Ajello_starburst/Experiment/events_obs74.fits\n",
      "Deleted file: /Users/tharacaba/Desktop/Tesis_2/MASS_Thesis/simulations/Ajello_starburst/Experiment/events_obs23.fits\n",
      "Deleted file: /Users/tharacaba/Desktop/Tesis_2/MASS_Thesis/simulations/Ajello_starburst/Experiment/events_obs35.fits\n",
      "Deleted file: /Users/tharacaba/Desktop/Tesis_2/MASS_Thesis/simulations/Ajello_starburst/Experiment/events_obs62.fits\n",
      "Deleted file: /Users/tharacaba/Desktop/Tesis_2/MASS_Thesis/simulations/Ajello_starburst/Experiment/events_obs19.fits\n",
      "Deleted file: /Users/tharacaba/Desktop/Tesis_2/MASS_Thesis/simulations/Ajello_starburst/Experiment/events_obs58.fits\n",
      "Deleted file: /Users/tharacaba/Desktop/Tesis_2/MASS_Thesis/simulations/Ajello_starburst/Experiment/events_obs78.fits\n",
      "Deleted file: /Users/tharacaba/Desktop/Tesis_2/MASS_Thesis/simulations/Ajello_starburst/Experiment/events_obs1.fits\n",
      "Deleted file: /Users/tharacaba/Desktop/Tesis_2/MASS_Thesis/simulations/Ajello_starburst/Experiment/events_obs39.fits\n",
      "Deleted file: /Users/tharacaba/Desktop/Tesis_2/MASS_Thesis/simulations/Ajello_starburst/Experiment/events_obs81.fits\n",
      "Deleted file: /Users/tharacaba/Desktop/Tesis_2/MASS_Thesis/simulations/Ajello_starburst/Experiment/events_obs15.fits\n",
      "Deleted file: /Users/tharacaba/Desktop/Tesis_2/MASS_Thesis/simulations/Ajello_starburst/Experiment/events_obs42.fits\n",
      "Deleted file: /Users/tharacaba/Desktop/Tesis_2/MASS_Thesis/simulations/Ajello_starburst/Experiment/events_obs54.fits\n",
      "Deleted file: /Users/tharacaba/Desktop/Tesis_2/MASS_Thesis/simulations/Ajello_starburst/Experiment/events_obs49.fits\n",
      "Deleted file: /Users/tharacaba/Desktop/Tesis_2/MASS_Thesis/simulations/Ajello_starburst/Experiment/events_obs65.fits\n",
      "Deleted file: /Users/tharacaba/Desktop/Tesis_2/MASS_Thesis/simulations/Ajello_starburst/Experiment/events_obs32.fits\n",
      "Deleted file: /Users/tharacaba/Desktop/Tesis_2/MASS_Thesis/simulations/Ajello_starburst/Experiment/events_obs24.fits\n",
      "Deleted file: /Users/tharacaba/Desktop/Tesis_2/MASS_Thesis/simulations/Ajello_starburst/Experiment/events_obs73.fits\n",
      "Deleted file: /Users/tharacaba/Desktop/Tesis_2/MASS_Thesis/simulations/Ajello_starburst/Experiment/events_obs53.fits\n",
      "Deleted file: /Users/tharacaba/Desktop/Tesis_2/MASS_Thesis/simulations/Ajello_starburst/Experiment/events_obs45.fits\n",
      "Deleted file: /Users/tharacaba/Desktop/Tesis_2/MASS_Thesis/simulations/Ajello_starburst/Experiment/events_obs12.fits\n",
      "Deleted file: /Users/tharacaba/Desktop/Tesis_2/MASS_Thesis/simulations/Ajello_starburst/Experiment/events_obs69.fits\n",
      "Deleted file: /Users/tharacaba/Desktop/Tesis_2/MASS_Thesis/simulations/Ajello_starburst/Experiment/events_obs86.fits\n",
      "Deleted file: /Users/tharacaba/Desktop/Tesis_2/MASS_Thesis/simulations/Ajello_starburst/Experiment/events_obs28.fits\n",
      "Deleted file: /Users/tharacaba/Desktop/Tesis_2/MASS_Thesis/simulations/Ajello_starburst/Experiment/events_obs6.fits\n",
      "Deleted file: /Users/tharacaba/Desktop/Tesis_2/MASS_Thesis/simulations/Ajello_starburst/Experiment/events_obs7.fits\n",
      "Deleted file: /Users/tharacaba/Desktop/Tesis_2/MASS_Thesis/simulations/Ajello_starburst/Experiment/events_obs29.fits\n",
      "Deleted file: /Users/tharacaba/Desktop/Tesis_2/MASS_Thesis/simulations/Ajello_starburst/Experiment/events_obs68.fits\n",
      "Deleted file: /Users/tharacaba/Desktop/Tesis_2/MASS_Thesis/simulations/Ajello_starburst/Experiment/events_obs87.fits\n",
      "Deleted file: /Users/tharacaba/Desktop/Tesis_2/MASS_Thesis/simulations/Ajello_starburst/Experiment/events_obs13.fits\n",
      "Deleted file: /Users/tharacaba/Desktop/Tesis_2/MASS_Thesis/simulations/Ajello_starburst/Experiment/events_obs44.fits\n",
      "Deleted file: /Users/tharacaba/Desktop/Tesis_2/MASS_Thesis/simulations/Ajello_starburst/Experiment/events_obs52.fits\n",
      "Deleted file: /Users/tharacaba/Desktop/Tesis_2/MASS_Thesis/simulations/Ajello_starburst/Experiment/events_obs72.fits\n",
      "Deleted file: /Users/tharacaba/Desktop/Tesis_2/MASS_Thesis/simulations/Ajello_starburst/Experiment/events_obs25.fits\n",
      "Deleted file: /Users/tharacaba/Desktop/Tesis_2/MASS_Thesis/simulations/Ajello_starburst/Experiment/events_obs33.fits\n",
      "Deleted file: /Users/tharacaba/Desktop/Tesis_2/MASS_Thesis/simulations/Ajello_starburst/Experiment/events_obs64.fits\n",
      "Deleted file: /Users/tharacaba/Desktop/Tesis_2/MASS_Thesis/simulations/Ajello_starburst/Experiment/events_obs48.fits\n",
      "Deleted file: /Users/tharacaba/Desktop/Tesis_2/MASS_Thesis/simulations/Ajello_starburst/Experiment/events_obs8.fits\n",
      "Deleted file: /Users/tharacaba/Desktop/Tesis_2/MASS_Thesis/simulations/Ajello_starburst/Experiment/events_obs71.fits\n",
      "Deleted file: /Users/tharacaba/Desktop/Tesis_2/MASS_Thesis/simulations/Ajello_starburst/Experiment/events_obs26.fits\n",
      "Deleted file: /Users/tharacaba/Desktop/Tesis_2/MASS_Thesis/simulations/Ajello_starburst/Experiment/events_obs30.fits\n",
      "Deleted file: /Users/tharacaba/Desktop/Tesis_2/MASS_Thesis/simulations/Ajello_starburst/Experiment/events_obs88.fits\n",
      "Deleted file: /Users/tharacaba/Desktop/Tesis_2/MASS_Thesis/simulations/Ajello_starburst/Experiment/events_obs67.fits\n",
      "Deleted file: /Users/tharacaba/Desktop/Tesis_2/MASS_Thesis/simulations/Ajello_starburst/Experiment/events_obs4.fits\n",
      "Deleted file: /Users/tharacaba/Desktop/Tesis_2/MASS_Thesis/simulations/Ajello_starburst/Experiment/events_obs84.fits\n",
      "Deleted file: /Users/tharacaba/Desktop/Tesis_2/MASS_Thesis/simulations/Ajello_starburst/Experiment/events_obs10.fits\n",
      "Deleted file: /Users/tharacaba/Desktop/Tesis_2/MASS_Thesis/simulations/Ajello_starburst/Experiment/events_obs47.fits\n",
      "Deleted file: /Users/tharacaba/Desktop/Tesis_2/MASS_Thesis/simulations/Ajello_starburst/Experiment/events_obs51.fits\n",
      "Deleted file: /Users/tharacaba/Desktop/Tesis_2/MASS_Thesis/simulations/Ajello_starburst/Experiment/events_obs50.fits\n",
      "Deleted file: /Users/tharacaba/Desktop/Tesis_2/MASS_Thesis/simulations/Ajello_starburst/Experiment/events_obs46.fits\n",
      "Deleted file: /Users/tharacaba/Desktop/Tesis_2/MASS_Thesis/simulations/Ajello_starburst/Experiment/events_obs11.fits\n",
      "Deleted file: /Users/tharacaba/Desktop/Tesis_2/MASS_Thesis/simulations/Ajello_starburst/Experiment/events_obs85.fits\n",
      "Deleted file: /Users/tharacaba/Desktop/Tesis_2/MASS_Thesis/simulations/Ajello_starburst/Experiment/events_obs5.fits\n",
      "Deleted file: /Users/tharacaba/Desktop/Tesis_2/MASS_Thesis/simulations/Ajello_starburst/Experiment/events_obs89.fits\n",
      "Deleted file: /Users/tharacaba/Desktop/Tesis_2/MASS_Thesis/simulations/Ajello_starburst/Experiment/events_obs66.fits\n",
      "Deleted file: /Users/tharacaba/Desktop/Tesis_2/MASS_Thesis/simulations/Ajello_starburst/Experiment/events_obs31.fits\n",
      "Deleted file: /Users/tharacaba/Desktop/Tesis_2/MASS_Thesis/simulations/Ajello_starburst/Experiment/events_obs27.fits\n",
      "Deleted file: /Users/tharacaba/Desktop/Tesis_2/MASS_Thesis/simulations/Ajello_starburst/Experiment/events_obs70.fits\n",
      "Deleted file: /Users/tharacaba/Desktop/Tesis_2/MASS_Thesis/simulations/Ajello_starburst/Experiment/events_obs9.fits\n",
      "Deleted file: /Users/tharacaba/Desktop/Tesis_2/MASS_Thesis/simulations/Ajello_starburst/Experiment/events_obs2.fits\n",
      "Deleted file: /Users/tharacaba/Desktop/Tesis_2/MASS_Thesis/simulations/Ajello_starburst/Experiment/events_obs82.fits\n",
      "Deleted file: /Users/tharacaba/Desktop/Tesis_2/MASS_Thesis/simulations/Ajello_starburst/Experiment/events_obs16.fits\n",
      "Deleted file: /Users/tharacaba/Desktop/Tesis_2/MASS_Thesis/simulations/Ajello_starburst/Experiment/events_obs41.fits\n",
      "Deleted file: /Users/tharacaba/Desktop/Tesis_2/MASS_Thesis/simulations/Ajello_starburst/Experiment/events_obs57.fits\n",
      "Deleted file: /Users/tharacaba/Desktop/Tesis_2/MASS_Thesis/simulations/Ajello_starburst/Experiment/events_obs77.fits\n",
      "Deleted file: /Users/tharacaba/Desktop/Tesis_2/MASS_Thesis/simulations/Ajello_starburst/Experiment/events_obs20.fits\n",
      "Deleted file: /Users/tharacaba/Desktop/Tesis_2/MASS_Thesis/simulations/Ajello_starburst/Experiment/events_obs36.fits\n",
      "Deleted file: /Users/tharacaba/Desktop/Tesis_2/MASS_Thesis/simulations/Ajello_starburst/Experiment/events_obs61.fits\n",
      "Deleted file: /Users/tharacaba/Desktop/Tesis_2/MASS_Thesis/simulations/Ajello_starburst/Experiment/events_obs60.fits\n",
      "Deleted file: /Users/tharacaba/Desktop/Tesis_2/MASS_Thesis/simulations/Ajello_starburst/Experiment/events_obs37.fits\n",
      "Deleted file: /Users/tharacaba/Desktop/Tesis_2/MASS_Thesis/simulations/Ajello_starburst/Experiment/events_obs21.fits\n",
      "Deleted file: /Users/tharacaba/Desktop/Tesis_2/MASS_Thesis/simulations/Ajello_starburst/Experiment/events_obs76.fits\n",
      "Deleted file: /Users/tharacaba/Desktop/Tesis_2/MASS_Thesis/simulations/Ajello_starburst/Experiment/events_obs56.fits\n",
      "Deleted file: /Users/tharacaba/Desktop/Tesis_2/MASS_Thesis/simulations/Ajello_starburst/Experiment/events_obs40.fits\n",
      "Deleted file: /Users/tharacaba/Desktop/Tesis_2/MASS_Thesis/simulations/Ajello_starburst/Experiment/events_obs17.fits\n",
      "Deleted file: /Users/tharacaba/Desktop/Tesis_2/MASS_Thesis/simulations/Ajello_starburst/Experiment/events_obs83.fits\n",
      "Deleted file: /Users/tharacaba/Desktop/Tesis_2/MASS_Thesis/simulations/Ajello_starburst/Experiment/events_obs3.fits\n"
     ]
    }
   ],
   "source": [
    "# Get all files in the ./sims directory\n",
    "files = glob.glob('/Users/tharacaba/Desktop/Tesis_2/MASS_Thesis/simulations/Ajello_starburst/Experiment/*.fits')\n",
    "\n",
    "# Loop and delete each file\n",
    "for f in files:\n",
    "    if os.path.isfile(f):\n",
    "        os.remove(f)\n",
    "        print(f\"Deleted file: {f}\")"
   ]
  },
  {
   "cell_type": "code",
   "execution_count": 7,
   "id": "c2cad8a5",
   "metadata": {},
   "outputs": [
    {
     "name": "stdout",
     "output_type": "stream",
     "text": [
      "Simulating observation 0, tstart = 0.083 d, livetime = 0.5 h\n"
     ]
    },
    {
     "name": "stderr",
     "output_type": "stream",
     "text": [
      "The meta information will be empty here.\n"
     ]
    },
    {
     "name": "stdout",
     "output_type": "stream",
     "text": [
      "Simulating observation 1, tstart = 0.13703296703296702 d, livetime = 0.5 h\n"
     ]
    },
    {
     "name": "stderr",
     "output_type": "stream",
     "text": [
      "The meta information will be empty here.\n"
     ]
    },
    {
     "name": "stdout",
     "output_type": "stream",
     "text": [
      "Simulating observation 2, tstart = 0.19106593406593408 d, livetime = 0.5 h\n"
     ]
    },
    {
     "name": "stderr",
     "output_type": "stream",
     "text": [
      "The meta information will be empty here.\n"
     ]
    },
    {
     "name": "stdout",
     "output_type": "stream",
     "text": [
      "Simulating observation 3, tstart = 0.2450989010989011 d, livetime = 0.5 h\n"
     ]
    },
    {
     "name": "stderr",
     "output_type": "stream",
     "text": [
      "The meta information will be empty here.\n"
     ]
    },
    {
     "name": "stdout",
     "output_type": "stream",
     "text": [
      "Simulating observation 4, tstart = 0.29913186813186815 d, livetime = 0.5 h\n"
     ]
    },
    {
     "name": "stderr",
     "output_type": "stream",
     "text": [
      "The meta information will be empty here.\n"
     ]
    },
    {
     "name": "stdout",
     "output_type": "stream",
     "text": [
      "Simulating observation 5, tstart = 0.35316483516483516 d, livetime = 0.5 h\n"
     ]
    },
    {
     "name": "stderr",
     "output_type": "stream",
     "text": [
      "The meta information will be empty here.\n"
     ]
    },
    {
     "name": "stdout",
     "output_type": "stream",
     "text": [
      "Simulating observation 6, tstart = 0.4071978021978022 d, livetime = 0.5 h\n"
     ]
    },
    {
     "name": "stderr",
     "output_type": "stream",
     "text": [
      "The meta information will be empty here.\n"
     ]
    },
    {
     "name": "stdout",
     "output_type": "stream",
     "text": [
      "Simulating observation 7, tstart = 0.4612307692307693 d, livetime = 0.5 h\n"
     ]
    },
    {
     "name": "stderr",
     "output_type": "stream",
     "text": [
      "The meta information will be empty here.\n"
     ]
    },
    {
     "name": "stdout",
     "output_type": "stream",
     "text": [
      "Simulating observation 8, tstart = 0.5152637362637362 d, livetime = 0.5 h\n"
     ]
    },
    {
     "name": "stderr",
     "output_type": "stream",
     "text": [
      "The meta information will be empty here.\n"
     ]
    },
    {
     "name": "stdout",
     "output_type": "stream",
     "text": [
      "Simulating observation 9, tstart = 0.5692967032967032 d, livetime = 0.5 h\n"
     ]
    },
    {
     "name": "stderr",
     "output_type": "stream",
     "text": [
      "The meta information will be empty here.\n"
     ]
    },
    {
     "name": "stdout",
     "output_type": "stream",
     "text": [
      "Simulating observation 10, tstart = 0.6233296703296702 d, livetime = 0.5 h\n"
     ]
    },
    {
     "name": "stderr",
     "output_type": "stream",
     "text": [
      "The meta information will be empty here.\n"
     ]
    },
    {
     "name": "stdout",
     "output_type": "stream",
     "text": [
      "Simulating observation 11, tstart = 0.6773626373626374 d, livetime = 0.5 h\n"
     ]
    },
    {
     "name": "stderr",
     "output_type": "stream",
     "text": [
      "The meta information will be empty here.\n"
     ]
    },
    {
     "name": "stdout",
     "output_type": "stream",
     "text": [
      "Simulating observation 12, tstart = 0.7313956043956044 d, livetime = 0.5 h\n"
     ]
    },
    {
     "name": "stderr",
     "output_type": "stream",
     "text": [
      "The meta information will be empty here.\n"
     ]
    },
    {
     "name": "stdout",
     "output_type": "stream",
     "text": [
      "Simulating observation 13, tstart = 0.7854285714285714 d, livetime = 0.5 h\n"
     ]
    },
    {
     "name": "stderr",
     "output_type": "stream",
     "text": [
      "The meta information will be empty here.\n"
     ]
    },
    {
     "name": "stdout",
     "output_type": "stream",
     "text": [
      "Simulating observation 14, tstart = 0.8394615384615385 d, livetime = 0.5 h\n"
     ]
    },
    {
     "name": "stderr",
     "output_type": "stream",
     "text": [
      "The meta information will be empty here.\n"
     ]
    },
    {
     "name": "stdout",
     "output_type": "stream",
     "text": [
      "Simulating observation 15, tstart = 0.8934945054945055 d, livetime = 0.5 h\n"
     ]
    },
    {
     "name": "stderr",
     "output_type": "stream",
     "text": [
      "The meta information will be empty here.\n"
     ]
    },
    {
     "name": "stdout",
     "output_type": "stream",
     "text": [
      "Simulating observation 16, tstart = 0.9475274725274725 d, livetime = 0.5 h\n"
     ]
    },
    {
     "name": "stderr",
     "output_type": "stream",
     "text": [
      "The meta information will be empty here.\n"
     ]
    },
    {
     "name": "stdout",
     "output_type": "stream",
     "text": [
      "Simulating observation 17, tstart = 1.0015604395604396 d, livetime = 0.5 h\n"
     ]
    },
    {
     "name": "stderr",
     "output_type": "stream",
     "text": [
      "The meta information will be empty here.\n"
     ]
    },
    {
     "name": "stdout",
     "output_type": "stream",
     "text": [
      "Simulating observation 18, tstart = 1.0555934065934065 d, livetime = 0.5 h\n"
     ]
    },
    {
     "name": "stderr",
     "output_type": "stream",
     "text": [
      "The meta information will be empty here.\n"
     ]
    },
    {
     "name": "stdout",
     "output_type": "stream",
     "text": [
      "Simulating observation 19, tstart = 1.1096263736263736 d, livetime = 0.5 h\n"
     ]
    },
    {
     "name": "stderr",
     "output_type": "stream",
     "text": [
      "The meta information will be empty here.\n"
     ]
    },
    {
     "name": "stdout",
     "output_type": "stream",
     "text": [
      "Simulating observation 20, tstart = 1.1636593406593405 d, livetime = 0.5 h\n"
     ]
    },
    {
     "name": "stderr",
     "output_type": "stream",
     "text": [
      "The meta information will be empty here.\n"
     ]
    },
    {
     "name": "stdout",
     "output_type": "stream",
     "text": [
      "Simulating observation 21, tstart = 1.2176923076923076 d, livetime = 0.5 h\n"
     ]
    },
    {
     "name": "stderr",
     "output_type": "stream",
     "text": [
      "The meta information will be empty here.\n"
     ]
    },
    {
     "name": "stdout",
     "output_type": "stream",
     "text": [
      "Simulating observation 22, tstart = 1.2717252747252747 d, livetime = 0.5 h\n"
     ]
    },
    {
     "name": "stderr",
     "output_type": "stream",
     "text": [
      "The meta information will be empty here.\n"
     ]
    },
    {
     "name": "stdout",
     "output_type": "stream",
     "text": [
      "Simulating observation 23, tstart = 1.3257582417582416 d, livetime = 0.5 h\n"
     ]
    },
    {
     "name": "stderr",
     "output_type": "stream",
     "text": [
      "The meta information will be empty here.\n"
     ]
    },
    {
     "name": "stdout",
     "output_type": "stream",
     "text": [
      "Simulating observation 24, tstart = 1.3797912087912088 d, livetime = 0.5 h\n"
     ]
    },
    {
     "name": "stderr",
     "output_type": "stream",
     "text": [
      "The meta information will be empty here.\n"
     ]
    },
    {
     "name": "stdout",
     "output_type": "stream",
     "text": [
      "Simulating observation 25, tstart = 1.4338241758241759 d, livetime = 0.5 h\n"
     ]
    },
    {
     "name": "stderr",
     "output_type": "stream",
     "text": [
      "The meta information will be empty here.\n"
     ]
    },
    {
     "name": "stdout",
     "output_type": "stream",
     "text": [
      "Simulating observation 26, tstart = 1.4878571428571428 d, livetime = 0.5 h\n"
     ]
    },
    {
     "name": "stderr",
     "output_type": "stream",
     "text": [
      "The meta information will be empty here.\n"
     ]
    },
    {
     "name": "stdout",
     "output_type": "stream",
     "text": [
      "Simulating observation 27, tstart = 1.5418901098901099 d, livetime = 0.5 h\n"
     ]
    },
    {
     "name": "stderr",
     "output_type": "stream",
     "text": [
      "The meta information will be empty here.\n"
     ]
    },
    {
     "name": "stdout",
     "output_type": "stream",
     "text": [
      "Simulating observation 28, tstart = 1.595923076923077 d, livetime = 0.5 h\n"
     ]
    },
    {
     "name": "stderr",
     "output_type": "stream",
     "text": [
      "The meta information will be empty here.\n"
     ]
    },
    {
     "name": "stdout",
     "output_type": "stream",
     "text": [
      "Simulating observation 29, tstart = 1.649956043956044 d, livetime = 0.5 h\n"
     ]
    },
    {
     "name": "stderr",
     "output_type": "stream",
     "text": [
      "The meta information will be empty here.\n"
     ]
    },
    {
     "name": "stdout",
     "output_type": "stream",
     "text": [
      "Simulating observation 30, tstart = 1.703989010989011 d, livetime = 0.5 h\n"
     ]
    },
    {
     "name": "stderr",
     "output_type": "stream",
     "text": [
      "The meta information will be empty here.\n"
     ]
    },
    {
     "name": "stdout",
     "output_type": "stream",
     "text": [
      "Simulating observation 31, tstart = 1.758021978021978 d, livetime = 0.5 h\n"
     ]
    },
    {
     "name": "stderr",
     "output_type": "stream",
     "text": [
      "The meta information will be empty here.\n"
     ]
    },
    {
     "name": "stdout",
     "output_type": "stream",
     "text": [
      "Simulating observation 32, tstart = 1.812054945054945 d, livetime = 0.5 h\n"
     ]
    },
    {
     "name": "stderr",
     "output_type": "stream",
     "text": [
      "The meta information will be empty here.\n"
     ]
    },
    {
     "name": "stdout",
     "output_type": "stream",
     "text": [
      "Simulating observation 33, tstart = 1.8660879120879121 d, livetime = 0.5 h\n"
     ]
    },
    {
     "name": "stderr",
     "output_type": "stream",
     "text": [
      "The meta information will be empty here.\n"
     ]
    },
    {
     "name": "stdout",
     "output_type": "stream",
     "text": [
      "Simulating observation 34, tstart = 1.920120879120879 d, livetime = 0.5 h\n"
     ]
    },
    {
     "name": "stderr",
     "output_type": "stream",
     "text": [
      "The meta information will be empty here.\n"
     ]
    },
    {
     "name": "stdout",
     "output_type": "stream",
     "text": [
      "Simulating observation 35, tstart = 1.9741538461538461 d, livetime = 0.5 h\n"
     ]
    },
    {
     "name": "stderr",
     "output_type": "stream",
     "text": [
      "The meta information will be empty here.\n"
     ]
    },
    {
     "name": "stdout",
     "output_type": "stream",
     "text": [
      "Simulating observation 36, tstart = 2.0281868131868133 d, livetime = 0.5 h\n"
     ]
    },
    {
     "name": "stderr",
     "output_type": "stream",
     "text": [
      "The meta information will be empty here.\n"
     ]
    },
    {
     "name": "stdout",
     "output_type": "stream",
     "text": [
      "Simulating observation 37, tstart = 2.08221978021978 d, livetime = 0.5 h\n"
     ]
    },
    {
     "name": "stderr",
     "output_type": "stream",
     "text": [
      "The meta information will be empty here.\n"
     ]
    },
    {
     "name": "stdout",
     "output_type": "stream",
     "text": [
      "Simulating observation 38, tstart = 2.1362527472527475 d, livetime = 0.5 h\n"
     ]
    },
    {
     "name": "stderr",
     "output_type": "stream",
     "text": [
      "The meta information will be empty here.\n"
     ]
    },
    {
     "name": "stdout",
     "output_type": "stream",
     "text": [
      "Simulating observation 39, tstart = 2.1902857142857144 d, livetime = 0.5 h\n"
     ]
    },
    {
     "name": "stderr",
     "output_type": "stream",
     "text": [
      "The meta information will be empty here.\n"
     ]
    },
    {
     "name": "stdout",
     "output_type": "stream",
     "text": [
      "Simulating observation 40, tstart = 2.2443186813186813 d, livetime = 0.5 h\n"
     ]
    },
    {
     "name": "stderr",
     "output_type": "stream",
     "text": [
      "The meta information will be empty here.\n"
     ]
    },
    {
     "name": "stdout",
     "output_type": "stream",
     "text": [
      "Simulating observation 41, tstart = 2.2983516483516486 d, livetime = 0.5 h\n"
     ]
    },
    {
     "name": "stderr",
     "output_type": "stream",
     "text": [
      "The meta information will be empty here.\n"
     ]
    },
    {
     "name": "stdout",
     "output_type": "stream",
     "text": [
      "Simulating observation 42, tstart = 2.3523846153846155 d, livetime = 0.5 h\n"
     ]
    },
    {
     "name": "stderr",
     "output_type": "stream",
     "text": [
      "The meta information will be empty here.\n"
     ]
    },
    {
     "name": "stdout",
     "output_type": "stream",
     "text": [
      "Simulating observation 43, tstart = 2.4064175824175824 d, livetime = 0.5 h\n"
     ]
    },
    {
     "name": "stderr",
     "output_type": "stream",
     "text": [
      "The meta information will be empty here.\n"
     ]
    },
    {
     "name": "stdout",
     "output_type": "stream",
     "text": [
      "Simulating observation 44, tstart = 2.4604505494505498 d, livetime = 0.5 h\n"
     ]
    },
    {
     "name": "stderr",
     "output_type": "stream",
     "text": [
      "The meta information will be empty here.\n"
     ]
    },
    {
     "name": "stdout",
     "output_type": "stream",
     "text": [
      "Simulating observation 45, tstart = 2.5144835164835166 d, livetime = 0.5 h\n"
     ]
    },
    {
     "name": "stderr",
     "output_type": "stream",
     "text": [
      "The meta information will be empty here.\n"
     ]
    },
    {
     "name": "stdout",
     "output_type": "stream",
     "text": [
      "Simulating observation 46, tstart = 2.5685164835164835 d, livetime = 0.5 h\n"
     ]
    },
    {
     "name": "stderr",
     "output_type": "stream",
     "text": [
      "The meta information will be empty here.\n"
     ]
    },
    {
     "name": "stdout",
     "output_type": "stream",
     "text": [
      "Simulating observation 47, tstart = 2.622549450549451 d, livetime = 0.5 h\n"
     ]
    },
    {
     "name": "stderr",
     "output_type": "stream",
     "text": [
      "The meta information will be empty here.\n"
     ]
    },
    {
     "name": "stdout",
     "output_type": "stream",
     "text": [
      "Simulating observation 48, tstart = 2.6765824175824178 d, livetime = 0.5 h\n"
     ]
    },
    {
     "name": "stderr",
     "output_type": "stream",
     "text": [
      "The meta information will be empty here.\n"
     ]
    },
    {
     "name": "stdout",
     "output_type": "stream",
     "text": [
      "Simulating observation 49, tstart = 2.7306153846153847 d, livetime = 0.5 h\n"
     ]
    },
    {
     "name": "stderr",
     "output_type": "stream",
     "text": [
      "The meta information will be empty here.\n"
     ]
    },
    {
     "name": "stdout",
     "output_type": "stream",
     "text": [
      "Simulating observation 50, tstart = 2.784648351648352 d, livetime = 0.5 h\n"
     ]
    },
    {
     "name": "stderr",
     "output_type": "stream",
     "text": [
      "The meta information will be empty here.\n"
     ]
    },
    {
     "name": "stdout",
     "output_type": "stream",
     "text": [
      "Simulating observation 51, tstart = 2.838681318681319 d, livetime = 0.5 h\n"
     ]
    },
    {
     "name": "stderr",
     "output_type": "stream",
     "text": [
      "The meta information will be empty here.\n"
     ]
    },
    {
     "name": "stdout",
     "output_type": "stream",
     "text": [
      "Simulating observation 52, tstart = 2.892714285714286 d, livetime = 0.5 h\n"
     ]
    },
    {
     "name": "stderr",
     "output_type": "stream",
     "text": [
      "The meta information will be empty here.\n"
     ]
    },
    {
     "name": "stdout",
     "output_type": "stream",
     "text": [
      "Simulating observation 53, tstart = 2.946747252747253 d, livetime = 0.5 h\n"
     ]
    },
    {
     "name": "stderr",
     "output_type": "stream",
     "text": [
      "The meta information will be empty here.\n"
     ]
    },
    {
     "name": "stdout",
     "output_type": "stream",
     "text": [
      "Simulating observation 54, tstart = 3.00078021978022 d, livetime = 0.5 h\n"
     ]
    },
    {
     "name": "stderr",
     "output_type": "stream",
     "text": [
      "The meta information will be empty here.\n"
     ]
    },
    {
     "name": "stdout",
     "output_type": "stream",
     "text": [
      "Simulating observation 55, tstart = 3.054813186813187 d, livetime = 0.5 h\n"
     ]
    },
    {
     "name": "stderr",
     "output_type": "stream",
     "text": [
      "The meta information will be empty here.\n"
     ]
    },
    {
     "name": "stdout",
     "output_type": "stream",
     "text": [
      "Simulating observation 56, tstart = 3.1088461538461543 d, livetime = 0.5 h\n"
     ]
    },
    {
     "name": "stderr",
     "output_type": "stream",
     "text": [
      "The meta information will be empty here.\n"
     ]
    },
    {
     "name": "stdout",
     "output_type": "stream",
     "text": [
      "Simulating observation 57, tstart = 3.162879120879121 d, livetime = 0.5 h\n"
     ]
    },
    {
     "name": "stderr",
     "output_type": "stream",
     "text": [
      "The meta information will be empty here.\n"
     ]
    },
    {
     "name": "stdout",
     "output_type": "stream",
     "text": [
      "Simulating observation 58, tstart = 3.216912087912088 d, livetime = 0.5 h\n"
     ]
    },
    {
     "name": "stderr",
     "output_type": "stream",
     "text": [
      "The meta information will be empty here.\n"
     ]
    },
    {
     "name": "stdout",
     "output_type": "stream",
     "text": [
      "Simulating observation 59, tstart = 3.270945054945055 d, livetime = 0.5 h\n"
     ]
    },
    {
     "name": "stderr",
     "output_type": "stream",
     "text": [
      "The meta information will be empty here.\n"
     ]
    },
    {
     "name": "stdout",
     "output_type": "stream",
     "text": [
      "Simulating observation 60, tstart = 3.3249780219780223 d, livetime = 0.5 h\n"
     ]
    },
    {
     "name": "stderr",
     "output_type": "stream",
     "text": [
      "The meta information will be empty here.\n"
     ]
    },
    {
     "name": "stdout",
     "output_type": "stream",
     "text": [
      "Simulating observation 61, tstart = 3.379010989010989 d, livetime = 0.5 h\n"
     ]
    },
    {
     "name": "stderr",
     "output_type": "stream",
     "text": [
      "The meta information will be empty here.\n"
     ]
    },
    {
     "name": "stdout",
     "output_type": "stream",
     "text": [
      "Simulating observation 62, tstart = 3.433043956043956 d, livetime = 0.5 h\n"
     ]
    },
    {
     "name": "stderr",
     "output_type": "stream",
     "text": [
      "The meta information will be empty here.\n"
     ]
    },
    {
     "name": "stdout",
     "output_type": "stream",
     "text": [
      "Simulating observation 63, tstart = 3.4870769230769234 d, livetime = 0.5 h\n"
     ]
    },
    {
     "name": "stderr",
     "output_type": "stream",
     "text": [
      "The meta information will be empty here.\n"
     ]
    },
    {
     "name": "stdout",
     "output_type": "stream",
     "text": [
      "Simulating observation 64, tstart = 3.5411098901098903 d, livetime = 0.5 h\n"
     ]
    },
    {
     "name": "stderr",
     "output_type": "stream",
     "text": [
      "The meta information will be empty here.\n"
     ]
    },
    {
     "name": "stdout",
     "output_type": "stream",
     "text": [
      "Simulating observation 65, tstart = 3.595142857142857 d, livetime = 0.5 h\n"
     ]
    },
    {
     "name": "stderr",
     "output_type": "stream",
     "text": [
      "The meta information will be empty here.\n"
     ]
    },
    {
     "name": "stdout",
     "output_type": "stream",
     "text": [
      "Simulating observation 66, tstart = 3.6491758241758245 d, livetime = 0.5 h\n"
     ]
    },
    {
     "name": "stderr",
     "output_type": "stream",
     "text": [
      "The meta information will be empty here.\n"
     ]
    },
    {
     "name": "stdout",
     "output_type": "stream",
     "text": [
      "Simulating observation 67, tstart = 3.7032087912087914 d, livetime = 0.5 h\n"
     ]
    },
    {
     "name": "stderr",
     "output_type": "stream",
     "text": [
      "The meta information will be empty here.\n"
     ]
    },
    {
     "name": "stdout",
     "output_type": "stream",
     "text": [
      "Simulating observation 68, tstart = 3.7572417582417583 d, livetime = 0.5 h\n"
     ]
    },
    {
     "name": "stderr",
     "output_type": "stream",
     "text": [
      "The meta information will be empty here.\n"
     ]
    },
    {
     "name": "stdout",
     "output_type": "stream",
     "text": [
      "Simulating observation 69, tstart = 3.8112747252747257 d, livetime = 0.5 h\n"
     ]
    },
    {
     "name": "stderr",
     "output_type": "stream",
     "text": [
      "The meta information will be empty here.\n"
     ]
    },
    {
     "name": "stdout",
     "output_type": "stream",
     "text": [
      "Simulating observation 70, tstart = 3.8653076923076926 d, livetime = 0.5 h\n"
     ]
    },
    {
     "name": "stderr",
     "output_type": "stream",
     "text": [
      "The meta information will be empty here.\n"
     ]
    },
    {
     "name": "stdout",
     "output_type": "stream",
     "text": [
      "Simulating observation 71, tstart = 3.9193406593406594 d, livetime = 0.5 h\n"
     ]
    },
    {
     "name": "stderr",
     "output_type": "stream",
     "text": [
      "The meta information will be empty here.\n"
     ]
    },
    {
     "name": "stdout",
     "output_type": "stream",
     "text": [
      "Simulating observation 72, tstart = 3.9733736263736263 d, livetime = 0.5 h\n"
     ]
    },
    {
     "name": "stderr",
     "output_type": "stream",
     "text": [
      "The meta information will be empty here.\n"
     ]
    },
    {
     "name": "stdout",
     "output_type": "stream",
     "text": [
      "Simulating observation 73, tstart = 4.027406593406593 d, livetime = 0.5 h\n"
     ]
    },
    {
     "name": "stderr",
     "output_type": "stream",
     "text": [
      "The meta information will be empty here.\n"
     ]
    },
    {
     "name": "stdout",
     "output_type": "stream",
     "text": [
      "Simulating observation 74, tstart = 4.08143956043956 d, livetime = 0.5 h\n"
     ]
    },
    {
     "name": "stderr",
     "output_type": "stream",
     "text": [
      "The meta information will be empty here.\n"
     ]
    },
    {
     "name": "stdout",
     "output_type": "stream",
     "text": [
      "Simulating observation 75, tstart = 4.135472527472528 d, livetime = 0.5 h\n"
     ]
    },
    {
     "name": "stderr",
     "output_type": "stream",
     "text": [
      "The meta information will be empty here.\n"
     ]
    },
    {
     "name": "stdout",
     "output_type": "stream",
     "text": [
      "Simulating observation 76, tstart = 4.189505494505495 d, livetime = 0.5 h\n"
     ]
    },
    {
     "name": "stderr",
     "output_type": "stream",
     "text": [
      "The meta information will be empty here.\n"
     ]
    },
    {
     "name": "stdout",
     "output_type": "stream",
     "text": [
      "Simulating observation 77, tstart = 4.243538461538462 d, livetime = 0.5 h\n"
     ]
    },
    {
     "name": "stderr",
     "output_type": "stream",
     "text": [
      "The meta information will be empty here.\n"
     ]
    },
    {
     "name": "stdout",
     "output_type": "stream",
     "text": [
      "Simulating observation 78, tstart = 4.297571428571429 d, livetime = 0.5 h\n"
     ]
    },
    {
     "name": "stderr",
     "output_type": "stream",
     "text": [
      "The meta information will be empty here.\n"
     ]
    },
    {
     "name": "stdout",
     "output_type": "stream",
     "text": [
      "Simulating observation 79, tstart = 4.3516043956043955 d, livetime = 0.5 h\n"
     ]
    },
    {
     "name": "stderr",
     "output_type": "stream",
     "text": [
      "The meta information will be empty here.\n"
     ]
    },
    {
     "name": "stdout",
     "output_type": "stream",
     "text": [
      "Simulating observation 80, tstart = 4.405637362637362 d, livetime = 0.5 h\n"
     ]
    },
    {
     "name": "stderr",
     "output_type": "stream",
     "text": [
      "The meta information will be empty here.\n"
     ]
    },
    {
     "name": "stdout",
     "output_type": "stream",
     "text": [
      "Simulating observation 81, tstart = 4.45967032967033 d, livetime = 0.5 h\n"
     ]
    },
    {
     "name": "stderr",
     "output_type": "stream",
     "text": [
      "The meta information will be empty here.\n"
     ]
    },
    {
     "name": "stdout",
     "output_type": "stream",
     "text": [
      "Simulating observation 82, tstart = 4.513703296703297 d, livetime = 0.5 h\n"
     ]
    },
    {
     "name": "stderr",
     "output_type": "stream",
     "text": [
      "The meta information will be empty here.\n"
     ]
    },
    {
     "name": "stdout",
     "output_type": "stream",
     "text": [
      "Simulating observation 83, tstart = 4.567736263736264 d, livetime = 0.5 h\n"
     ]
    },
    {
     "name": "stderr",
     "output_type": "stream",
     "text": [
      "The meta information will be empty here.\n"
     ]
    },
    {
     "name": "stdout",
     "output_type": "stream",
     "text": [
      "Simulating observation 84, tstart = 4.621769230769231 d, livetime = 0.5 h\n"
     ]
    },
    {
     "name": "stderr",
     "output_type": "stream",
     "text": [
      "The meta information will be empty here.\n"
     ]
    },
    {
     "name": "stdout",
     "output_type": "stream",
     "text": [
      "Simulating observation 85, tstart = 4.675802197802198 d, livetime = 0.5 h\n"
     ]
    },
    {
     "name": "stderr",
     "output_type": "stream",
     "text": [
      "The meta information will be empty here.\n"
     ]
    },
    {
     "name": "stdout",
     "output_type": "stream",
     "text": [
      "Simulating observation 86, tstart = 4.729835164835165 d, livetime = 0.5 h\n"
     ]
    },
    {
     "name": "stderr",
     "output_type": "stream",
     "text": [
      "The meta information will be empty here.\n"
     ]
    },
    {
     "name": "stdout",
     "output_type": "stream",
     "text": [
      "Simulating observation 87, tstart = 4.783868131868132 d, livetime = 0.5 h\n"
     ]
    },
    {
     "name": "stderr",
     "output_type": "stream",
     "text": [
      "The meta information will be empty here.\n"
     ]
    },
    {
     "name": "stdout",
     "output_type": "stream",
     "text": [
      "Simulating observation 88, tstart = 4.837901098901099 d, livetime = 0.5 h\n"
     ]
    },
    {
     "name": "stderr",
     "output_type": "stream",
     "text": [
      "The meta information will be empty here.\n"
     ]
    },
    {
     "name": "stdout",
     "output_type": "stream",
     "text": [
      "Simulating observation 89, tstart = 4.891934065934066 d, livetime = 0.5 h\n"
     ]
    },
    {
     "name": "stderr",
     "output_type": "stream",
     "text": [
      "The meta information will be empty here.\n"
     ]
    },
    {
     "name": "stdout",
     "output_type": "stream",
     "text": [
      "Simulating observation 90, tstart = 4.945967032967033 d, livetime = 0.5 h\n"
     ]
    },
    {
     "name": "stderr",
     "output_type": "stream",
     "text": [
      "The meta information will be empty here.\n"
     ]
    },
    {
     "name": "stdout",
     "output_type": "stream",
     "text": [
      "Simulating observation 91, tstart = 5.0 d, livetime = 0.5 h\n"
     ]
    },
    {
     "name": "stderr",
     "output_type": "stream",
     "text": [
      "The meta information will be empty here.\n"
     ]
    }
   ],
   "source": [
    "# tstart_obs = [0.083, 3, 10, 20, 25, 40, 80, 100, 200, 250] * u.d\n",
    "# livetime_obs = [8.5, 8.5, 8.5, 8.5, 8.5, 8.5, 8.5, 8.5, 8.5, 8.5] * u.hr\n",
    "# angle_wobble = [0, 90, 180, 270, 0, 90, 180, 270, 0, 90] * u.deg\n",
    "\n",
    "# Parameters\n",
    "total_hours = 46\n",
    "obs_duration = 0.5  # 30 minutes in hours\n",
    "n_obs = int(total_hours / obs_duration)\n",
    "\n",
    "# Generate tstart_obs with increasing values (non-simultaneous), spread out in time\n",
    "# We use an arbitrary starting point and step to ensure separation\n",
    "tstart_obs = np.linspace(0.083, 5, n_obs) * u.d\n",
    "\n",
    "# All observations are 30 minutes\n",
    "livetime_obs = np.full(n_obs, obs_duration) * u.hr\n",
    "\n",
    "# Generate angle_wobble cycling through [0, 90, 180, 270]\n",
    "base_angles = [0, 90, 180, 270]\n",
    "angle_wobble = [base_angles[i % 4] for i in range(n_obs)] * u.deg\n",
    "\n",
    "location = observatory_locations[\"cta_north\"]\n",
    "\n",
    "reference_time = Time(\"2026-05-28T00:00:00\", format=\"isot\", scale=\"utc\")\n",
    "\n",
    "#### MapDataset object with zer0-filled map\n",
    "empty = MapDataset.create(\n",
    "        geom,                               \n",
    "        energy_axis_true=energy_axis_true,       #for the IRF maps\n",
    "        migra_axis=migra_axis,                   #for the Edisp map\n",
    "        name=\"my-dataset\",                       #the name that will read the FoVBKG\n",
    "            )\n",
    "\n",
    "### Make maps for a single observation\n",
    "maker = MapDatasetMaker(selection=[\"exposure\", \"background\", \"psf\", \"edisp\"]) #which maps to make (by default all)\n",
    "\n",
    "\n",
    "for i, (tobs, liveobs, wobobs) in enumerate(zip(tstart_obs, livetime_obs, angle_wobble)):\n",
    "\n",
    "    print(f\"Simulating observation {i}, tstart = {tobs}, livetime = {liveobs}\")\n",
    "\n",
    "    pointing_obs = target_position.directional_offset_by(wobobs, 0.5*u.deg)\n",
    "    obs = Observation.create(\n",
    "                            obs_id=i, \n",
    "                            pointing=pointing_obs, \n",
    "                            livetime=liveobs, \n",
    "                            irfs=IRF,\n",
    "                            location=location,\n",
    "                            reference_time = reference_time, \n",
    "                            tstart = tobs\n",
    "                  )    \n",
    "\n",
    "    dataset = maker.run(empty.copy(), obs) \n",
    "\n",
    "    bkg_model = bkg_model.copy()\n",
    "    bkg_model.datasets_names = [dataset.name]   # <-- relink\n",
    "\n",
    "    dataset.models = Models([sky_model, bkg_model])\n",
    "\n",
    "    sampler = MapDatasetEventSampler(random_state=i)\n",
    "    events = sampler.run(dataset, obs)\n",
    "\n",
    "    obs.events = events\n",
    "    obs.write(f\"events_obs{i}.fits\", include_irfs=False, overwrite=True)"
   ]
  }
 ],
 "metadata": {
  "kernelspec": {
   "display_name": "gammapy-1.3",
   "language": "python",
   "name": "python3"
  },
  "language_info": {
   "codemirror_mode": {
    "name": "ipython",
    "version": 3
   },
   "file_extension": ".py",
   "mimetype": "text/x-python",
   "name": "python",
   "nbconvert_exporter": "python",
   "pygments_lexer": "ipython3",
   "version": "3.11.11"
  }
 },
 "nbformat": 4,
 "nbformat_minor": 5
}
