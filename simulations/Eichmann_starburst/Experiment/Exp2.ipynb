{
 "cells": [
  {
   "cell_type": "code",
   "execution_count": 1,
   "id": "641f6b3f",
   "metadata": {},
   "outputs": [],
   "source": [
    "import matplotlib.pyplot as plt\n",
    "\n",
    "import glob, os, itertools\n",
    "from pathlib import Path\n",
    "\n",
    "from regions import PointSkyRegion, CircleSkyRegion\n",
    "\n",
    "import numpy as np\n",
    "\n",
    "import astropy.units as u\n",
    "from astropy.coordinates import Angle, SkyCoord\n",
    "from astropy.time import Time\n",
    "from astropy.table import Table\n",
    "\n",
    "from gammapy.data import DataStore, Observation, observatory_locations, EventList\n",
    "from gammapy.datasets import (\n",
    "    MapDataset,\n",
    "    Datasets,\n",
    "    FluxPointsDataset,\n",
    "    SpectrumDataset,\n",
    "    SpectrumDatasetOnOff,\n",
    ")\n",
    "from gammapy.estimators import ASmoothMapEstimator, TSMapEstimator, ExcessMapEstimator\n",
    "from gammapy.estimators import FluxPointsEstimator\n",
    "from gammapy.estimators.utils import resample_energy_edges, find_peaks, find_peaks_in_flux_map\n",
    "from gammapy.irf import load_irf_dict_from_file\n",
    "from gammapy.makers import (\n",
    "    MapDatasetMaker,\n",
    "    ReflectedRegionsBackgroundMaker,\n",
    "    SafeMaskMaker,\n",
    "    SpectrumDatasetMaker,\n",
    "    FoVBackgroundMaker\n",
    ")\n",
    "from gammapy.maps import MapAxis, RegionGeom, RegionNDMap, WcsGeom, Map, TimeMapAxis\n",
    "from gammapy.modeling.models import (\n",
    "    PowerLawNormSpectralModel,\n",
    "    PointSpatialModel,\n",
    "    PowerLawSpectralModel,\n",
    "    SkyModel\n",
    ")\n",
    "\n",
    "import warnings"
   ]
  },
  {
   "cell_type": "code",
   "execution_count": 2,
   "id": "db0044bd",
   "metadata": {},
   "outputs": [
    {
     "data": {
      "text/html": [
       "<div><i>ObservationTable length=210</i>\n",
       "<table id=\"table5997667984\" class=\"table-striped table-bordered table-condensed\">\n",
       "<thead><tr><th>OBS_ID</th><th>TSTART</th><th>TSTOP</th><th>ONTIME</th><th>LIVETIME</th><th>DEADC</th><th>TELESCOP</th><th>RA_PNT</th><th>DEC_PNT</th><th>GLON_PNT</th><th>GLAT_PNT</th><th>DATE-OBS</th><th>TIME-OBS</th><th>DATE-END</th><th>TIME-END</th><th>N_TELS</th><th>OBJECT</th><th>EVENTS_FILENAME</th><th>EVENT_COUNT</th><th>CALDB</th><th>IRF</th><th>IRF_FILENAME</th><th>MJDREFI</th><th>MJDREFF</th><th>TIMEUNIT</th><th>TIMESYS</th><th>TIMEREF</th></tr></thead>\n",
       "<thead><tr><th></th><th>s</th><th>s</th><th>s</th><th>s</th><th></th><th></th><th>deg</th><th>deg</th><th>deg</th><th>deg</th><th></th><th></th><th></th><th></th><th></th><th></th><th></th><th></th><th></th><th></th><th></th><th></th><th></th><th></th><th></th><th></th></tr></thead>\n",
       "<thead><tr><th>int64</th><th>float64</th><th>float64</th><th>float64</th><th>float64</th><th>float64</th><th>str3</th><th>float64</th><th>float64</th><th>float64</th><th>float64</th><th>str13</th><th>str13</th><th>str13</th><th>str13</th><th>str1</th><th>str8</th><th>str105</th><th>int64</th><th>str13</th><th>str13</th><th>str189</th><th>int64</th><th>float64</th><th>str1</th><th>str2</th><th>str5</th></tr></thead>\n",
       "<tr><td>0</td><td>7171.200000000006</td><td>8971.2</td><td>1799.9999999999936</td><td>1799.9999999999936</td><td>1.0</td><td>CTA</td><td>40.669</td><td>0.4869999999999999</td><td>171.56100364863156</td><td>-51.56311119787755</td><td>NOT AVAILABLE</td><td>NOT AVAILABLE</td><td>NOT AVAILABLE</td><td>NOT AVAILABLE</td><td></td><td>NGC_1068</td><td>/Users/tharacaba/Desktop/Tesis_2/MASS_Thesis/simulations/Eichmann_starburst/Experiment/events_obs0.fits</td><td>24217</td><td>NOT AVAILABLE</td><td>NOT AVAILABLE</td><td>/Users/tharacaba/Desktop/Tesis_2/gammapy-datasets/1.3/cta-prod5-zenodo-fitsonly-v0/fits/CTA-Performance-prod5-v0.1-North-40deg.FITS/Prod5-North-40deg-AverageAz-4LSTs09MSTs.180000s-v0.1.fits</td><td>61188</td><td>0.000800740737759042</td><td>s</td><td>tt</td><td>LOCAL</td></tr>\n",
       "<tr><td>1</td><td>9203.873684210526</td><td>11003.87368421053</td><td>1800.0000000000032</td><td>1800.0000000000032</td><td>1.0</td><td>CTA</td><td>41.16900001286943</td><td>-0.0129995049998257</td><td>172.69766568256216</td><td>-51.595774065143495</td><td>NOT AVAILABLE</td><td>NOT AVAILABLE</td><td>NOT AVAILABLE</td><td>NOT AVAILABLE</td><td></td><td>NGC_1068</td><td>/Users/tharacaba/Desktop/Tesis_2/MASS_Thesis/simulations/Eichmann_starburst/Experiment/events_obs1.fits</td><td>23505</td><td>NOT AVAILABLE</td><td>NOT AVAILABLE</td><td>/Users/tharacaba/Desktop/Tesis_2/gammapy-datasets/1.3/cta-prod5-zenodo-fitsonly-v0/fits/CTA-Performance-prod5-v0.1-North-40deg.FITS/Prod5-North-40deg-AverageAz-4LSTs09MSTs.180000s-v0.1.fits</td><td>61188</td><td>0.000800740737759042</td><td>s</td><td>tt</td><td>LOCAL</td></tr>\n",
       "<tr><td>10</td><td>27497.936842105264</td><td>29297.936842105264</td><td>1799.9999999999984</td><td>1799.9999999999984</td><td>1.0</td><td>CTA</td><td>40.669</td><td>-0.513</td><td>172.65327684026465</td><td>-52.30234689412969</td><td>NOT AVAILABLE</td><td>NOT AVAILABLE</td><td>NOT AVAILABLE</td><td>NOT AVAILABLE</td><td></td><td>NGC_1068</td><td>/Users/tharacaba/Desktop/Tesis_2/MASS_Thesis/simulations/Eichmann_starburst/Experiment/events_obs10.fits</td><td>23997</td><td>NOT AVAILABLE</td><td>NOT AVAILABLE</td><td>/Users/tharacaba/Desktop/Tesis_2/gammapy-datasets/1.3/cta-prod5-zenodo-fitsonly-v0/fits/CTA-Performance-prod5-v0.1-North-40deg.FITS/Prod5-North-40deg-AverageAz-4LSTs09MSTs.180000s-v0.1.fits</td><td>61188</td><td>0.000800740737759042</td><td>s</td><td>tt</td><td>LOCAL</td></tr>\n",
       "<tr><td>100</td><td>210438.5684210526</td><td>212238.56842105265</td><td>1800.0000000000127</td><td>1800.0000000000127</td><td>1.0</td><td>CTA</td><td>40.669</td><td>0.4869999999999999</td><td>171.56100364863156</td><td>-51.56311119787755</td><td>NOT AVAILABLE</td><td>NOT AVAILABLE</td><td>NOT AVAILABLE</td><td>NOT AVAILABLE</td><td></td><td>NGC_1068</td><td>/Users/tharacaba/Desktop/Tesis_2/MASS_Thesis/simulations/Eichmann_starburst/Experiment/events_obs100.fits</td><td>24301</td><td>NOT AVAILABLE</td><td>NOT AVAILABLE</td><td>/Users/tharacaba/Desktop/Tesis_2/gammapy-datasets/1.3/cta-prod5-zenodo-fitsonly-v0/fits/CTA-Performance-prod5-v0.1-North-40deg.FITS/Prod5-North-40deg-AverageAz-4LSTs09MSTs.180000s-v0.1.fits</td><td>61188</td><td>0.000800740737759042</td><td>s</td><td>tt</td><td>LOCAL</td></tr>\n",
       "<tr><td>101</td><td>212471.24210526317</td><td>214271.24210526317</td><td>1800.0000000000127</td><td>1800.0000000000127</td><td>1.0</td><td>CTA</td><td>41.16900001286943</td><td>-0.0129995049998257</td><td>172.69766568256216</td><td>-51.595774065143495</td><td>NOT AVAILABLE</td><td>NOT AVAILABLE</td><td>NOT AVAILABLE</td><td>NOT AVAILABLE</td><td></td><td>NGC_1068</td><td>/Users/tharacaba/Desktop/Tesis_2/MASS_Thesis/simulations/Eichmann_starburst/Experiment/events_obs101.fits</td><td>23190</td><td>NOT AVAILABLE</td><td>NOT AVAILABLE</td><td>/Users/tharacaba/Desktop/Tesis_2/gammapy-datasets/1.3/cta-prod5-zenodo-fitsonly-v0/fits/CTA-Performance-prod5-v0.1-North-40deg.FITS/Prod5-North-40deg-AverageAz-4LSTs09MSTs.180000s-v0.1.fits</td><td>61188</td><td>0.000800740737759042</td><td>s</td><td>tt</td><td>LOCAL</td></tr>\n",
       "<tr><td>102</td><td>214503.91578947369</td><td>216303.9157894737</td><td>1800.0000000000127</td><td>1800.0000000000127</td><td>1.0</td><td>CTA</td><td>40.669</td><td>-0.513</td><td>172.65327684026465</td><td>-52.30234689412969</td><td>NOT AVAILABLE</td><td>NOT AVAILABLE</td><td>NOT AVAILABLE</td><td>NOT AVAILABLE</td><td></td><td>NGC_1068</td><td>/Users/tharacaba/Desktop/Tesis_2/MASS_Thesis/simulations/Eichmann_starburst/Experiment/events_obs102.fits</td><td>24258</td><td>NOT AVAILABLE</td><td>NOT AVAILABLE</td><td>/Users/tharacaba/Desktop/Tesis_2/gammapy-datasets/1.3/cta-prod5-zenodo-fitsonly-v0/fits/CTA-Performance-prod5-v0.1-North-40deg.FITS/Prod5-North-40deg-AverageAz-4LSTs09MSTs.180000s-v0.1.fits</td><td>61188</td><td>0.000800740737759042</td><td>s</td><td>tt</td><td>LOCAL</td></tr>\n",
       "<tr><td>103</td><td>216536.5894736842</td><td>218336.58947368423</td><td>1800.0000000000127</td><td>1800.0000000000127</td><td>1.0</td><td>CTA</td><td>40.16899998713056</td><td>-0.01299950499982582</td><td>171.49862014667832</td><td>-52.26916581926981</td><td>NOT AVAILABLE</td><td>NOT AVAILABLE</td><td>NOT AVAILABLE</td><td>NOT AVAILABLE</td><td></td><td>NGC_1068</td><td>/Users/tharacaba/Desktop/Tesis_2/MASS_Thesis/simulations/Eichmann_starburst/Experiment/events_obs103.fits</td><td>24787</td><td>NOT AVAILABLE</td><td>NOT AVAILABLE</td><td>/Users/tharacaba/Desktop/Tesis_2/gammapy-datasets/1.3/cta-prod5-zenodo-fitsonly-v0/fits/CTA-Performance-prod5-v0.1-North-40deg.FITS/Prod5-North-40deg-AverageAz-4LSTs09MSTs.180000s-v0.1.fits</td><td>61188</td><td>0.000800740737759042</td><td>s</td><td>tt</td><td>LOCAL</td></tr>\n",
       "<tr><td>104</td><td>218569.26315789472</td><td>220369.26315789475</td><td>1800.0000000000127</td><td>1800.0000000000127</td><td>1.0</td><td>CTA</td><td>40.669</td><td>0.4869999999999999</td><td>171.56100364863156</td><td>-51.56311119787755</td><td>NOT AVAILABLE</td><td>NOT AVAILABLE</td><td>NOT AVAILABLE</td><td>NOT AVAILABLE</td><td></td><td>NGC_1068</td><td>/Users/tharacaba/Desktop/Tesis_2/MASS_Thesis/simulations/Eichmann_starburst/Experiment/events_obs104.fits</td><td>23949</td><td>NOT AVAILABLE</td><td>NOT AVAILABLE</td><td>/Users/tharacaba/Desktop/Tesis_2/gammapy-datasets/1.3/cta-prod5-zenodo-fitsonly-v0/fits/CTA-Performance-prod5-v0.1-North-40deg.FITS/Prod5-North-40deg-AverageAz-4LSTs09MSTs.180000s-v0.1.fits</td><td>61188</td><td>0.000800740737759042</td><td>s</td><td>tt</td><td>LOCAL</td></tr>\n",
       "<tr><td>105</td><td>220601.93684210523</td><td>222401.9368421053</td><td>1800.0000000000127</td><td>1800.0000000000127</td><td>1.0</td><td>CTA</td><td>41.16900001286943</td><td>-0.0129995049998257</td><td>172.69766568256216</td><td>-51.595774065143495</td><td>NOT AVAILABLE</td><td>NOT AVAILABLE</td><td>NOT AVAILABLE</td><td>NOT AVAILABLE</td><td></td><td>NGC_1068</td><td>/Users/tharacaba/Desktop/Tesis_2/MASS_Thesis/simulations/Eichmann_starburst/Experiment/events_obs105.fits</td><td>23182</td><td>NOT AVAILABLE</td><td>NOT AVAILABLE</td><td>/Users/tharacaba/Desktop/Tesis_2/gammapy-datasets/1.3/cta-prod5-zenodo-fitsonly-v0/fits/CTA-Performance-prod5-v0.1-North-40deg.FITS/Prod5-North-40deg-AverageAz-4LSTs09MSTs.180000s-v0.1.fits</td><td>61188</td><td>0.000800740737759042</td><td>s</td><td>tt</td><td>LOCAL</td></tr>\n",
       "<tr><td>...</td><td>...</td><td>...</td><td>...</td><td>...</td><td>...</td><td>...</td><td>...</td><td>...</td><td>...</td><td>...</td><td>...</td><td>...</td><td>...</td><td>...</td><td>...</td><td>...</td><td>...</td><td>...</td><td>...</td><td>...</td><td>...</td><td>...</td><td>...</td><td>...</td><td>...</td><td>...</td></tr>\n",
       "<tr><td>91</td><td>192144.50526315792</td><td>193944.50526315795</td><td>1800.0000000000127</td><td>1800.0000000000127</td><td>1.0</td><td>CTA</td><td>40.16899998713056</td><td>-0.01299950499982582</td><td>171.49862014667832</td><td>-52.26916581926981</td><td>NOT AVAILABLE</td><td>NOT AVAILABLE</td><td>NOT AVAILABLE</td><td>NOT AVAILABLE</td><td></td><td>NGC_1068</td><td>/Users/tharacaba/Desktop/Tesis_2/MASS_Thesis/simulations/Eichmann_starburst/Experiment/events_obs91.fits</td><td>24902</td><td>NOT AVAILABLE</td><td>NOT AVAILABLE</td><td>/Users/tharacaba/Desktop/Tesis_2/gammapy-datasets/1.3/cta-prod5-zenodo-fitsonly-v0/fits/CTA-Performance-prod5-v0.1-North-40deg.FITS/Prod5-North-40deg-AverageAz-4LSTs09MSTs.180000s-v0.1.fits</td><td>61188</td><td>0.000800740737759042</td><td>s</td><td>tt</td><td>LOCAL</td></tr>\n",
       "<tr><td>92</td><td>194177.17894736843</td><td>195977.1789473684</td><td>1800.0000000000127</td><td>1800.0000000000127</td><td>1.0</td><td>CTA</td><td>40.669</td><td>0.4869999999999999</td><td>171.56100364863156</td><td>-51.56311119787755</td><td>NOT AVAILABLE</td><td>NOT AVAILABLE</td><td>NOT AVAILABLE</td><td>NOT AVAILABLE</td><td></td><td>NGC_1068</td><td>/Users/tharacaba/Desktop/Tesis_2/MASS_Thesis/simulations/Eichmann_starburst/Experiment/events_obs92.fits</td><td>24225</td><td>NOT AVAILABLE</td><td>NOT AVAILABLE</td><td>/Users/tharacaba/Desktop/Tesis_2/gammapy-datasets/1.3/cta-prod5-zenodo-fitsonly-v0/fits/CTA-Performance-prod5-v0.1-North-40deg.FITS/Prod5-North-40deg-AverageAz-4LSTs09MSTs.180000s-v0.1.fits</td><td>61188</td><td>0.000800740737759042</td><td>s</td><td>tt</td><td>LOCAL</td></tr>\n",
       "<tr><td>93</td><td>196209.85263157898</td><td>198009.85263157898</td><td>1800.0000000000127</td><td>1800.0000000000127</td><td>1.0</td><td>CTA</td><td>41.16900001286943</td><td>-0.0129995049998257</td><td>172.69766568256216</td><td>-51.595774065143495</td><td>NOT AVAILABLE</td><td>NOT AVAILABLE</td><td>NOT AVAILABLE</td><td>NOT AVAILABLE</td><td></td><td>NGC_1068</td><td>/Users/tharacaba/Desktop/Tesis_2/MASS_Thesis/simulations/Eichmann_starburst/Experiment/events_obs93.fits</td><td>23654</td><td>NOT AVAILABLE</td><td>NOT AVAILABLE</td><td>/Users/tharacaba/Desktop/Tesis_2/gammapy-datasets/1.3/cta-prod5-zenodo-fitsonly-v0/fits/CTA-Performance-prod5-v0.1-North-40deg.FITS/Prod5-North-40deg-AverageAz-4LSTs09MSTs.180000s-v0.1.fits</td><td>61188</td><td>0.000800740737759042</td><td>s</td><td>tt</td><td>LOCAL</td></tr>\n",
       "<tr><td>94</td><td>198242.5263157895</td><td>200042.5263157895</td><td>1800.0000000000127</td><td>1800.0000000000127</td><td>1.0</td><td>CTA</td><td>40.669</td><td>-0.513</td><td>172.65327684026465</td><td>-52.30234689412969</td><td>NOT AVAILABLE</td><td>NOT AVAILABLE</td><td>NOT AVAILABLE</td><td>NOT AVAILABLE</td><td></td><td>NGC_1068</td><td>/Users/tharacaba/Desktop/Tesis_2/MASS_Thesis/simulations/Eichmann_starburst/Experiment/events_obs94.fits</td><td>24355</td><td>NOT AVAILABLE</td><td>NOT AVAILABLE</td><td>/Users/tharacaba/Desktop/Tesis_2/gammapy-datasets/1.3/cta-prod5-zenodo-fitsonly-v0/fits/CTA-Performance-prod5-v0.1-North-40deg.FITS/Prod5-North-40deg-AverageAz-4LSTs09MSTs.180000s-v0.1.fits</td><td>61188</td><td>0.000800740737759042</td><td>s</td><td>tt</td><td>LOCAL</td></tr>\n",
       "<tr><td>95</td><td>200275.2</td><td>202075.2</td><td>1800.0000000000127</td><td>1800.0000000000127</td><td>1.0</td><td>CTA</td><td>40.16899998713056</td><td>-0.01299950499982582</td><td>171.49862014667832</td><td>-52.26916581926981</td><td>NOT AVAILABLE</td><td>NOT AVAILABLE</td><td>NOT AVAILABLE</td><td>NOT AVAILABLE</td><td></td><td>NGC_1068</td><td>/Users/tharacaba/Desktop/Tesis_2/MASS_Thesis/simulations/Eichmann_starburst/Experiment/events_obs95.fits</td><td>24675</td><td>NOT AVAILABLE</td><td>NOT AVAILABLE</td><td>/Users/tharacaba/Desktop/Tesis_2/gammapy-datasets/1.3/cta-prod5-zenodo-fitsonly-v0/fits/CTA-Performance-prod5-v0.1-North-40deg.FITS/Prod5-North-40deg-AverageAz-4LSTs09MSTs.180000s-v0.1.fits</td><td>61188</td><td>0.000800740737759042</td><td>s</td><td>tt</td><td>LOCAL</td></tr>\n",
       "<tr><td>96</td><td>202307.87368421053</td><td>204107.87368421053</td><td>1800.0000000000127</td><td>1800.0000000000127</td><td>1.0</td><td>CTA</td><td>40.669</td><td>0.4869999999999999</td><td>171.56100364863156</td><td>-51.56311119787755</td><td>NOT AVAILABLE</td><td>NOT AVAILABLE</td><td>NOT AVAILABLE</td><td>NOT AVAILABLE</td><td></td><td>NGC_1068</td><td>/Users/tharacaba/Desktop/Tesis_2/MASS_Thesis/simulations/Eichmann_starburst/Experiment/events_obs96.fits</td><td>24344</td><td>NOT AVAILABLE</td><td>NOT AVAILABLE</td><td>/Users/tharacaba/Desktop/Tesis_2/gammapy-datasets/1.3/cta-prod5-zenodo-fitsonly-v0/fits/CTA-Performance-prod5-v0.1-North-40deg.FITS/Prod5-North-40deg-AverageAz-4LSTs09MSTs.180000s-v0.1.fits</td><td>61188</td><td>0.000800740737759042</td><td>s</td><td>tt</td><td>LOCAL</td></tr>\n",
       "<tr><td>97</td><td>204340.54736842104</td><td>206140.54736842104</td><td>1800.0000000000127</td><td>1800.0000000000127</td><td>1.0</td><td>CTA</td><td>41.16900001286943</td><td>-0.0129995049998257</td><td>172.69766568256216</td><td>-51.595774065143495</td><td>NOT AVAILABLE</td><td>NOT AVAILABLE</td><td>NOT AVAILABLE</td><td>NOT AVAILABLE</td><td></td><td>NGC_1068</td><td>/Users/tharacaba/Desktop/Tesis_2/MASS_Thesis/simulations/Eichmann_starburst/Experiment/events_obs97.fits</td><td>23340</td><td>NOT AVAILABLE</td><td>NOT AVAILABLE</td><td>/Users/tharacaba/Desktop/Tesis_2/gammapy-datasets/1.3/cta-prod5-zenodo-fitsonly-v0/fits/CTA-Performance-prod5-v0.1-North-40deg.FITS/Prod5-North-40deg-AverageAz-4LSTs09MSTs.180000s-v0.1.fits</td><td>61188</td><td>0.000800740737759042</td><td>s</td><td>tt</td><td>LOCAL</td></tr>\n",
       "<tr><td>98</td><td>206373.22105263162</td><td>208173.2210526316</td><td>1800.0000000000127</td><td>1800.0000000000127</td><td>1.0</td><td>CTA</td><td>40.669</td><td>-0.513</td><td>172.65327684026465</td><td>-52.30234689412969</td><td>NOT AVAILABLE</td><td>NOT AVAILABLE</td><td>NOT AVAILABLE</td><td>NOT AVAILABLE</td><td></td><td>NGC_1068</td><td>/Users/tharacaba/Desktop/Tesis_2/MASS_Thesis/simulations/Eichmann_starburst/Experiment/events_obs98.fits</td><td>24186</td><td>NOT AVAILABLE</td><td>NOT AVAILABLE</td><td>/Users/tharacaba/Desktop/Tesis_2/gammapy-datasets/1.3/cta-prod5-zenodo-fitsonly-v0/fits/CTA-Performance-prod5-v0.1-North-40deg.FITS/Prod5-North-40deg-AverageAz-4LSTs09MSTs.180000s-v0.1.fits</td><td>61188</td><td>0.000800740737759042</td><td>s</td><td>tt</td><td>LOCAL</td></tr>\n",
       "<tr><td>99</td><td>208405.89473684214</td><td>210205.89473684214</td><td>1800.0000000000127</td><td>1800.0000000000127</td><td>1.0</td><td>CTA</td><td>40.16899998713056</td><td>-0.01299950499982582</td><td>171.49862014667832</td><td>-52.26916581926981</td><td>NOT AVAILABLE</td><td>NOT AVAILABLE</td><td>NOT AVAILABLE</td><td>NOT AVAILABLE</td><td></td><td>NGC_1068</td><td>/Users/tharacaba/Desktop/Tesis_2/MASS_Thesis/simulations/Eichmann_starburst/Experiment/events_obs99.fits</td><td>24848</td><td>NOT AVAILABLE</td><td>NOT AVAILABLE</td><td>/Users/tharacaba/Desktop/Tesis_2/gammapy-datasets/1.3/cta-prod5-zenodo-fitsonly-v0/fits/CTA-Performance-prod5-v0.1-North-40deg.FITS/Prod5-North-40deg-AverageAz-4LSTs09MSTs.180000s-v0.1.fits</td><td>61188</td><td>0.000800740737759042</td><td>s</td><td>tt</td><td>LOCAL</td></tr>\n",
       "</table></div>"
      ],
      "text/plain": [
       "<ObservationTable length=210>\n",
       "OBS_ID       TSTART             TSTOP        ... TIMEUNIT TIMESYS TIMEREF\n",
       "               s                  s          ...                         \n",
       "int64       float64            float64       ...   str1     str2    str5 \n",
       "------ ------------------ ------------------ ... -------- ------- -------\n",
       "     0  7171.200000000006             8971.2 ...        s      tt   LOCAL\n",
       "     1  9203.873684210526  11003.87368421053 ...        s      tt   LOCAL\n",
       "    10 27497.936842105264 29297.936842105264 ...        s      tt   LOCAL\n",
       "   100  210438.5684210526 212238.56842105265 ...        s      tt   LOCAL\n",
       "   101 212471.24210526317 214271.24210526317 ...        s      tt   LOCAL\n",
       "   102 214503.91578947369  216303.9157894737 ...        s      tt   LOCAL\n",
       "   103  216536.5894736842 218336.58947368423 ...        s      tt   LOCAL\n",
       "   104 218569.26315789472 220369.26315789475 ...        s      tt   LOCAL\n",
       "   105 220601.93684210523  222401.9368421053 ...        s      tt   LOCAL\n",
       "   ...                ...                ... ...      ...     ...     ...\n",
       "    91 192144.50526315792 193944.50526315795 ...        s      tt   LOCAL\n",
       "    92 194177.17894736843  195977.1789473684 ...        s      tt   LOCAL\n",
       "    93 196209.85263157898 198009.85263157898 ...        s      tt   LOCAL\n",
       "    94  198242.5263157895  200042.5263157895 ...        s      tt   LOCAL\n",
       "    95           200275.2           202075.2 ...        s      tt   LOCAL\n",
       "    96 202307.87368421053 204107.87368421053 ...        s      tt   LOCAL\n",
       "    97 204340.54736842104 206140.54736842104 ...        s      tt   LOCAL\n",
       "    98 206373.22105263162  208173.2210526316 ...        s      tt   LOCAL\n",
       "    99 208405.89473684214 210205.89473684214 ...        s      tt   LOCAL"
      ]
     },
     "execution_count": 2,
     "metadata": {},
     "output_type": "execute_result"
    }
   ],
   "source": [
    "input_filenames = []\n",
    "input_filenames.append(glob.glob(os.path.join(\"/Users/tharacaba/Desktop/Tesis_2/MASS_Thesis/simulations/Eichmann_starburst/Experiment/\", '*.fits')))\n",
    "input_filenames = tuple(itertools.chain.from_iterable(input_filenames))\n",
    "\n",
    "datastore = DataStore.from_events_files(np.sort(input_filenames), \n",
    "                                        irfs_paths=\"/Users/tharacaba/Desktop/Tesis_2/gammapy-datasets/1.3/cta-prod5-zenodo-fitsonly-v0/fits/CTA-Performance-prod5-v0.1-North-40deg.FITS/Prod5-North-40deg-AverageAz-4LSTs09MSTs.180000s-v0.1.fits\")\n",
    "datastore.hdu_table.write(\"hdu-index.fits.gz\", overwrite=True)\n",
    "datastore.obs_table.write(\"obs-index.fits.gz\", overwrite=True)\n",
    "\n",
    "datastore.obs_table"
   ]
  },
  {
   "cell_type": "code",
   "execution_count": 3,
   "id": "d33cef59",
   "metadata": {},
   "outputs": [
    {
     "data": {
      "text/html": [
       "<div><i>HDUIndexTable length=1260</i>\n",
       "<table id=\"table5998250192\" class=\"table-striped table-bordered table-condensed\">\n",
       "<thead><tr><th>HDU_TYPE</th><th>HDU_CLASS</th><th>HDU_NAME</th><th>OBS_ID</th><th>FILE_DIR</th><th>FILE_NAME</th></tr></thead>\n",
       "<thead><tr><th>str6</th><th>str10</th><th>str21</th><th>int64</th><th>str131</th><th>str57</th></tr></thead>\n",
       "<tr><td>events</td><td>events</td><td>EVENTS</td><td>0</td><td>/Users/tharacaba/Desktop/Tesis_2/MASS_Thesis/simulations/Eichmann_starburst/Experiment</td><td>events_obs0.fits</td></tr>\n",
       "<tr><td>gti</td><td>gti</td><td>GTI</td><td>0</td><td>/Users/tharacaba/Desktop/Tesis_2/MASS_Thesis/simulations/Eichmann_starburst/Experiment</td><td>events_obs0.fits</td></tr>\n",
       "<tr><td>aeff</td><td>aeff_2d</td><td>EFFECTIVE AREA</td><td>0</td><td>/Users/tharacaba/Desktop/Tesis_2/gammapy-datasets/1.3/cta-prod5-zenodo-fitsonly-v0/fits/CTA-Performance-prod5-v0.1-North-40deg.FITS</td><td>Prod5-North-40deg-AverageAz-4LSTs09MSTs.180000s-v0.1.fits</td></tr>\n",
       "<tr><td>edisp</td><td>edisp_2d</td><td>ENERGY DISPERSION</td><td>0</td><td>/Users/tharacaba/Desktop/Tesis_2/gammapy-datasets/1.3/cta-prod5-zenodo-fitsonly-v0/fits/CTA-Performance-prod5-v0.1-North-40deg.FITS</td><td>Prod5-North-40deg-AverageAz-4LSTs09MSTs.180000s-v0.1.fits</td></tr>\n",
       "<tr><td>psf</td><td>psf_3gauss</td><td>POINT SPREAD FUNCTION</td><td>0</td><td>/Users/tharacaba/Desktop/Tesis_2/gammapy-datasets/1.3/cta-prod5-zenodo-fitsonly-v0/fits/CTA-Performance-prod5-v0.1-North-40deg.FITS</td><td>Prod5-North-40deg-AverageAz-4LSTs09MSTs.180000s-v0.1.fits</td></tr>\n",
       "<tr><td>bkg</td><td>bkg_3d</td><td>BACKGROUND</td><td>0</td><td>/Users/tharacaba/Desktop/Tesis_2/gammapy-datasets/1.3/cta-prod5-zenodo-fitsonly-v0/fits/CTA-Performance-prod5-v0.1-North-40deg.FITS</td><td>Prod5-North-40deg-AverageAz-4LSTs09MSTs.180000s-v0.1.fits</td></tr>\n",
       "<tr><td>events</td><td>events</td><td>EVENTS</td><td>1</td><td>/Users/tharacaba/Desktop/Tesis_2/MASS_Thesis/simulations/Eichmann_starburst/Experiment</td><td>events_obs1.fits</td></tr>\n",
       "<tr><td>gti</td><td>gti</td><td>GTI</td><td>1</td><td>/Users/tharacaba/Desktop/Tesis_2/MASS_Thesis/simulations/Eichmann_starburst/Experiment</td><td>events_obs1.fits</td></tr>\n",
       "<tr><td>aeff</td><td>aeff_2d</td><td>EFFECTIVE AREA</td><td>1</td><td>/Users/tharacaba/Desktop/Tesis_2/gammapy-datasets/1.3/cta-prod5-zenodo-fitsonly-v0/fits/CTA-Performance-prod5-v0.1-North-40deg.FITS</td><td>Prod5-North-40deg-AverageAz-4LSTs09MSTs.180000s-v0.1.fits</td></tr>\n",
       "<tr><td>...</td><td>...</td><td>...</td><td>...</td><td>...</td><td>...</td></tr>\n",
       "<tr><td>aeff</td><td>aeff_2d</td><td>EFFECTIVE AREA</td><td>98</td><td>/Users/tharacaba/Desktop/Tesis_2/gammapy-datasets/1.3/cta-prod5-zenodo-fitsonly-v0/fits/CTA-Performance-prod5-v0.1-North-40deg.FITS</td><td>Prod5-North-40deg-AverageAz-4LSTs09MSTs.180000s-v0.1.fits</td></tr>\n",
       "<tr><td>edisp</td><td>edisp_2d</td><td>ENERGY DISPERSION</td><td>98</td><td>/Users/tharacaba/Desktop/Tesis_2/gammapy-datasets/1.3/cta-prod5-zenodo-fitsonly-v0/fits/CTA-Performance-prod5-v0.1-North-40deg.FITS</td><td>Prod5-North-40deg-AverageAz-4LSTs09MSTs.180000s-v0.1.fits</td></tr>\n",
       "<tr><td>psf</td><td>psf_3gauss</td><td>POINT SPREAD FUNCTION</td><td>98</td><td>/Users/tharacaba/Desktop/Tesis_2/gammapy-datasets/1.3/cta-prod5-zenodo-fitsonly-v0/fits/CTA-Performance-prod5-v0.1-North-40deg.FITS</td><td>Prod5-North-40deg-AverageAz-4LSTs09MSTs.180000s-v0.1.fits</td></tr>\n",
       "<tr><td>bkg</td><td>bkg_3d</td><td>BACKGROUND</td><td>98</td><td>/Users/tharacaba/Desktop/Tesis_2/gammapy-datasets/1.3/cta-prod5-zenodo-fitsonly-v0/fits/CTA-Performance-prod5-v0.1-North-40deg.FITS</td><td>Prod5-North-40deg-AverageAz-4LSTs09MSTs.180000s-v0.1.fits</td></tr>\n",
       "<tr><td>events</td><td>events</td><td>EVENTS</td><td>99</td><td>/Users/tharacaba/Desktop/Tesis_2/MASS_Thesis/simulations/Eichmann_starburst/Experiment</td><td>events_obs99.fits</td></tr>\n",
       "<tr><td>gti</td><td>gti</td><td>GTI</td><td>99</td><td>/Users/tharacaba/Desktop/Tesis_2/MASS_Thesis/simulations/Eichmann_starburst/Experiment</td><td>events_obs99.fits</td></tr>\n",
       "<tr><td>aeff</td><td>aeff_2d</td><td>EFFECTIVE AREA</td><td>99</td><td>/Users/tharacaba/Desktop/Tesis_2/gammapy-datasets/1.3/cta-prod5-zenodo-fitsonly-v0/fits/CTA-Performance-prod5-v0.1-North-40deg.FITS</td><td>Prod5-North-40deg-AverageAz-4LSTs09MSTs.180000s-v0.1.fits</td></tr>\n",
       "<tr><td>edisp</td><td>edisp_2d</td><td>ENERGY DISPERSION</td><td>99</td><td>/Users/tharacaba/Desktop/Tesis_2/gammapy-datasets/1.3/cta-prod5-zenodo-fitsonly-v0/fits/CTA-Performance-prod5-v0.1-North-40deg.FITS</td><td>Prod5-North-40deg-AverageAz-4LSTs09MSTs.180000s-v0.1.fits</td></tr>\n",
       "<tr><td>psf</td><td>psf_3gauss</td><td>POINT SPREAD FUNCTION</td><td>99</td><td>/Users/tharacaba/Desktop/Tesis_2/gammapy-datasets/1.3/cta-prod5-zenodo-fitsonly-v0/fits/CTA-Performance-prod5-v0.1-North-40deg.FITS</td><td>Prod5-North-40deg-AverageAz-4LSTs09MSTs.180000s-v0.1.fits</td></tr>\n",
       "<tr><td>bkg</td><td>bkg_3d</td><td>BACKGROUND</td><td>99</td><td>/Users/tharacaba/Desktop/Tesis_2/gammapy-datasets/1.3/cta-prod5-zenodo-fitsonly-v0/fits/CTA-Performance-prod5-v0.1-North-40deg.FITS</td><td>Prod5-North-40deg-AverageAz-4LSTs09MSTs.180000s-v0.1.fits</td></tr>\n",
       "</table></div>"
      ],
      "text/plain": [
       "<HDUIndexTable length=1260>\n",
       "HDU_TYPE ...                         FILE_NAME                        \n",
       "  str6   ...                           str57                          \n",
       "-------- ... ---------------------------------------------------------\n",
       "  events ...                                          events_obs0.fits\n",
       "     gti ...                                          events_obs0.fits\n",
       "    aeff ... Prod5-North-40deg-AverageAz-4LSTs09MSTs.180000s-v0.1.fits\n",
       "   edisp ... Prod5-North-40deg-AverageAz-4LSTs09MSTs.180000s-v0.1.fits\n",
       "     psf ... Prod5-North-40deg-AverageAz-4LSTs09MSTs.180000s-v0.1.fits\n",
       "     bkg ... Prod5-North-40deg-AverageAz-4LSTs09MSTs.180000s-v0.1.fits\n",
       "  events ...                                          events_obs1.fits\n",
       "     gti ...                                          events_obs1.fits\n",
       "    aeff ... Prod5-North-40deg-AverageAz-4LSTs09MSTs.180000s-v0.1.fits\n",
       "     ... ...                                                       ...\n",
       "    aeff ... Prod5-North-40deg-AverageAz-4LSTs09MSTs.180000s-v0.1.fits\n",
       "   edisp ... Prod5-North-40deg-AverageAz-4LSTs09MSTs.180000s-v0.1.fits\n",
       "     psf ... Prod5-North-40deg-AverageAz-4LSTs09MSTs.180000s-v0.1.fits\n",
       "     bkg ... Prod5-North-40deg-AverageAz-4LSTs09MSTs.180000s-v0.1.fits\n",
       "  events ...                                         events_obs99.fits\n",
       "     gti ...                                         events_obs99.fits\n",
       "    aeff ... Prod5-North-40deg-AverageAz-4LSTs09MSTs.180000s-v0.1.fits\n",
       "   edisp ... Prod5-North-40deg-AverageAz-4LSTs09MSTs.180000s-v0.1.fits\n",
       "     psf ... Prod5-North-40deg-AverageAz-4LSTs09MSTs.180000s-v0.1.fits\n",
       "     bkg ... Prod5-North-40deg-AverageAz-4LSTs09MSTs.180000s-v0.1.fits"
      ]
     },
     "execution_count": 3,
     "metadata": {},
     "output_type": "execute_result"
    }
   ],
   "source": [
    "datastore.hdu_table"
   ]
  },
  {
   "cell_type": "code",
   "execution_count": 4,
   "id": "fab3d999",
   "metadata": {},
   "outputs": [
    {
     "name": "stdout",
     "output_type": "stream",
     "text": [
      "The mean exposure of the runs is 1799.9999999999986 s\n",
      "\n",
      "The total exposure time is 104.99999999999991 h\n",
      "\n",
      "These are the selected runs: \n",
      " OBS_ID\n",
      "------\n",
      "     0\n",
      "     1\n",
      "    10\n",
      "   100\n",
      "   101\n",
      "   102\n",
      "   103\n",
      "   104\n",
      "   105\n",
      "   106\n",
      "   ...\n",
      "    90\n",
      "    91\n",
      "    92\n",
      "    93\n",
      "    94\n",
      "    95\n",
      "    96\n",
      "    97\n",
      "    98\n",
      "    99\n",
      "Length = 210 rows\n"
     ]
    }
   ],
   "source": [
    "print(f\"The mean exposure of the runs is {np.mean(datastore.obs_table['LIVETIME']) * u.s}\\n\")\n",
    "print(f\"The total exposure time is {(np.sum(datastore.obs_table['LIVETIME']) * u.s).to('hr')}\\n\")\n",
    "print(f\"These are the selected runs: \\n {datastore.obs_table['OBS_ID']}\")"
   ]
  },
  {
   "cell_type": "code",
   "execution_count": 5,
   "id": "97e84014",
   "metadata": {},
   "outputs": [
    {
     "name": "stdout",
     "output_type": "stream",
     "text": [
      "The run with the highest counting statistics is observation #121,i.e. ObsID 207\n"
     ]
    }
   ],
   "source": [
    "observations = datastore.get_observations(obs_id=list(datastore.obs_table['OBS_ID']))\n",
    "\n",
    "# let's find the highest quality run:\n",
    "longest_obs = np.zeros((len(observations)), float)\n",
    "for i,obs in enumerate(observations):\n",
    "    longest_obs[i] = len(obs.events.table)\n",
    "print(f\"The run with the highest counting statistics is observation #{int(np.argmax(longest_obs))},\" + \n",
    "      f\"i.e. ObsID {observations[int(np.argmax(longest_obs))].obs_id}\")"
   ]
  },
  {
   "cell_type": "code",
   "execution_count": 6,
   "id": "51a7c85b",
   "metadata": {},
   "outputs": [
    {
     "data": {
      "text/html": [
       "<pre>EventList\n",
       "---------\n",
       "\n",
       "  Instrument       : Southern Array\n",
       "  Telescope        : CTA\n",
       "  Obs. ID          : 0\n",
       "\n",
       "  Number of events : 24217\n",
       "  Event rate       : 13.454 1 / s\n",
       "\n",
       "  Time start       : 61188.08380074074\n",
       "  Time stop        : 61188.10463407407\n",
       "\n",
       "  Min. energy      : 1.00e-01 TeV\n",
       "  Max. energy      : 7.55e+01 TeV\n",
       "  Median energy    : 1.58e-01 TeV\n",
       "\n",
       "  Max. offset      : 3.5 deg\n",
       "</pre>"
      ],
      "text/plain": [
       "<gammapy.data.event_list.EventList at 0x16582d290>"
      ]
     },
     "execution_count": 6,
     "metadata": {},
     "output_type": "execute_result"
    }
   ],
   "source": [
    "# let's inspect this observation\n",
    "observations[0].events"
   ]
  },
  {
   "cell_type": "code",
   "execution_count": 7,
   "id": "21660c81",
   "metadata": {},
   "outputs": [
    {
     "data": {
      "text/html": [
       "<pre>GTI info:\n",
       "- Number of GTIs: 1\n",
       "- Duration: 1799.999999999936 s\n",
       "- Start: 427934.65263157897 s MET\n",
       "- Start: 2026-06-01T22:52:14.653 (time standard: UTC)\n",
       "- Stop: 429734.6526315789 s MET\n",
       "- Stop: 2026-06-01T23:22:14.653 (time standard: UTC)\n",
       "</pre>"
      ],
      "text/plain": [
       "<gammapy.data.gti.GTI at 0x166683790>"
      ]
     },
     "execution_count": 7,
     "metadata": {},
     "output_type": "execute_result"
    }
   ],
   "source": [
    "# let's inspect the GTI\n",
    "observations[int(np.argmax(longest_obs))].gti"
   ]
  },
  {
   "cell_type": "code",
   "execution_count": 8,
   "id": "323dd07d",
   "metadata": {},
   "outputs": [
    {
     "data": {
      "image/png": "[encoded data removed]",
      "text/plain": [
       "<Figure size 640x480 with 1 Axes>"
      ]
     },
     "metadata": {},
     "output_type": "display_data"
    }
   ],
   "source": [
    "bkg = \"FoV\"\n",
    "\n",
    "# we consider a square map of size 2.0 deg, spatially binned with bins of 0.02 deg:\n",
    "# we define the ON region, assuming a circle of 0.3 deg of radius, for the source:\n",
    "width = 2    #deg\n",
    "binsz = 0.02 #deg \n",
    "radius= 0.2  #deg\n",
    "\n",
    "target_position = SkyCoord(40.669 * u.deg, -0.013 * u.deg, frame=\"icrs\", unit=\"deg\")\n",
    "on_region_radius = Angle(radius * u.deg)\n",
    "on_region = CircleSkyRegion(center=target_position, radius=on_region_radius)\n",
    "\n",
    "npix = int(width/binsz)\n",
    "\n",
    "# let's define an exclusion region, in order to better estimate the bkg:\n",
    "exclusion_region = CircleSkyRegion(\n",
    "    center=target_position,\n",
    "    radius=radius * u.deg,\n",
    ")\n",
    "\n",
    "geom_excl = WcsGeom.create(\n",
    "    npix=(npix, npix), binsz=binsz, skydir=target_position.galactic, proj=\"TAN\", frame=\"galactic\"\n",
    "    #npix=(npix, npix), binsz=binsz, skydir=w1.galactic, proj=\"TAN\", frame=\"galactic\"\n",
    ")\n",
    "\n",
    "exclusion_mask = ~geom_excl.region_mask([exclusion_region])\n",
    "exclusion_mask.plot()\n",
    "plt.show()"
   ]
  },
  {
   "cell_type": "code",
   "execution_count": 9,
   "id": "dbd9a11d",
   "metadata": {},
   "outputs": [
    {
     "name": "stderr",
     "output_type": "stream",
     "text": [
      "No default upper safe energy threshold defined for obs 0\n",
      "No default lower safe energy threshold defined for obs 0\n"
     ]
    },
    {
     "name": "stdout",
     "output_type": "stream",
     "text": [
      "1 of 210, Background norm obs 0: 1.00\n"
     ]
    },
    {
     "name": "stderr",
     "output_type": "stream",
     "text": [
      "No default upper safe energy threshold defined for obs 1\n",
      "No default lower safe energy threshold defined for obs 1\n"
     ]
    },
    {
     "name": "stdout",
     "output_type": "stream",
     "text": [
      "2 of 210, Background norm obs 1: 0.99\n"
     ]
    },
    {
     "name": "stderr",
     "output_type": "stream",
     "text": [
      "No default upper safe energy threshold defined for obs 10\n",
      "No default lower safe energy threshold defined for obs 10\n"
     ]
    },
    {
     "name": "stdout",
     "output_type": "stream",
     "text": [
      "3 of 210, Background norm obs 10: 0.99\n"
     ]
    },
    {
     "name": "stderr",
     "output_type": "stream",
     "text": [
      "No default upper safe energy threshold defined for obs 100\n",
      "No default lower safe energy threshold defined for obs 100\n"
     ]
    },
    {
     "name": "stdout",
     "output_type": "stream",
     "text": [
      "4 of 210, Background norm obs 100: 1.02\n"
     ]
    },
    {
     "name": "stderr",
     "output_type": "stream",
     "text": [
      "No default upper safe energy threshold defined for obs 101\n",
      "No default lower safe energy threshold defined for obs 101\n"
     ]
    },
    {
     "name": "stdout",
     "output_type": "stream",
     "text": [
      "5 of 210, Background norm obs 101: 0.99\n"
     ]
    },
    {
     "name": "stderr",
     "output_type": "stream",
     "text": [
      "No default upper safe energy threshold defined for obs 102\n",
      "No default lower safe energy threshold defined for obs 102\n"
     ]
    },
    {
     "name": "stdout",
     "output_type": "stream",
     "text": [
      "6 of 210, Background norm obs 102: 1.01\n"
     ]
    },
    {
     "name": "stderr",
     "output_type": "stream",
     "text": [
      "No default upper safe energy threshold defined for obs 103\n",
      "No default lower safe energy threshold defined for obs 103\n"
     ]
    },
    {
     "name": "stdout",
     "output_type": "stream",
     "text": [
      "7 of 210, Background norm obs 103: 0.98\n"
     ]
    },
    {
     "name": "stderr",
     "output_type": "stream",
     "text": [
      "No default upper safe energy threshold defined for obs 104\n",
      "No default lower safe energy threshold defined for obs 104\n"
     ]
    },
    {
     "name": "stdout",
     "output_type": "stream",
     "text": [
      "8 of 210, Background norm obs 104: 0.99\n"
     ]
    },
    {
     "name": "stderr",
     "output_type": "stream",
     "text": [
      "No default upper safe energy threshold defined for obs 105\n",
      "No default lower safe energy threshold defined for obs 105\n"
     ]
    },
    {
     "name": "stdout",
     "output_type": "stream",
     "text": [
      "9 of 210, Background norm obs 105: 1.01\n"
     ]
    },
    {
     "name": "stderr",
     "output_type": "stream",
     "text": [
      "No default upper safe energy threshold defined for obs 106\n",
      "No default lower safe energy threshold defined for obs 106\n"
     ]
    },
    {
     "name": "stdout",
     "output_type": "stream",
     "text": [
      "10 of 210, Background norm obs 106: 0.97\n"
     ]
    },
    {
     "name": "stderr",
     "output_type": "stream",
     "text": [
      "No default upper safe energy threshold defined for obs 107\n",
      "No default lower safe energy threshold defined for obs 107\n"
     ]
    },
    {
     "name": "stdout",
     "output_type": "stream",
     "text": [
      "11 of 210, Background norm obs 107: 1.00\n"
     ]
    },
    {
     "name": "stderr",
     "output_type": "stream",
     "text": [
      "No default upper safe energy threshold defined for obs 108\n",
      "No default lower safe energy threshold defined for obs 108\n"
     ]
    },
    {
     "name": "stdout",
     "output_type": "stream",
     "text": [
      "12 of 210, Background norm obs 108: 0.98\n"
     ]
    },
    {
     "name": "stderr",
     "output_type": "stream",
     "text": [
      "No default upper safe energy threshold defined for obs 109\n",
      "No default lower safe energy threshold defined for obs 109\n"
     ]
    },
    {
     "name": "stdout",
     "output_type": "stream",
     "text": [
      "13 of 210, Background norm obs 109: 0.98\n"
     ]
    },
    {
     "name": "stderr",
     "output_type": "stream",
     "text": [
      "No default upper safe energy threshold defined for obs 11\n",
      "No default lower safe energy threshold defined for obs 11\n"
     ]
    },
    {
     "name": "stdout",
     "output_type": "stream",
     "text": [
      "14 of 210, Background norm obs 11: 1.00\n"
     ]
    },
    {
     "name": "stderr",
     "output_type": "stream",
     "text": [
      "No default upper safe energy threshold defined for obs 110\n",
      "No default lower safe energy threshold defined for obs 110\n"
     ]
    },
    {
     "name": "stdout",
     "output_type": "stream",
     "text": [
      "15 of 210, Background norm obs 110: 1.01\n"
     ]
    },
    {
     "name": "stderr",
     "output_type": "stream",
     "text": [
      "No default upper safe energy threshold defined for obs 111\n",
      "No default lower safe energy threshold defined for obs 111\n"
     ]
    },
    {
     "name": "stdout",
     "output_type": "stream",
     "text": [
      "16 of 210, Background norm obs 111: 1.00\n"
     ]
    },
    {
     "name": "stderr",
     "output_type": "stream",
     "text": [
      "No default upper safe energy threshold defined for obs 112\n",
      "No default lower safe energy threshold defined for obs 112\n"
     ]
    },
    {
     "name": "stdout",
     "output_type": "stream",
     "text": [
      "17 of 210, Background norm obs 112: 1.00\n"
     ]
    },
    {
     "name": "stderr",
     "output_type": "stream",
     "text": [
      "No default upper safe energy threshold defined for obs 113\n",
      "No default lower safe energy threshold defined for obs 113\n"
     ]
    },
    {
     "name": "stdout",
     "output_type": "stream",
     "text": [
      "18 of 210, Background norm obs 113: 1.00\n"
     ]
    },
    {
     "name": "stderr",
     "output_type": "stream",
     "text": [
      "No default upper safe energy threshold defined for obs 114\n",
      "No default lower safe energy threshold defined for obs 114\n"
     ]
    },
    {
     "name": "stdout",
     "output_type": "stream",
     "text": [
      "19 of 210, Background norm obs 114: 1.01\n"
     ]
    },
    {
     "name": "stderr",
     "output_type": "stream",
     "text": [
      "No default upper safe energy threshold defined for obs 115\n",
      "No default lower safe energy threshold defined for obs 115\n"
     ]
    },
    {
     "name": "stdout",
     "output_type": "stream",
     "text": [
      "20 of 210, Background norm obs 115: 1.00\n"
     ]
    },
    {
     "name": "stderr",
     "output_type": "stream",
     "text": [
      "No default upper safe energy threshold defined for obs 116\n",
      "No default lower safe energy threshold defined for obs 116\n"
     ]
    },
    {
     "name": "stdout",
     "output_type": "stream",
     "text": [
      "21 of 210, Background norm obs 116: 1.00\n"
     ]
    },
    {
     "name": "stderr",
     "output_type": "stream",
     "text": [
      "No default upper safe energy threshold defined for obs 117\n",
      "No default lower safe energy threshold defined for obs 117\n"
     ]
    },
    {
     "name": "stdout",
     "output_type": "stream",
     "text": [
      "22 of 210, Background norm obs 117: 1.00\n"
     ]
    },
    {
     "name": "stderr",
     "output_type": "stream",
     "text": [
      "No default upper safe energy threshold defined for obs 118\n",
      "No default lower safe energy threshold defined for obs 118\n"
     ]
    },
    {
     "name": "stdout",
     "output_type": "stream",
     "text": [
      "23 of 210, Background norm obs 118: 0.99\n"
     ]
    },
    {
     "name": "stderr",
     "output_type": "stream",
     "text": [
      "No default upper safe energy threshold defined for obs 119\n",
      "No default lower safe energy threshold defined for obs 119\n"
     ]
    },
    {
     "name": "stdout",
     "output_type": "stream",
     "text": [
      "24 of 210, Background norm obs 119: 1.01\n"
     ]
    },
    {
     "name": "stderr",
     "output_type": "stream",
     "text": [
      "No default upper safe energy threshold defined for obs 12\n",
      "No default lower safe energy threshold defined for obs 12\n"
     ]
    },
    {
     "name": "stdout",
     "output_type": "stream",
     "text": [
      "25 of 210, Background norm obs 12: 1.00\n"
     ]
    },
    {
     "name": "stderr",
     "output_type": "stream",
     "text": [
      "No default upper safe energy threshold defined for obs 120\n",
      "No default lower safe energy threshold defined for obs 120\n"
     ]
    },
    {
     "name": "stdout",
     "output_type": "stream",
     "text": [
      "26 of 210, Background norm obs 120: 0.98\n"
     ]
    },
    {
     "name": "stderr",
     "output_type": "stream",
     "text": [
      "No default upper safe energy threshold defined for obs 121\n",
      "No default lower safe energy threshold defined for obs 121\n"
     ]
    },
    {
     "name": "stdout",
     "output_type": "stream",
     "text": [
      "27 of 210, Background norm obs 121: 1.01\n"
     ]
    },
    {
     "name": "stderr",
     "output_type": "stream",
     "text": [
      "No default upper safe energy threshold defined for obs 122\n",
      "No default lower safe energy threshold defined for obs 122\n"
     ]
    },
    {
     "name": "stdout",
     "output_type": "stream",
     "text": [
      "28 of 210, Background norm obs 122: 0.98\n"
     ]
    },
    {
     "name": "stderr",
     "output_type": "stream",
     "text": [
      "No default upper safe energy threshold defined for obs 123\n",
      "No default lower safe energy threshold defined for obs 123\n"
     ]
    },
    {
     "name": "stdout",
     "output_type": "stream",
     "text": [
      "29 of 210, Background norm obs 123: 0.99\n"
     ]
    },
    {
     "name": "stderr",
     "output_type": "stream",
     "text": [
      "No default upper safe energy threshold defined for obs 124\n",
      "No default lower safe energy threshold defined for obs 124\n"
     ]
    },
    {
     "name": "stdout",
     "output_type": "stream",
     "text": [
      "30 of 210, Background norm obs 124: 0.99\n"
     ]
    },
    {
     "name": "stderr",
     "output_type": "stream",
     "text": [
      "No default upper safe energy threshold defined for obs 125\n",
      "No default lower safe energy threshold defined for obs 125\n"
     ]
    },
    {
     "name": "stdout",
     "output_type": "stream",
     "text": [
      "31 of 210, Background norm obs 125: 0.99\n"
     ]
    },
    {
     "name": "stderr",
     "output_type": "stream",
     "text": [
      "No default upper safe energy threshold defined for obs 126\n",
      "No default lower safe energy threshold defined for obs 126\n"
     ]
    },
    {
     "name": "stdout",
     "output_type": "stream",
     "text": [
      "32 of 210, Background norm obs 126: 1.00\n"
     ]
    },
    {
     "name": "stderr",
     "output_type": "stream",
     "text": [
      "No default upper safe energy threshold defined for obs 127\n",
      "No default lower safe energy threshold defined for obs 127\n"
     ]
    },
    {
     "name": "stdout",
     "output_type": "stream",
     "text": [
      "33 of 210, Background norm obs 127: 1.01\n"
     ]
    },
    {
     "name": "stderr",
     "output_type": "stream",
     "text": [
      "No default upper safe energy threshold defined for obs 128\n",
      "No default lower safe energy threshold defined for obs 128\n"
     ]
    },
    {
     "name": "stdout",
     "output_type": "stream",
     "text": [
      "34 of 210, Background norm obs 128: 0.98\n"
     ]
    },
    {
     "name": "stderr",
     "output_type": "stream",
     "text": [
      "No default upper safe energy threshold defined for obs 129\n",
      "No default lower safe energy threshold defined for obs 129\n"
     ]
    },
    {
     "name": "stdout",
     "output_type": "stream",
     "text": [
      "35 of 210, Background norm obs 129: 1.00\n"
     ]
    },
    {
     "name": "stderr",
     "output_type": "stream",
     "text": [
      "No default upper safe energy threshold defined for obs 13\n",
      "No default lower safe energy threshold defined for obs 13\n"
     ]
    },
    {
     "name": "stdout",
     "output_type": "stream",
     "text": [
      "36 of 210, Background norm obs 13: 1.02\n"
     ]
    },
    {
     "name": "stderr",
     "output_type": "stream",
     "text": [
      "No default upper safe energy threshold defined for obs 130\n",
      "No default lower safe energy threshold defined for obs 130\n"
     ]
    },
    {
     "name": "stdout",
     "output_type": "stream",
     "text": [
      "37 of 210, Background norm obs 130: 0.97\n"
     ]
    },
    {
     "name": "stderr",
     "output_type": "stream",
     "text": [
      "No default upper safe energy threshold defined for obs 131\n",
      "No default lower safe energy threshold defined for obs 131\n"
     ]
    },
    {
     "name": "stdout",
     "output_type": "stream",
     "text": [
      "38 of 210, Background norm obs 131: 1.00\n"
     ]
    },
    {
     "name": "stderr",
     "output_type": "stream",
     "text": [
      "No default upper safe energy threshold defined for obs 132\n",
      "No default lower safe energy threshold defined for obs 132\n"
     ]
    },
    {
     "name": "stdout",
     "output_type": "stream",
     "text": [
      "39 of 210, Background norm obs 132: 0.99\n"
     ]
    },
    {
     "name": "stderr",
     "output_type": "stream",
     "text": [
      "No default upper safe energy threshold defined for obs 133\n",
      "No default lower safe energy threshold defined for obs 133\n"
     ]
    },
    {
     "name": "stdout",
     "output_type": "stream",
     "text": [
      "40 of 210, Background norm obs 133: 0.98\n"
     ]
    },
    {
     "name": "stderr",
     "output_type": "stream",
     "text": [
      "No default upper safe energy threshold defined for obs 134\n",
      "No default lower safe energy threshold defined for obs 134\n"
     ]
    },
    {
     "name": "stdout",
     "output_type": "stream",
     "text": [
      "41 of 210, Background norm obs 134: 0.98\n"
     ]
    },
    {
     "name": "stderr",
     "output_type": "stream",
     "text": [
      "No default upper safe energy threshold defined for obs 135\n",
      "No default lower safe energy threshold defined for obs 135\n"
     ]
    },
    {
     "name": "stdout",
     "output_type": "stream",
     "text": [
      "42 of 210, Background norm obs 135: 1.01\n"
     ]
    },
    {
     "name": "stderr",
     "output_type": "stream",
     "text": [
      "No default upper safe energy threshold defined for obs 136\n",
      "No default lower safe energy threshold defined for obs 136\n"
     ]
    },
    {
     "name": "stdout",
     "output_type": "stream",
     "text": [
      "43 of 210, Background norm obs 136: 1.00\n"
     ]
    },
    {
     "name": "stderr",
     "output_type": "stream",
     "text": [
      "No default upper safe energy threshold defined for obs 137\n",
      "No default lower safe energy threshold defined for obs 137\n"
     ]
    },
    {
     "name": "stdout",
     "output_type": "stream",
     "text": [
      "44 of 210, Background norm obs 137: 1.01\n"
     ]
    },
    {
     "name": "stderr",
     "output_type": "stream",
     "text": [
      "No default upper safe energy threshold defined for obs 138\n",
      "No default lower safe energy threshold defined for obs 138\n"
     ]
    },
    {
     "name": "stdout",
     "output_type": "stream",
     "text": [
      "45 of 210, Background norm obs 138: 1.00\n"
     ]
    },
    {
     "name": "stderr",
     "output_type": "stream",
     "text": [
      "No default upper safe energy threshold defined for obs 139\n",
      "No default lower safe energy threshold defined for obs 139\n"
     ]
    },
    {
     "name": "stdout",
     "output_type": "stream",
     "text": [
      "46 of 210, Background norm obs 139: 0.99\n"
     ]
    },
    {
     "name": "stderr",
     "output_type": "stream",
     "text": [
      "No default upper safe energy threshold defined for obs 14\n",
      "No default lower safe energy threshold defined for obs 14\n"
     ]
    },
    {
     "name": "stdout",
     "output_type": "stream",
     "text": [
      "47 of 210, Background norm obs 14: 1.01\n"
     ]
    },
    {
     "name": "stderr",
     "output_type": "stream",
     "text": [
      "No default upper safe energy threshold defined for obs 140\n",
      "No default lower safe energy threshold defined for obs 140\n"
     ]
    },
    {
     "name": "stdout",
     "output_type": "stream",
     "text": [
      "48 of 210, Background norm obs 140: 1.00\n"
     ]
    },
    {
     "name": "stderr",
     "output_type": "stream",
     "text": [
      "No default upper safe energy threshold defined for obs 141\n",
      "No default lower safe energy threshold defined for obs 141\n"
     ]
    },
    {
     "name": "stdout",
     "output_type": "stream",
     "text": [
      "49 of 210, Background norm obs 141: 1.00\n"
     ]
    },
    {
     "name": "stderr",
     "output_type": "stream",
     "text": [
      "No default upper safe energy threshold defined for obs 142\n",
      "No default lower safe energy threshold defined for obs 142\n"
     ]
    },
    {
     "name": "stdout",
     "output_type": "stream",
     "text": [
      "50 of 210, Background norm obs 142: 0.99\n"
     ]
    },
    {
     "name": "stderr",
     "output_type": "stream",
     "text": [
      "No default upper safe energy threshold defined for obs 143\n",
      "No default lower safe energy threshold defined for obs 143\n"
     ]
    },
    {
     "name": "stdout",
     "output_type": "stream",
     "text": [
      "51 of 210, Background norm obs 143: 0.99\n"
     ]
    },
    {
     "name": "stderr",
     "output_type": "stream",
     "text": [
      "No default upper safe energy threshold defined for obs 144\n",
      "No default lower safe energy threshold defined for obs 144\n"
     ]
    },
    {
     "name": "stdout",
     "output_type": "stream",
     "text": [
      "52 of 210, Background norm obs 144: 0.99\n"
     ]
    },
    {
     "name": "stderr",
     "output_type": "stream",
     "text": [
      "No default upper safe energy threshold defined for obs 145\n",
      "No default lower safe energy threshold defined for obs 145\n"
     ]
    },
    {
     "name": "stdout",
     "output_type": "stream",
     "text": [
      "53 of 210, Background norm obs 145: 1.01\n"
     ]
    },
    {
     "name": "stderr",
     "output_type": "stream",
     "text": [
      "No default upper safe energy threshold defined for obs 146\n",
      "No default lower safe energy threshold defined for obs 146\n"
     ]
    },
    {
     "name": "stdout",
     "output_type": "stream",
     "text": [
      "54 of 210, Background norm obs 146: 1.00\n"
     ]
    },
    {
     "name": "stderr",
     "output_type": "stream",
     "text": [
      "No default upper safe energy threshold defined for obs 147\n",
      "No default lower safe energy threshold defined for obs 147\n"
     ]
    },
    {
     "name": "stdout",
     "output_type": "stream",
     "text": [
      "55 of 210, Background norm obs 147: 0.99\n"
     ]
    },
    {
     "name": "stderr",
     "output_type": "stream",
     "text": [
      "No default upper safe energy threshold defined for obs 148\n",
      "No default lower safe energy threshold defined for obs 148\n"
     ]
    },
    {
     "name": "stdout",
     "output_type": "stream",
     "text": [
      "56 of 210, Background norm obs 148: 1.00\n"
     ]
    },
    {
     "name": "stderr",
     "output_type": "stream",
     "text": [
      "No default upper safe energy threshold defined for obs 149\n",
      "No default lower safe energy threshold defined for obs 149\n"
     ]
    },
    {
     "name": "stdout",
     "output_type": "stream",
     "text": [
      "57 of 210, Background norm obs 149: 0.99\n"
     ]
    },
    {
     "name": "stderr",
     "output_type": "stream",
     "text": [
      "No default upper safe energy threshold defined for obs 15\n",
      "No default lower safe energy threshold defined for obs 15\n"
     ]
    },
    {
     "name": "stdout",
     "output_type": "stream",
     "text": [
      "58 of 210, Background norm obs 15: 0.97\n"
     ]
    },
    {
     "name": "stderr",
     "output_type": "stream",
     "text": [
      "No default upper safe energy threshold defined for obs 150\n",
      "No default lower safe energy threshold defined for obs 150\n"
     ]
    },
    {
     "name": "stdout",
     "output_type": "stream",
     "text": [
      "59 of 210, Background norm obs 150: 1.00\n"
     ]
    },
    {
     "name": "stderr",
     "output_type": "stream",
     "text": [
      "No default upper safe energy threshold defined for obs 151\n",
      "No default lower safe energy threshold defined for obs 151\n"
     ]
    },
    {
     "name": "stdout",
     "output_type": "stream",
     "text": [
      "60 of 210, Background norm obs 151: 1.01\n"
     ]
    },
    {
     "name": "stderr",
     "output_type": "stream",
     "text": [
      "No default upper safe energy threshold defined for obs 152\n",
      "No default lower safe energy threshold defined for obs 152\n"
     ]
    },
    {
     "name": "stdout",
     "output_type": "stream",
     "text": [
      "61 of 210, Background norm obs 152: 0.99\n"
     ]
    },
    {
     "name": "stderr",
     "output_type": "stream",
     "text": [
      "No default upper safe energy threshold defined for obs 153\n",
      "No default lower safe energy threshold defined for obs 153\n"
     ]
    },
    {
     "name": "stdout",
     "output_type": "stream",
     "text": [
      "62 of 210, Background norm obs 153: 1.02\n"
     ]
    },
    {
     "name": "stderr",
     "output_type": "stream",
     "text": [
      "No default upper safe energy threshold defined for obs 154\n",
      "No default lower safe energy threshold defined for obs 154\n"
     ]
    },
    {
     "name": "stdout",
     "output_type": "stream",
     "text": [
      "63 of 210, Background norm obs 154: 1.01\n"
     ]
    },
    {
     "name": "stderr",
     "output_type": "stream",
     "text": [
      "No default upper safe energy threshold defined for obs 155\n",
      "No default lower safe energy threshold defined for obs 155\n"
     ]
    },
    {
     "name": "stdout",
     "output_type": "stream",
     "text": [
      "64 of 210, Background norm obs 155: 1.02\n"
     ]
    },
    {
     "name": "stderr",
     "output_type": "stream",
     "text": [
      "No default upper safe energy threshold defined for obs 156\n",
      "No default lower safe energy threshold defined for obs 156\n"
     ]
    },
    {
     "name": "stdout",
     "output_type": "stream",
     "text": [
      "65 of 210, Background norm obs 156: 0.97\n"
     ]
    },
    {
     "name": "stderr",
     "output_type": "stream",
     "text": [
      "No default upper safe energy threshold defined for obs 157\n",
      "No default lower safe energy threshold defined for obs 157\n"
     ]
    },
    {
     "name": "stdout",
     "output_type": "stream",
     "text": [
      "66 of 210, Background norm obs 157: 1.01\n"
     ]
    },
    {
     "name": "stderr",
     "output_type": "stream",
     "text": [
      "No default upper safe energy threshold defined for obs 158\n",
      "No default lower safe energy threshold defined for obs 158\n"
     ]
    },
    {
     "name": "stdout",
     "output_type": "stream",
     "text": [
      "67 of 210, Background norm obs 158: 1.01\n"
     ]
    },
    {
     "name": "stderr",
     "output_type": "stream",
     "text": [
      "No default upper safe energy threshold defined for obs 159\n",
      "No default lower safe energy threshold defined for obs 159\n"
     ]
    },
    {
     "name": "stdout",
     "output_type": "stream",
     "text": [
      "68 of 210, Background norm obs 159: 1.02\n"
     ]
    },
    {
     "name": "stderr",
     "output_type": "stream",
     "text": [
      "No default upper safe energy threshold defined for obs 16\n",
      "No default lower safe energy threshold defined for obs 16\n"
     ]
    },
    {
     "name": "stdout",
     "output_type": "stream",
     "text": [
      "69 of 210, Background norm obs 16: 1.01\n"
     ]
    },
    {
     "name": "stderr",
     "output_type": "stream",
     "text": [
      "No default upper safe energy threshold defined for obs 160\n",
      "No default lower safe energy threshold defined for obs 160\n"
     ]
    },
    {
     "name": "stdout",
     "output_type": "stream",
     "text": [
      "70 of 210, Background norm obs 160: 0.99\n"
     ]
    },
    {
     "name": "stderr",
     "output_type": "stream",
     "text": [
      "No default upper safe energy threshold defined for obs 161\n",
      "No default lower safe energy threshold defined for obs 161\n"
     ]
    },
    {
     "name": "stdout",
     "output_type": "stream",
     "text": [
      "71 of 210, Background norm obs 161: 1.00\n"
     ]
    },
    {
     "name": "stderr",
     "output_type": "stream",
     "text": [
      "No default upper safe energy threshold defined for obs 162\n",
      "No default lower safe energy threshold defined for obs 162\n"
     ]
    },
    {
     "name": "stdout",
     "output_type": "stream",
     "text": [
      "72 of 210, Background norm obs 162: 1.02\n"
     ]
    },
    {
     "name": "stderr",
     "output_type": "stream",
     "text": [
      "No default upper safe energy threshold defined for obs 163\n",
      "No default lower safe energy threshold defined for obs 163\n"
     ]
    },
    {
     "name": "stdout",
     "output_type": "stream",
     "text": [
      "73 of 210, Background norm obs 163: 0.99\n"
     ]
    },
    {
     "name": "stderr",
     "output_type": "stream",
     "text": [
      "No default upper safe energy threshold defined for obs 164\n",
      "No default lower safe energy threshold defined for obs 164\n"
     ]
    },
    {
     "name": "stdout",
     "output_type": "stream",
     "text": [
      "74 of 210, Background norm obs 164: 0.99\n"
     ]
    },
    {
     "name": "stderr",
     "output_type": "stream",
     "text": [
      "No default upper safe energy threshold defined for obs 165\n",
      "No default lower safe energy threshold defined for obs 165\n"
     ]
    },
    {
     "name": "stdout",
     "output_type": "stream",
     "text": [
      "75 of 210, Background norm obs 165: 1.01\n"
     ]
    },
    {
     "name": "stderr",
     "output_type": "stream",
     "text": [
      "No default upper safe energy threshold defined for obs 166\n",
      "No default lower safe energy threshold defined for obs 166\n"
     ]
    },
    {
     "name": "stdout",
     "output_type": "stream",
     "text": [
      "76 of 210, Background norm obs 166: 1.00\n"
     ]
    },
    {
     "name": "stderr",
     "output_type": "stream",
     "text": [
      "No default upper safe energy threshold defined for obs 167\n",
      "No default lower safe energy threshold defined for obs 167\n"
     ]
    },
    {
     "name": "stdout",
     "output_type": "stream",
     "text": [
      "77 of 210, Background norm obs 167: 0.99\n"
     ]
    },
    {
     "name": "stderr",
     "output_type": "stream",
     "text": [
      "No default upper safe energy threshold defined for obs 168\n",
      "No default lower safe energy threshold defined for obs 168\n"
     ]
    },
    {
     "name": "stdout",
     "output_type": "stream",
     "text": [
      "78 of 210, Background norm obs 168: 1.03\n"
     ]
    },
    {
     "name": "stderr",
     "output_type": "stream",
     "text": [
      "No default upper safe energy threshold defined for obs 169\n",
      "No default lower safe energy threshold defined for obs 169\n"
     ]
    },
    {
     "name": "stdout",
     "output_type": "stream",
     "text": [
      "79 of 210, Background norm obs 169: 1.02\n"
     ]
    },
    {
     "name": "stderr",
     "output_type": "stream",
     "text": [
      "No default upper safe energy threshold defined for obs 17\n",
      "No default lower safe energy threshold defined for obs 17\n"
     ]
    },
    {
     "name": "stdout",
     "output_type": "stream",
     "text": [
      "80 of 210, Background norm obs 17: 1.00\n"
     ]
    },
    {
     "name": "stderr",
     "output_type": "stream",
     "text": [
      "No default upper safe energy threshold defined for obs 170\n",
      "No default lower safe energy threshold defined for obs 170\n"
     ]
    },
    {
     "name": "stdout",
     "output_type": "stream",
     "text": [
      "81 of 210, Background norm obs 170: 0.99\n"
     ]
    },
    {
     "name": "stderr",
     "output_type": "stream",
     "text": [
      "No default upper safe energy threshold defined for obs 171\n",
      "No default lower safe energy threshold defined for obs 171\n"
     ]
    },
    {
     "name": "stdout",
     "output_type": "stream",
     "text": [
      "82 of 210, Background norm obs 171: 1.02\n"
     ]
    },
    {
     "name": "stderr",
     "output_type": "stream",
     "text": [
      "No default upper safe energy threshold defined for obs 172\n",
      "No default lower safe energy threshold defined for obs 172\n"
     ]
    },
    {
     "name": "stdout",
     "output_type": "stream",
     "text": [
      "83 of 210, Background norm obs 172: 1.01\n"
     ]
    },
    {
     "name": "stderr",
     "output_type": "stream",
     "text": [
      "No default upper safe energy threshold defined for obs 173\n",
      "No default lower safe energy threshold defined for obs 173\n"
     ]
    },
    {
     "name": "stdout",
     "output_type": "stream",
     "text": [
      "84 of 210, Background norm obs 173: 1.01\n"
     ]
    },
    {
     "name": "stderr",
     "output_type": "stream",
     "text": [
      "No default upper safe energy threshold defined for obs 174\n",
      "No default lower safe energy threshold defined for obs 174\n"
     ]
    },
    {
     "name": "stdout",
     "output_type": "stream",
     "text": [
      "85 of 210, Background norm obs 174: 0.98\n"
     ]
    },
    {
     "name": "stderr",
     "output_type": "stream",
     "text": [
      "No default upper safe energy threshold defined for obs 175\n",
      "No default lower safe energy threshold defined for obs 175\n"
     ]
    },
    {
     "name": "stdout",
     "output_type": "stream",
     "text": [
      "86 of 210, Background norm obs 175: 1.00\n"
     ]
    },
    {
     "name": "stderr",
     "output_type": "stream",
     "text": [
      "No default upper safe energy threshold defined for obs 176\n",
      "No default lower safe energy threshold defined for obs 176\n"
     ]
    },
    {
     "name": "stdout",
     "output_type": "stream",
     "text": [
      "87 of 210, Background norm obs 176: 0.99\n"
     ]
    },
    {
     "name": "stderr",
     "output_type": "stream",
     "text": [
      "No default upper safe energy threshold defined for obs 177\n",
      "No default lower safe energy threshold defined for obs 177\n"
     ]
    },
    {
     "name": "stdout",
     "output_type": "stream",
     "text": [
      "88 of 210, Background norm obs 177: 0.98\n"
     ]
    },
    {
     "name": "stderr",
     "output_type": "stream",
     "text": [
      "No default upper safe energy threshold defined for obs 178\n",
      "No default lower safe energy threshold defined for obs 178\n"
     ]
    },
    {
     "name": "stdout",
     "output_type": "stream",
     "text": [
      "89 of 210, Background norm obs 178: 1.00\n"
     ]
    },
    {
     "name": "stderr",
     "output_type": "stream",
     "text": [
      "No default upper safe energy threshold defined for obs 179\n",
      "No default lower safe energy threshold defined for obs 179\n"
     ]
    },
    {
     "name": "stdout",
     "output_type": "stream",
     "text": [
      "90 of 210, Background norm obs 179: 0.99\n"
     ]
    },
    {
     "name": "stderr",
     "output_type": "stream",
     "text": [
      "No default upper safe energy threshold defined for obs 18\n",
      "No default lower safe energy threshold defined for obs 18\n"
     ]
    },
    {
     "name": "stdout",
     "output_type": "stream",
     "text": [
      "91 of 210, Background norm obs 18: 0.99\n"
     ]
    },
    {
     "name": "stderr",
     "output_type": "stream",
     "text": [
      "No default upper safe energy threshold defined for obs 180\n",
      "No default lower safe energy threshold defined for obs 180\n"
     ]
    },
    {
     "name": "stdout",
     "output_type": "stream",
     "text": [
      "92 of 210, Background norm obs 180: 1.00\n"
     ]
    },
    {
     "name": "stderr",
     "output_type": "stream",
     "text": [
      "No default upper safe energy threshold defined for obs 181\n",
      "No default lower safe energy threshold defined for obs 181\n"
     ]
    },
    {
     "name": "stdout",
     "output_type": "stream",
     "text": [
      "93 of 210, Background norm obs 181: 1.00\n"
     ]
    },
    {
     "name": "stderr",
     "output_type": "stream",
     "text": [
      "No default upper safe energy threshold defined for obs 182\n",
      "No default lower safe energy threshold defined for obs 182\n"
     ]
    },
    {
     "name": "stdout",
     "output_type": "stream",
     "text": [
      "94 of 210, Background norm obs 182: 1.01\n"
     ]
    },
    {
     "name": "stderr",
     "output_type": "stream",
     "text": [
      "No default upper safe energy threshold defined for obs 183\n",
      "No default lower safe energy threshold defined for obs 183\n"
     ]
    },
    {
     "name": "stdout",
     "output_type": "stream",
     "text": [
      "95 of 210, Background norm obs 183: 1.00\n"
     ]
    },
    {
     "name": "stderr",
     "output_type": "stream",
     "text": [
      "No default upper safe energy threshold defined for obs 184\n",
      "No default lower safe energy threshold defined for obs 184\n"
     ]
    },
    {
     "name": "stdout",
     "output_type": "stream",
     "text": [
      "96 of 210, Background norm obs 184: 1.02\n"
     ]
    },
    {
     "name": "stderr",
     "output_type": "stream",
     "text": [
      "No default upper safe energy threshold defined for obs 185\n",
      "No default lower safe energy threshold defined for obs 185\n"
     ]
    },
    {
     "name": "stdout",
     "output_type": "stream",
     "text": [
      "97 of 210, Background norm obs 185: 0.99\n"
     ]
    },
    {
     "name": "stderr",
     "output_type": "stream",
     "text": [
      "No default upper safe energy threshold defined for obs 186\n",
      "No default lower safe energy threshold defined for obs 186\n"
     ]
    },
    {
     "name": "stdout",
     "output_type": "stream",
     "text": [
      "98 of 210, Background norm obs 186: 1.00\n"
     ]
    },
    {
     "name": "stderr",
     "output_type": "stream",
     "text": [
      "No default upper safe energy threshold defined for obs 187\n",
      "No default lower safe energy threshold defined for obs 187\n"
     ]
    },
    {
     "name": "stdout",
     "output_type": "stream",
     "text": [
      "99 of 210, Background norm obs 187: 1.00\n"
     ]
    },
    {
     "name": "stderr",
     "output_type": "stream",
     "text": [
      "No default upper safe energy threshold defined for obs 188\n",
      "No default lower safe energy threshold defined for obs 188\n"
     ]
    },
    {
     "name": "stdout",
     "output_type": "stream",
     "text": [
      "100 of 210, Background norm obs 188: 1.01\n"
     ]
    },
    {
     "name": "stderr",
     "output_type": "stream",
     "text": [
      "No default upper safe energy threshold defined for obs 189\n",
      "No default lower safe energy threshold defined for obs 189\n"
     ]
    },
    {
     "name": "stdout",
     "output_type": "stream",
     "text": [
      "101 of 210, Background norm obs 189: 1.00\n"
     ]
    },
    {
     "name": "stderr",
     "output_type": "stream",
     "text": [
      "No default upper safe energy threshold defined for obs 19\n",
      "No default lower safe energy threshold defined for obs 19\n"
     ]
    },
    {
     "name": "stdout",
     "output_type": "stream",
     "text": [
      "102 of 210, Background norm obs 19: 0.97\n"
     ]
    },
    {
     "name": "stderr",
     "output_type": "stream",
     "text": [
      "No default upper safe energy threshold defined for obs 190\n",
      "No default lower safe energy threshold defined for obs 190\n"
     ]
    },
    {
     "name": "stdout",
     "output_type": "stream",
     "text": [
      "103 of 210, Background norm obs 190: 1.00\n"
     ]
    },
    {
     "name": "stderr",
     "output_type": "stream",
     "text": [
      "No default upper safe energy threshold defined for obs 191\n",
      "No default lower safe energy threshold defined for obs 191\n"
     ]
    },
    {
     "name": "stdout",
     "output_type": "stream",
     "text": [
      "104 of 210, Background norm obs 191: 0.97\n"
     ]
    },
    {
     "name": "stderr",
     "output_type": "stream",
     "text": [
      "No default upper safe energy threshold defined for obs 192\n",
      "No default lower safe energy threshold defined for obs 192\n"
     ]
    },
    {
     "name": "stdout",
     "output_type": "stream",
     "text": [
      "105 of 210, Background norm obs 192: 1.01\n"
     ]
    },
    {
     "name": "stderr",
     "output_type": "stream",
     "text": [
      "No default upper safe energy threshold defined for obs 193\n",
      "No default lower safe energy threshold defined for obs 193\n"
     ]
    },
    {
     "name": "stdout",
     "output_type": "stream",
     "text": [
      "106 of 210, Background norm obs 193: 0.99\n"
     ]
    },
    {
     "name": "stderr",
     "output_type": "stream",
     "text": [
      "No default upper safe energy threshold defined for obs 194\n",
      "No default lower safe energy threshold defined for obs 194\n"
     ]
    },
    {
     "name": "stdout",
     "output_type": "stream",
     "text": [
      "107 of 210, Background norm obs 194: 0.99\n"
     ]
    },
    {
     "name": "stderr",
     "output_type": "stream",
     "text": [
      "No default upper safe energy threshold defined for obs 195\n",
      "No default lower safe energy threshold defined for obs 195\n"
     ]
    },
    {
     "name": "stdout",
     "output_type": "stream",
     "text": [
      "108 of 210, Background norm obs 195: 1.00\n"
     ]
    },
    {
     "name": "stderr",
     "output_type": "stream",
     "text": [
      "No default upper safe energy threshold defined for obs 196\n",
      "No default lower safe energy threshold defined for obs 196\n"
     ]
    },
    {
     "name": "stdout",
     "output_type": "stream",
     "text": [
      "109 of 210, Background norm obs 196: 1.00\n"
     ]
    },
    {
     "name": "stderr",
     "output_type": "stream",
     "text": [
      "No default upper safe energy threshold defined for obs 197\n",
      "No default lower safe energy threshold defined for obs 197\n"
     ]
    },
    {
     "name": "stdout",
     "output_type": "stream",
     "text": [
      "110 of 210, Background norm obs 197: 1.00\n"
     ]
    },
    {
     "name": "stderr",
     "output_type": "stream",
     "text": [
      "No default upper safe energy threshold defined for obs 198\n",
      "No default lower safe energy threshold defined for obs 198\n"
     ]
    },
    {
     "name": "stdout",
     "output_type": "stream",
     "text": [
      "111 of 210, Background norm obs 198: 1.00\n"
     ]
    },
    {
     "name": "stderr",
     "output_type": "stream",
     "text": [
      "No default upper safe energy threshold defined for obs 199\n",
      "No default lower safe energy threshold defined for obs 199\n"
     ]
    },
    {
     "name": "stdout",
     "output_type": "stream",
     "text": [
      "112 of 210, Background norm obs 199: 1.00\n"
     ]
    },
    {
     "name": "stderr",
     "output_type": "stream",
     "text": [
      "No default upper safe energy threshold defined for obs 2\n",
      "No default lower safe energy threshold defined for obs 2\n"
     ]
    },
    {
     "name": "stdout",
     "output_type": "stream",
     "text": [
      "113 of 210, Background norm obs 2: 1.01\n"
     ]
    },
    {
     "name": "stderr",
     "output_type": "stream",
     "text": [
      "No default upper safe energy threshold defined for obs 20\n",
      "No default lower safe energy threshold defined for obs 20\n"
     ]
    },
    {
     "name": "stdout",
     "output_type": "stream",
     "text": [
      "114 of 210, Background norm obs 20: 1.02\n"
     ]
    },
    {
     "name": "stderr",
     "output_type": "stream",
     "text": [
      "No default upper safe energy threshold defined for obs 200\n",
      "No default lower safe energy threshold defined for obs 200\n"
     ]
    },
    {
     "name": "stdout",
     "output_type": "stream",
     "text": [
      "115 of 210, Background norm obs 200: 1.01\n"
     ]
    },
    {
     "name": "stderr",
     "output_type": "stream",
     "text": [
      "No default upper safe energy threshold defined for obs 201\n",
      "No default lower safe energy threshold defined for obs 201\n"
     ]
    },
    {
     "name": "stdout",
     "output_type": "stream",
     "text": [
      "116 of 210, Background norm obs 201: 1.00\n"
     ]
    },
    {
     "name": "stderr",
     "output_type": "stream",
     "text": [
      "No default upper safe energy threshold defined for obs 202\n",
      "No default lower safe energy threshold defined for obs 202\n"
     ]
    },
    {
     "name": "stdout",
     "output_type": "stream",
     "text": [
      "117 of 210, Background norm obs 202: 0.99\n"
     ]
    },
    {
     "name": "stderr",
     "output_type": "stream",
     "text": [
      "No default upper safe energy threshold defined for obs 203\n",
      "No default lower safe energy threshold defined for obs 203\n"
     ]
    },
    {
     "name": "stdout",
     "output_type": "stream",
     "text": [
      "118 of 210, Background norm obs 203: 0.99\n"
     ]
    },
    {
     "name": "stderr",
     "output_type": "stream",
     "text": [
      "No default upper safe energy threshold defined for obs 204\n",
      "No default lower safe energy threshold defined for obs 204\n"
     ]
    },
    {
     "name": "stdout",
     "output_type": "stream",
     "text": [
      "119 of 210, Background norm obs 204: 0.99\n"
     ]
    },
    {
     "name": "stderr",
     "output_type": "stream",
     "text": [
      "No default upper safe energy threshold defined for obs 205\n",
      "No default lower safe energy threshold defined for obs 205\n"
     ]
    },
    {
     "name": "stdout",
     "output_type": "stream",
     "text": [
      "120 of 210, Background norm obs 205: 0.99\n"
     ]
    },
    {
     "name": "stderr",
     "output_type": "stream",
     "text": [
      "No default upper safe energy threshold defined for obs 206\n",
      "No default lower safe energy threshold defined for obs 206\n"
     ]
    },
    {
     "name": "stdout",
     "output_type": "stream",
     "text": [
      "121 of 210, Background norm obs 206: 1.01\n"
     ]
    },
    {
     "name": "stderr",
     "output_type": "stream",
     "text": [
      "No default upper safe energy threshold defined for obs 207\n",
      "No default lower safe energy threshold defined for obs 207\n"
     ]
    },
    {
     "name": "stdout",
     "output_type": "stream",
     "text": [
      "122 of 210, Background norm obs 207: 1.01\n"
     ]
    },
    {
     "name": "stderr",
     "output_type": "stream",
     "text": [
      "No default upper safe energy threshold defined for obs 208\n",
      "No default lower safe energy threshold defined for obs 208\n"
     ]
    },
    {
     "name": "stdout",
     "output_type": "stream",
     "text": [
      "123 of 210, Background norm obs 208: 1.01\n"
     ]
    },
    {
     "name": "stderr",
     "output_type": "stream",
     "text": [
      "No default upper safe energy threshold defined for obs 209\n",
      "No default lower safe energy threshold defined for obs 209\n"
     ]
    },
    {
     "name": "stdout",
     "output_type": "stream",
     "text": [
      "124 of 210, Background norm obs 209: 1.00\n"
     ]
    },
    {
     "name": "stderr",
     "output_type": "stream",
     "text": [
      "No default upper safe energy threshold defined for obs 21\n",
      "No default lower safe energy threshold defined for obs 21\n"
     ]
    },
    {
     "name": "stdout",
     "output_type": "stream",
     "text": [
      "125 of 210, Background norm obs 21: 1.00\n"
     ]
    },
    {
     "name": "stderr",
     "output_type": "stream",
     "text": [
      "No default upper safe energy threshold defined for obs 22\n",
      "No default lower safe energy threshold defined for obs 22\n"
     ]
    },
    {
     "name": "stdout",
     "output_type": "stream",
     "text": [
      "126 of 210, Background norm obs 22: 0.98\n"
     ]
    },
    {
     "name": "stderr",
     "output_type": "stream",
     "text": [
      "No default upper safe energy threshold defined for obs 23\n",
      "No default lower safe energy threshold defined for obs 23\n"
     ]
    },
    {
     "name": "stdout",
     "output_type": "stream",
     "text": [
      "127 of 210, Background norm obs 23: 1.00\n"
     ]
    },
    {
     "name": "stderr",
     "output_type": "stream",
     "text": [
      "No default upper safe energy threshold defined for obs 24\n",
      "No default lower safe energy threshold defined for obs 24\n"
     ]
    },
    {
     "name": "stdout",
     "output_type": "stream",
     "text": [
      "128 of 210, Background norm obs 24: 0.99\n"
     ]
    },
    {
     "name": "stderr",
     "output_type": "stream",
     "text": [
      "No default upper safe energy threshold defined for obs 25\n",
      "No default lower safe energy threshold defined for obs 25\n"
     ]
    },
    {
     "name": "stdout",
     "output_type": "stream",
     "text": [
      "129 of 210, Background norm obs 25: 1.02\n"
     ]
    },
    {
     "name": "stderr",
     "output_type": "stream",
     "text": [
      "No default upper safe energy threshold defined for obs 26\n",
      "No default lower safe energy threshold defined for obs 26\n"
     ]
    },
    {
     "name": "stdout",
     "output_type": "stream",
     "text": [
      "130 of 210, Background norm obs 26: 1.00\n"
     ]
    },
    {
     "name": "stderr",
     "output_type": "stream",
     "text": [
      "No default upper safe energy threshold defined for obs 27\n",
      "No default lower safe energy threshold defined for obs 27\n"
     ]
    },
    {
     "name": "stdout",
     "output_type": "stream",
     "text": [
      "131 of 210, Background norm obs 27: 0.99\n"
     ]
    },
    {
     "name": "stderr",
     "output_type": "stream",
     "text": [
      "No default upper safe energy threshold defined for obs 28\n",
      "No default lower safe energy threshold defined for obs 28\n"
     ]
    },
    {
     "name": "stdout",
     "output_type": "stream",
     "text": [
      "132 of 210, Background norm obs 28: 1.02\n"
     ]
    },
    {
     "name": "stderr",
     "output_type": "stream",
     "text": [
      "No default upper safe energy threshold defined for obs 29\n",
      "No default lower safe energy threshold defined for obs 29\n"
     ]
    },
    {
     "name": "stdout",
     "output_type": "stream",
     "text": [
      "133 of 210, Background norm obs 29: 0.99\n"
     ]
    },
    {
     "name": "stderr",
     "output_type": "stream",
     "text": [
      "No default upper safe energy threshold defined for obs 3\n",
      "No default lower safe energy threshold defined for obs 3\n"
     ]
    },
    {
     "name": "stdout",
     "output_type": "stream",
     "text": [
      "134 of 210, Background norm obs 3: 1.00\n"
     ]
    },
    {
     "name": "stderr",
     "output_type": "stream",
     "text": [
      "No default upper safe energy threshold defined for obs 30\n",
      "No default lower safe energy threshold defined for obs 30\n"
     ]
    },
    {
     "name": "stdout",
     "output_type": "stream",
     "text": [
      "135 of 210, Background norm obs 30: 1.02\n"
     ]
    },
    {
     "name": "stderr",
     "output_type": "stream",
     "text": [
      "No default upper safe energy threshold defined for obs 31\n",
      "No default lower safe energy threshold defined for obs 31\n"
     ]
    },
    {
     "name": "stdout",
     "output_type": "stream",
     "text": [
      "136 of 210, Background norm obs 31: 0.99\n"
     ]
    },
    {
     "name": "stderr",
     "output_type": "stream",
     "text": [
      "No default upper safe energy threshold defined for obs 32\n",
      "No default lower safe energy threshold defined for obs 32\n"
     ]
    },
    {
     "name": "stdout",
     "output_type": "stream",
     "text": [
      "137 of 210, Background norm obs 32: 0.99\n"
     ]
    },
    {
     "name": "stderr",
     "output_type": "stream",
     "text": [
      "No default upper safe energy threshold defined for obs 33\n",
      "No default lower safe energy threshold defined for obs 33\n"
     ]
    },
    {
     "name": "stdout",
     "output_type": "stream",
     "text": [
      "138 of 210, Background norm obs 33: 0.99\n"
     ]
    },
    {
     "name": "stderr",
     "output_type": "stream",
     "text": [
      "No default upper safe energy threshold defined for obs 34\n",
      "No default lower safe energy threshold defined for obs 34\n"
     ]
    },
    {
     "name": "stdout",
     "output_type": "stream",
     "text": [
      "139 of 210, Background norm obs 34: 1.00\n"
     ]
    },
    {
     "name": "stderr",
     "output_type": "stream",
     "text": [
      "No default upper safe energy threshold defined for obs 35\n",
      "No default lower safe energy threshold defined for obs 35\n"
     ]
    },
    {
     "name": "stdout",
     "output_type": "stream",
     "text": [
      "140 of 210, Background norm obs 35: 0.98\n"
     ]
    },
    {
     "name": "stderr",
     "output_type": "stream",
     "text": [
      "No default upper safe energy threshold defined for obs 36\n",
      "No default lower safe energy threshold defined for obs 36\n"
     ]
    },
    {
     "name": "stdout",
     "output_type": "stream",
     "text": [
      "141 of 210, Background norm obs 36: 0.97\n"
     ]
    },
    {
     "name": "stderr",
     "output_type": "stream",
     "text": [
      "No default upper safe energy threshold defined for obs 37\n",
      "No default lower safe energy threshold defined for obs 37\n"
     ]
    },
    {
     "name": "stdout",
     "output_type": "stream",
     "text": [
      "142 of 210, Background norm obs 37: 1.01\n"
     ]
    },
    {
     "name": "stderr",
     "output_type": "stream",
     "text": [
      "No default upper safe energy threshold defined for obs 38\n",
      "No default lower safe energy threshold defined for obs 38\n"
     ]
    },
    {
     "name": "stdout",
     "output_type": "stream",
     "text": [
      "143 of 210, Background norm obs 38: 1.00\n"
     ]
    },
    {
     "name": "stderr",
     "output_type": "stream",
     "text": [
      "No default upper safe energy threshold defined for obs 39\n",
      "No default lower safe energy threshold defined for obs 39\n"
     ]
    },
    {
     "name": "stdout",
     "output_type": "stream",
     "text": [
      "144 of 210, Background norm obs 39: 1.00\n"
     ]
    },
    {
     "name": "stderr",
     "output_type": "stream",
     "text": [
      "No default upper safe energy threshold defined for obs 4\n",
      "No default lower safe energy threshold defined for obs 4\n"
     ]
    },
    {
     "name": "stdout",
     "output_type": "stream",
     "text": [
      "145 of 210, Background norm obs 4: 1.00\n"
     ]
    },
    {
     "name": "stderr",
     "output_type": "stream",
     "text": [
      "No default upper safe energy threshold defined for obs 40\n",
      "No default lower safe energy threshold defined for obs 40\n"
     ]
    },
    {
     "name": "stdout",
     "output_type": "stream",
     "text": [
      "146 of 210, Background norm obs 40: 1.01\n"
     ]
    },
    {
     "name": "stderr",
     "output_type": "stream",
     "text": [
      "No default upper safe energy threshold defined for obs 41\n",
      "No default lower safe energy threshold defined for obs 41\n"
     ]
    },
    {
     "name": "stdout",
     "output_type": "stream",
     "text": [
      "147 of 210, Background norm obs 41: 0.97\n"
     ]
    },
    {
     "name": "stderr",
     "output_type": "stream",
     "text": [
      "No default upper safe energy threshold defined for obs 42\n",
      "No default lower safe energy threshold defined for obs 42\n"
     ]
    },
    {
     "name": "stdout",
     "output_type": "stream",
     "text": [
      "148 of 210, Background norm obs 42: 1.01\n"
     ]
    },
    {
     "name": "stderr",
     "output_type": "stream",
     "text": [
      "No default upper safe energy threshold defined for obs 43\n",
      "No default lower safe energy threshold defined for obs 43\n"
     ]
    },
    {
     "name": "stdout",
     "output_type": "stream",
     "text": [
      "149 of 210, Background norm obs 43: 0.99\n"
     ]
    },
    {
     "name": "stderr",
     "output_type": "stream",
     "text": [
      "No default upper safe energy threshold defined for obs 44\n",
      "No default lower safe energy threshold defined for obs 44\n"
     ]
    },
    {
     "name": "stdout",
     "output_type": "stream",
     "text": [
      "150 of 210, Background norm obs 44: 0.99\n"
     ]
    },
    {
     "name": "stderr",
     "output_type": "stream",
     "text": [
      "No default upper safe energy threshold defined for obs 45\n",
      "No default lower safe energy threshold defined for obs 45\n"
     ]
    },
    {
     "name": "stdout",
     "output_type": "stream",
     "text": [
      "151 of 210, Background norm obs 45: 0.98\n"
     ]
    },
    {
     "name": "stderr",
     "output_type": "stream",
     "text": [
      "No default upper safe energy threshold defined for obs 46\n",
      "No default lower safe energy threshold defined for obs 46\n"
     ]
    },
    {
     "name": "stdout",
     "output_type": "stream",
     "text": [
      "152 of 210, Background norm obs 46: 1.00\n"
     ]
    },
    {
     "name": "stderr",
     "output_type": "stream",
     "text": [
      "No default upper safe energy threshold defined for obs 47\n",
      "No default lower safe energy threshold defined for obs 47\n"
     ]
    },
    {
     "name": "stdout",
     "output_type": "stream",
     "text": [
      "153 of 210, Background norm obs 47: 1.02\n"
     ]
    },
    {
     "name": "stderr",
     "output_type": "stream",
     "text": [
      "No default upper safe energy threshold defined for obs 48\n",
      "No default lower safe energy threshold defined for obs 48\n"
     ]
    },
    {
     "name": "stdout",
     "output_type": "stream",
     "text": [
      "154 of 210, Background norm obs 48: 1.02\n"
     ]
    },
    {
     "name": "stderr",
     "output_type": "stream",
     "text": [
      "No default upper safe energy threshold defined for obs 49\n",
      "No default lower safe energy threshold defined for obs 49\n"
     ]
    },
    {
     "name": "stdout",
     "output_type": "stream",
     "text": [
      "155 of 210, Background norm obs 49: 0.99\n"
     ]
    },
    {
     "name": "stderr",
     "output_type": "stream",
     "text": [
      "No default upper safe energy threshold defined for obs 5\n",
      "No default lower safe energy threshold defined for obs 5\n"
     ]
    },
    {
     "name": "stdout",
     "output_type": "stream",
     "text": [
      "156 of 210, Background norm obs 5: 0.98\n"
     ]
    },
    {
     "name": "stderr",
     "output_type": "stream",
     "text": [
      "No default upper safe energy threshold defined for obs 50\n",
      "No default lower safe energy threshold defined for obs 50\n"
     ]
    },
    {
     "name": "stdout",
     "output_type": "stream",
     "text": [
      "157 of 210, Background norm obs 50: 0.98\n"
     ]
    },
    {
     "name": "stderr",
     "output_type": "stream",
     "text": [
      "No default upper safe energy threshold defined for obs 51\n",
      "No default lower safe energy threshold defined for obs 51\n"
     ]
    },
    {
     "name": "stdout",
     "output_type": "stream",
     "text": [
      "158 of 210, Background norm obs 51: 0.98\n"
     ]
    },
    {
     "name": "stderr",
     "output_type": "stream",
     "text": [
      "No default upper safe energy threshold defined for obs 52\n",
      "No default lower safe energy threshold defined for obs 52\n"
     ]
    },
    {
     "name": "stdout",
     "output_type": "stream",
     "text": [
      "159 of 210, Background norm obs 52: 0.99\n"
     ]
    },
    {
     "name": "stderr",
     "output_type": "stream",
     "text": [
      "No default upper safe energy threshold defined for obs 53\n",
      "No default lower safe energy threshold defined for obs 53\n"
     ]
    },
    {
     "name": "stdout",
     "output_type": "stream",
     "text": [
      "160 of 210, Background norm obs 53: 1.01\n"
     ]
    },
    {
     "name": "stderr",
     "output_type": "stream",
     "text": [
      "No default upper safe energy threshold defined for obs 54\n",
      "No default lower safe energy threshold defined for obs 54\n"
     ]
    },
    {
     "name": "stdout",
     "output_type": "stream",
     "text": [
      "161 of 210, Background norm obs 54: 0.99\n"
     ]
    },
    {
     "name": "stderr",
     "output_type": "stream",
     "text": [
      "No default upper safe energy threshold defined for obs 55\n",
      "No default lower safe energy threshold defined for obs 55\n"
     ]
    },
    {
     "name": "stdout",
     "output_type": "stream",
     "text": [
      "162 of 210, Background norm obs 55: 0.99\n"
     ]
    },
    {
     "name": "stderr",
     "output_type": "stream",
     "text": [
      "No default upper safe energy threshold defined for obs 56\n",
      "No default lower safe energy threshold defined for obs 56\n"
     ]
    },
    {
     "name": "stdout",
     "output_type": "stream",
     "text": [
      "163 of 210, Background norm obs 56: 0.98\n"
     ]
    },
    {
     "name": "stderr",
     "output_type": "stream",
     "text": [
      "No default upper safe energy threshold defined for obs 57\n",
      "No default lower safe energy threshold defined for obs 57\n"
     ]
    },
    {
     "name": "stdout",
     "output_type": "stream",
     "text": [
      "164 of 210, Background norm obs 57: 1.01\n"
     ]
    },
    {
     "name": "stderr",
     "output_type": "stream",
     "text": [
      "No default upper safe energy threshold defined for obs 58\n",
      "No default lower safe energy threshold defined for obs 58\n"
     ]
    },
    {
     "name": "stdout",
     "output_type": "stream",
     "text": [
      "165 of 210, Background norm obs 58: 1.00\n"
     ]
    },
    {
     "name": "stderr",
     "output_type": "stream",
     "text": [
      "No default upper safe energy threshold defined for obs 59\n",
      "No default lower safe energy threshold defined for obs 59\n"
     ]
    },
    {
     "name": "stdout",
     "output_type": "stream",
     "text": [
      "166 of 210, Background norm obs 59: 1.00\n"
     ]
    },
    {
     "name": "stderr",
     "output_type": "stream",
     "text": [
      "No default upper safe energy threshold defined for obs 6\n",
      "No default lower safe energy threshold defined for obs 6\n"
     ]
    },
    {
     "name": "stdout",
     "output_type": "stream",
     "text": [
      "167 of 210, Background norm obs 6: 1.00\n"
     ]
    },
    {
     "name": "stderr",
     "output_type": "stream",
     "text": [
      "No default upper safe energy threshold defined for obs 60\n",
      "No default lower safe energy threshold defined for obs 60\n"
     ]
    },
    {
     "name": "stdout",
     "output_type": "stream",
     "text": [
      "168 of 210, Background norm obs 60: 1.01\n"
     ]
    },
    {
     "name": "stderr",
     "output_type": "stream",
     "text": [
      "No default upper safe energy threshold defined for obs 61\n",
      "No default lower safe energy threshold defined for obs 61\n"
     ]
    },
    {
     "name": "stdout",
     "output_type": "stream",
     "text": [
      "169 of 210, Background norm obs 61: 0.98\n"
     ]
    },
    {
     "name": "stderr",
     "output_type": "stream",
     "text": [
      "No default upper safe energy threshold defined for obs 62\n",
      "No default lower safe energy threshold defined for obs 62\n"
     ]
    },
    {
     "name": "stdout",
     "output_type": "stream",
     "text": [
      "170 of 210, Background norm obs 62: 0.99\n"
     ]
    },
    {
     "name": "stderr",
     "output_type": "stream",
     "text": [
      "No default upper safe energy threshold defined for obs 63\n",
      "No default lower safe energy threshold defined for obs 63\n"
     ]
    },
    {
     "name": "stdout",
     "output_type": "stream",
     "text": [
      "171 of 210, Background norm obs 63: 1.01\n"
     ]
    },
    {
     "name": "stderr",
     "output_type": "stream",
     "text": [
      "No default upper safe energy threshold defined for obs 64\n",
      "No default lower safe energy threshold defined for obs 64\n"
     ]
    },
    {
     "name": "stdout",
     "output_type": "stream",
     "text": [
      "172 of 210, Background norm obs 64: 1.01\n"
     ]
    },
    {
     "name": "stderr",
     "output_type": "stream",
     "text": [
      "No default upper safe energy threshold defined for obs 65\n",
      "No default lower safe energy threshold defined for obs 65\n"
     ]
    },
    {
     "name": "stdout",
     "output_type": "stream",
     "text": [
      "173 of 210, Background norm obs 65: 1.01\n"
     ]
    },
    {
     "name": "stderr",
     "output_type": "stream",
     "text": [
      "No default upper safe energy threshold defined for obs 66\n",
      "No default lower safe energy threshold defined for obs 66\n"
     ]
    },
    {
     "name": "stdout",
     "output_type": "stream",
     "text": [
      "174 of 210, Background norm obs 66: 1.01\n"
     ]
    },
    {
     "name": "stderr",
     "output_type": "stream",
     "text": [
      "No default upper safe energy threshold defined for obs 67\n",
      "No default lower safe energy threshold defined for obs 67\n"
     ]
    },
    {
     "name": "stdout",
     "output_type": "stream",
     "text": [
      "175 of 210, Background norm obs 67: 0.98\n"
     ]
    },
    {
     "name": "stderr",
     "output_type": "stream",
     "text": [
      "No default upper safe energy threshold defined for obs 68\n",
      "No default lower safe energy threshold defined for obs 68\n"
     ]
    },
    {
     "name": "stdout",
     "output_type": "stream",
     "text": [
      "176 of 210, Background norm obs 68: 0.99\n"
     ]
    },
    {
     "name": "stderr",
     "output_type": "stream",
     "text": [
      "No default upper safe energy threshold defined for obs 69\n",
      "No default lower safe energy threshold defined for obs 69\n"
     ]
    },
    {
     "name": "stdout",
     "output_type": "stream",
     "text": [
      "177 of 210, Background norm obs 69: 1.02\n"
     ]
    },
    {
     "name": "stderr",
     "output_type": "stream",
     "text": [
      "No default upper safe energy threshold defined for obs 7\n",
      "No default lower safe energy threshold defined for obs 7\n"
     ]
    },
    {
     "name": "stdout",
     "output_type": "stream",
     "text": [
      "178 of 210, Background norm obs 7: 1.00\n"
     ]
    },
    {
     "name": "stderr",
     "output_type": "stream",
     "text": [
      "No default upper safe energy threshold defined for obs 70\n",
      "No default lower safe energy threshold defined for obs 70\n"
     ]
    },
    {
     "name": "stdout",
     "output_type": "stream",
     "text": [
      "179 of 210, Background norm obs 70: 1.00\n"
     ]
    },
    {
     "name": "stderr",
     "output_type": "stream",
     "text": [
      "No default upper safe energy threshold defined for obs 71\n",
      "No default lower safe energy threshold defined for obs 71\n"
     ]
    },
    {
     "name": "stdout",
     "output_type": "stream",
     "text": [
      "180 of 210, Background norm obs 71: 0.99\n"
     ]
    },
    {
     "name": "stderr",
     "output_type": "stream",
     "text": [
      "No default upper safe energy threshold defined for obs 72\n",
      "No default lower safe energy threshold defined for obs 72\n"
     ]
    },
    {
     "name": "stdout",
     "output_type": "stream",
     "text": [
      "181 of 210, Background norm obs 72: 1.00\n"
     ]
    },
    {
     "name": "stderr",
     "output_type": "stream",
     "text": [
      "No default upper safe energy threshold defined for obs 73\n",
      "No default lower safe energy threshold defined for obs 73\n"
     ]
    },
    {
     "name": "stdout",
     "output_type": "stream",
     "text": [
      "182 of 210, Background norm obs 73: 1.00\n"
     ]
    },
    {
     "name": "stderr",
     "output_type": "stream",
     "text": [
      "No default upper safe energy threshold defined for obs 74\n",
      "No default lower safe energy threshold defined for obs 74\n"
     ]
    },
    {
     "name": "stdout",
     "output_type": "stream",
     "text": [
      "183 of 210, Background norm obs 74: 1.02\n"
     ]
    },
    {
     "name": "stderr",
     "output_type": "stream",
     "text": [
      "No default upper safe energy threshold defined for obs 75\n",
      "No default lower safe energy threshold defined for obs 75\n"
     ]
    },
    {
     "name": "stdout",
     "output_type": "stream",
     "text": [
      "184 of 210, Background norm obs 75: 1.00\n"
     ]
    },
    {
     "name": "stderr",
     "output_type": "stream",
     "text": [
      "No default upper safe energy threshold defined for obs 76\n",
      "No default lower safe energy threshold defined for obs 76\n"
     ]
    },
    {
     "name": "stdout",
     "output_type": "stream",
     "text": [
      "185 of 210, Background norm obs 76: 0.99\n"
     ]
    },
    {
     "name": "stderr",
     "output_type": "stream",
     "text": [
      "No default upper safe energy threshold defined for obs 77\n",
      "No default lower safe energy threshold defined for obs 77\n"
     ]
    },
    {
     "name": "stdout",
     "output_type": "stream",
     "text": [
      "186 of 210, Background norm obs 77: 0.99\n"
     ]
    },
    {
     "name": "stderr",
     "output_type": "stream",
     "text": [
      "No default upper safe energy threshold defined for obs 78\n",
      "No default lower safe energy threshold defined for obs 78\n"
     ]
    },
    {
     "name": "stdout",
     "output_type": "stream",
     "text": [
      "187 of 210, Background norm obs 78: 1.01\n"
     ]
    },
    {
     "name": "stderr",
     "output_type": "stream",
     "text": [
      "No default upper safe energy threshold defined for obs 79\n",
      "No default lower safe energy threshold defined for obs 79\n"
     ]
    },
    {
     "name": "stdout",
     "output_type": "stream",
     "text": [
      "188 of 210, Background norm obs 79: 1.01\n"
     ]
    },
    {
     "name": "stderr",
     "output_type": "stream",
     "text": [
      "No default upper safe energy threshold defined for obs 8\n",
      "No default lower safe energy threshold defined for obs 8\n"
     ]
    },
    {
     "name": "stdout",
     "output_type": "stream",
     "text": [
      "189 of 210, Background norm obs 8: 1.00\n"
     ]
    },
    {
     "name": "stderr",
     "output_type": "stream",
     "text": [
      "No default upper safe energy threshold defined for obs 80\n",
      "No default lower safe energy threshold defined for obs 80\n"
     ]
    },
    {
     "name": "stdout",
     "output_type": "stream",
     "text": [
      "190 of 210, Background norm obs 80: 1.00\n"
     ]
    },
    {
     "name": "stderr",
     "output_type": "stream",
     "text": [
      "No default upper safe energy threshold defined for obs 81\n",
      "No default lower safe energy threshold defined for obs 81\n"
     ]
    },
    {
     "name": "stdout",
     "output_type": "stream",
     "text": [
      "191 of 210, Background norm obs 81: 0.99\n"
     ]
    },
    {
     "name": "stderr",
     "output_type": "stream",
     "text": [
      "No default upper safe energy threshold defined for obs 82\n",
      "No default lower safe energy threshold defined for obs 82\n"
     ]
    },
    {
     "name": "stdout",
     "output_type": "stream",
     "text": [
      "192 of 210, Background norm obs 82: 1.00\n"
     ]
    },
    {
     "name": "stderr",
     "output_type": "stream",
     "text": [
      "No default upper safe energy threshold defined for obs 83\n",
      "No default lower safe energy threshold defined for obs 83\n"
     ]
    },
    {
     "name": "stdout",
     "output_type": "stream",
     "text": [
      "193 of 210, Background norm obs 83: 1.00\n"
     ]
    },
    {
     "name": "stderr",
     "output_type": "stream",
     "text": [
      "No default upper safe energy threshold defined for obs 84\n",
      "No default lower safe energy threshold defined for obs 84\n"
     ]
    },
    {
     "name": "stdout",
     "output_type": "stream",
     "text": [
      "194 of 210, Background norm obs 84: 0.99\n"
     ]
    },
    {
     "name": "stderr",
     "output_type": "stream",
     "text": [
      "No default upper safe energy threshold defined for obs 85\n",
      "No default lower safe energy threshold defined for obs 85\n"
     ]
    },
    {
     "name": "stdout",
     "output_type": "stream",
     "text": [
      "195 of 210, Background norm obs 85: 1.02\n"
     ]
    },
    {
     "name": "stderr",
     "output_type": "stream",
     "text": [
      "No default upper safe energy threshold defined for obs 86\n",
      "No default lower safe energy threshold defined for obs 86\n"
     ]
    },
    {
     "name": "stdout",
     "output_type": "stream",
     "text": [
      "196 of 210, Background norm obs 86: 1.01\n"
     ]
    },
    {
     "name": "stderr",
     "output_type": "stream",
     "text": [
      "No default upper safe energy threshold defined for obs 87\n",
      "No default lower safe energy threshold defined for obs 87\n"
     ]
    },
    {
     "name": "stdout",
     "output_type": "stream",
     "text": [
      "197 of 210, Background norm obs 87: 1.00\n"
     ]
    },
    {
     "name": "stderr",
     "output_type": "stream",
     "text": [
      "No default upper safe energy threshold defined for obs 88\n",
      "No default lower safe energy threshold defined for obs 88\n"
     ]
    },
    {
     "name": "stdout",
     "output_type": "stream",
     "text": [
      "198 of 210, Background norm obs 88: 1.02\n"
     ]
    },
    {
     "name": "stderr",
     "output_type": "stream",
     "text": [
      "No default upper safe energy threshold defined for obs 89\n",
      "No default lower safe energy threshold defined for obs 89\n"
     ]
    },
    {
     "name": "stdout",
     "output_type": "stream",
     "text": [
      "199 of 210, Background norm obs 89: 0.99\n"
     ]
    },
    {
     "name": "stderr",
     "output_type": "stream",
     "text": [
      "No default upper safe energy threshold defined for obs 9\n",
      "No default lower safe energy threshold defined for obs 9\n"
     ]
    },
    {
     "name": "stdout",
     "output_type": "stream",
     "text": [
      "200 of 210, Background norm obs 9: 1.00\n"
     ]
    },
    {
     "name": "stderr",
     "output_type": "stream",
     "text": [
      "No default upper safe energy threshold defined for obs 90\n",
      "No default lower safe energy threshold defined for obs 90\n"
     ]
    },
    {
     "name": "stdout",
     "output_type": "stream",
     "text": [
      "201 of 210, Background norm obs 90: 0.99\n"
     ]
    },
    {
     "name": "stderr",
     "output_type": "stream",
     "text": [
      "No default upper safe energy threshold defined for obs 91\n",
      "No default lower safe energy threshold defined for obs 91\n"
     ]
    },
    {
     "name": "stdout",
     "output_type": "stream",
     "text": [
      "202 of 210, Background norm obs 91: 1.01\n"
     ]
    },
    {
     "name": "stderr",
     "output_type": "stream",
     "text": [
      "No default upper safe energy threshold defined for obs 92\n",
      "No default lower safe energy threshold defined for obs 92\n"
     ]
    },
    {
     "name": "stdout",
     "output_type": "stream",
     "text": [
      "203 of 210, Background norm obs 92: 1.02\n"
     ]
    },
    {
     "name": "stderr",
     "output_type": "stream",
     "text": [
      "No default upper safe energy threshold defined for obs 93\n",
      "No default lower safe energy threshold defined for obs 93\n"
     ]
    },
    {
     "name": "stdout",
     "output_type": "stream",
     "text": [
      "204 of 210, Background norm obs 93: 1.01\n"
     ]
    },
    {
     "name": "stderr",
     "output_type": "stream",
     "text": [
      "No default upper safe energy threshold defined for obs 94\n",
      "No default lower safe energy threshold defined for obs 94\n"
     ]
    },
    {
     "name": "stdout",
     "output_type": "stream",
     "text": [
      "205 of 210, Background norm obs 94: 0.99\n"
     ]
    },
    {
     "name": "stderr",
     "output_type": "stream",
     "text": [
      "No default upper safe energy threshold defined for obs 95\n",
      "No default lower safe energy threshold defined for obs 95\n"
     ]
    },
    {
     "name": "stdout",
     "output_type": "stream",
     "text": [
      "206 of 210, Background norm obs 95: 1.01\n"
     ]
    },
    {
     "name": "stderr",
     "output_type": "stream",
     "text": [
      "No default upper safe energy threshold defined for obs 96\n",
      "No default lower safe energy threshold defined for obs 96\n"
     ]
    },
    {
     "name": "stdout",
     "output_type": "stream",
     "text": [
      "207 of 210, Background norm obs 96: 1.00\n"
     ]
    },
    {
     "name": "stderr",
     "output_type": "stream",
     "text": [
      "No default upper safe energy threshold defined for obs 97\n",
      "No default lower safe energy threshold defined for obs 97\n"
     ]
    },
    {
     "name": "stdout",
     "output_type": "stream",
     "text": [
      "208 of 210, Background norm obs 97: 0.98\n"
     ]
    },
    {
     "name": "stderr",
     "output_type": "stream",
     "text": [
      "No default upper safe energy threshold defined for obs 98\n",
      "No default lower safe energy threshold defined for obs 98\n"
     ]
    },
    {
     "name": "stdout",
     "output_type": "stream",
     "text": [
      "209 of 210, Background norm obs 98: 0.99\n"
     ]
    },
    {
     "name": "stderr",
     "output_type": "stream",
     "text": [
      "No default upper safe energy threshold defined for obs 99\n",
      "No default lower safe energy threshold defined for obs 99\n"
     ]
    },
    {
     "name": "stdout",
     "output_type": "stream",
     "text": [
      "210 of 210, Background norm obs 99: 0.99\n"
     ]
    }
   ],
   "source": [
    "# Create the reconstruced energy range:\n",
    "e_min, e_max = 0.1 * u.TeV, 100 * u.TeV\n",
    "energy_axis = MapAxis.from_energy_bounds(\n",
    "    e_min, e_max, nbin=10, per_decade=True, unit=\"TeV\", name=\"energy\"\n",
    ")\n",
    "\n",
    "# Reduced IRFs are defined in true energy (i.e. not measured energy).\n",
    "energy_axis_true = MapAxis.from_energy_bounds(\n",
    "    0.01, 300, nbin=10, per_decade=True, unit=\"TeV\", name=\"energy_true\"\n",
    ")\n",
    "\n",
    "if bkg == \"FoV\":\n",
    "    geom = WcsGeom.create(\n",
    "        skydir=(target_position.galactic.l.deg , target_position.galactic.b.deg),\n",
    "        binsz=binsz,\n",
    "        width=(width, width),\n",
    "        frame=\"galactic\",\n",
    "        proj=\"CAR\",\n",
    "        axes=[energy_axis],\n",
    "    )\n",
    "\n",
    "    stacked = MapDataset.create(\n",
    "        geom=geom, energy_axis_true=energy_axis_true, name=\"my-dataset\"\n",
    "    )\n",
    "\n",
    "    dataset_maker = MapDatasetMaker()\n",
    "    \n",
    "    maker_fov = FoVBackgroundMaker(method=\"scale\", \n",
    "                                   exclusion_mask=exclusion_mask,\n",
    "                                   )\n",
    "    \n",
    "# let's impone a safe range for the analysis: we consider only events at a distance from the pointing direction < 3 deg.\n",
    "offset_max = 3 * u.deg\n",
    "safe_mask_masker = SafeMaskMaker(\n",
    "    methods=[\"aeff-default\"], offset_max=offset_max\n",
    "#    methods=[\"offset-max\", \"aeff-default\"], offset_max=offset_max\n",
    "#    methods=[\"offset-max\", \"aeff-max\"], offset_max=offset_max, aeff_percent=10\n",
    ")\n",
    "\n",
    "# let's create the dataset for each observation and stack them all:\n",
    "for i, observation in enumerate(observations):\n",
    "    if bkg == \"FoV\":\n",
    "        dataset = dataset_maker.run(stacked.copy(name=str(observation.obs_id)), observation)\n",
    "        \n",
    "        # A MapDataset is filled in this cutout geometry\n",
    "        dataset = safe_mask_masker.run(dataset, observation)\n",
    "        dataset = maker_fov.run(dataset)\n",
    "        \n",
    "        # The data quality cut is applied\n",
    "        stacked.stack(dataset)\n",
    "        \n",
    "        print(f\"{i+1} of {len(observations)}, Background norm obs {observation.obs_id}: {dataset.background_model.spectral_model.norm.value:.2f}\")"
   ]
  },
  {
   "cell_type": "code",
   "execution_count": 10,
   "id": "28662e80",
   "metadata": {},
   "outputs": [
    {
     "data": {
      "image/png": "[encoded data removed]",
      "text/plain": [
       "<Figure size 640x480 with 2 Axes>"
      ]
     },
     "metadata": {},
     "output_type": "display_data"
    }
   ],
   "source": [
    "# plot the counts map\n",
    "if bkg == \"FoV\":\n",
    "    stacked.counts.sum_over_axes().smooth(0.03 * u.deg).plot(stretch=\"sqrt\", add_cbar=True)\n",
    "plt.show()"
   ]
  },
  {
   "cell_type": "code",
   "execution_count": 11,
   "id": "311914ab",
   "metadata": {},
   "outputs": [
    {
     "data": {
      "image/png": "[encoded data removed]",
      "text/plain": [
       "<Figure size 640x480 with 2 Axes>"
      ]
     },
     "metadata": {},
     "output_type": "display_data"
    }
   ],
   "source": [
    "# plot the excess map\n",
    "excess = stacked.excess.sum_over_axes()\n",
    "excess.smooth(\"0.02 deg\").plot(stretch=\"sqrt\", add_cbar=True)\n",
    "plt.show()"
   ]
  },
  {
   "cell_type": "code",
   "execution_count": 12,
   "id": "498c60ab",
   "metadata": {},
   "outputs": [
    {
     "data": {
      "image/png": "[encoded data removed]",
      "text/plain": [
       "<Figure size 1500x1000 with 11 Axes>"
      ]
     },
     "metadata": {},
     "output_type": "display_data"
    }
   ],
   "source": [
    "# let's consider more than one energy bin and a correlation radius of 0.1 deg\n",
    "estimator = ExcessMapEstimator(\n",
    "    correlation_radius=\"0.1 deg\",\n",
    "    selection_optional=\"all\",\n",
    "    #energy_edges=[0.5, 2, 5, 10, 30, 100] * u.TeV,\n",
    "    energy_edges=energy_axis.downsample(6).edges,\n",
    ")\n",
    "\n",
    "result = estimator.run(stacked)\n",
    "ax = result[\"sqrt_ts\"].plot_grid(\n",
    "    figsize=(15, 10), cmap=\"coolwarm\", add_cbar=True, \n",
    "    vmin=np.min(result[\"sqrt_ts\"].data[~np.isnan(result[\"sqrt_ts\"].data)]), \n",
    "    vmax=np.max(result[\"sqrt_ts\"].data[~np.isnan(result[\"sqrt_ts\"].data)]), \n",
    "    ncols=3)\n",
    "\n",
    "for p in ax.reshape(ax.size):\n",
    "    p.scatter(\n",
    "        target_position.galactic.l.deg, target_position.galactic.b.deg,\n",
    "        transform=p.get_transform(\"galactic\"),\n",
    "        color=\"None\", edgecolor=\"g\", marker=\"o\",\n",
    "        s=1000, lw=2.5,\n",
    "    )\n",
    "\n",
    "plt.show()"
   ]
  },
  {
   "cell_type": "code",
   "execution_count": 13,
   "id": "7fe30f77",
   "metadata": {},
   "outputs": [
    {
     "data": {
      "image/png": "[encoded data removed]",
      "text/plain": [
       "<Figure size 640x480 with 2 Axes>"
      ]
     },
     "metadata": {},
     "output_type": "display_data"
    }
   ],
   "source": [
    "excess_estimator_integrated = ExcessMapEstimator(\n",
    "    correlation_radius=\"0.1 deg\", selection_optional=\"all\", n_sigma=1,\n",
    "    n_sigma_ul=3,\n",
    "    energy_edges=[0.1, 100] * u.TeV,\n",
    "    correlate_off=True\n",
    ")\n",
    "excess_integrated = excess_estimator_integrated.run(stacked)\n",
    "\n",
    "excess_integrated[\"sqrt_ts\"].plot(add_cbar=True)\n",
    "plt.show()"
   ]
  },
  {
   "cell_type": "code",
   "execution_count": 14,
   "id": "2e8a21d5",
   "metadata": {},
   "outputs": [
    {
     "data": {
      "text/html": [
       "<div><i>Table length=1</i>\n",
       "<table id=\"table5775626000\" class=\"table-striped table-bordered table-condensed\">\n",
       "<thead><tr><th>value</th><th>x</th><th>y</th><th>ra</th><th>dec</th></tr></thead>\n",
       "<thead><tr><th></th><th></th><th></th><th>deg</th><th>deg</th></tr></thead>\n",
       "<thead><tr><th>float64</th><th>int64</th><th>int64</th><th>float64</th><th>float64</th></tr></thead>\n",
       "<tr><td>5.0402</td><td>50</td><td>49</td><td>40.65487</td><td>-0.01366</td></tr>\n",
       "</table></div>"
      ],
      "text/plain": [
       "<Table length=1>\n",
       " value    x     y      ra      dec   \n",
       "                      deg      deg   \n",
       "float64 int64 int64 float64  float64 \n",
       "------- ----- ----- -------- --------\n",
       " 5.0402    50    49 40.65487 -0.01366"
      ]
     },
     "metadata": {},
     "output_type": "display_data"
    },
    {
     "data": {
      "image/png": "[encoded data removed]",
      "text/plain": [
       "<Figure size 900x500 with 2 Axes>"
      ]
     },
     "metadata": {},
     "output_type": "display_data"
    }
   ],
   "source": [
    "# set a threshold of detection at 4 sigma and a minimum distance amongst detected source of 0.2 deg:\n",
    "sources = find_peaks(excess_integrated[\"sqrt_ts\"], threshold=5., min_distance=\"0.2 deg\")\n",
    "nsou = len(sources)\n",
    "display(sources)\n",
    "\n",
    "# Plot sources on top of significance sky image\n",
    "plt.figure(figsize=(9, 5))\n",
    "ax = excess_integrated[\"sqrt_ts\"].plot(add_cbar=True)\n",
    "\n",
    "ax.scatter(\n",
    "    sources[\"ra\"], sources[\"dec\"],\n",
    "    transform=ax.get_transform(\"icrs\"),\n",
    "    color=\"None\", edgecolor=\"b\", marker=\"o\",\n",
    "    s=600, lw=1.5,\n",
    ")\n",
    "plt.show()"
   ]
  }
 ],
 "metadata": {
  "kernelspec": {
   "display_name": "gammapy-1.3",
   "language": "python",
   "name": "python3"
  },
  "language_info": {
   "codemirror_mode": {
    "name": "ipython",
    "version": 3
   },
   "file_extension": ".py",
   "mimetype": "text/x-python",
   "name": "python",
   "nbconvert_exporter": "python",
   "pygments_lexer": "ipython3",
   "version": "3.11.11"
  }
 },
 "nbformat": 4,
 "nbformat_minor": 5
}
