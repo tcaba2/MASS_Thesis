{
 "cells": [
  {
   "cell_type": "code",
   "execution_count": 1,
   "id": "f64b2dd2",
   "metadata": {},
   "outputs": [],
   "source": [
    "from pathlib import Path\n",
    "import numpy as np\n",
    "import astropy.units as u\n",
    "from astropy.coordinates import Angle, SkyCoord\n",
    "from astropy.io import fits\n",
    "from astropy.time import Time\n",
    "from regions import CircleSkyRegion\n",
    "import matplotlib.pyplot as plt\n",
    "from IPython.display import display\n",
    "from gammapy.data import (\n",
    "    DataStore,\n",
    "    FixedPointingInfo,\n",
    "    Observation,\n",
    "    observatory_locations,\n",
    ")\n",
    "from gammapy.datasets import MapDataset, MapDatasetEventSampler\n",
    "from gammapy.irf import load_irf_dict_from_file\n",
    "from gammapy.makers import MapDatasetMaker\n",
    "from gammapy.maps import MapAxis, WcsGeom\n",
    "from gammapy.modeling.models import (\n",
    "    ExpDecayTemporalModel,\n",
    "    FoVBackgroundModel,\n",
    "    Models,\n",
    "    PointSpatialModel,\n",
    "    PowerLawNormSpectralModel,\n",
    "    PowerLawSpectralModel,\n",
    "    SkyModel,\n",
    "    TemplateSpatialModel,\n",
    "    EBLAbsorptionNormSpectralModel,\n",
    "    TemplateSpectralModel\n",
    ")\n",
    "from gammapy.catalog import CATALOG_REGISTRY\n",
    "from astropy.io import ascii\n",
    "\n",
    "import warnings\n",
    "from gammapy.utils.deprecation import GammapyDeprecationWarning\n",
    "from astropy.utils.exceptions import AstropyWarning\n",
    "\n",
    "import glob, os, itertools"
   ]
  },
  {
   "cell_type": "code",
   "execution_count": 2,
   "id": "a1243736",
   "metadata": {},
   "outputs": [],
   "source": [
    "# 1. Hide the Gammapy “FixedPointingInfo will be required” notice\n",
    "warnings.filterwarnings(\"ignore\", category=GammapyDeprecationWarning)\n",
    "\n",
    "# 2. Hide the Astropy polar-motion / IERS table notice\n",
    "warnings.filterwarnings(\"ignore\", category=AstropyWarning)"
   ]
  },
  {
   "cell_type": "code",
   "execution_count": 3,
   "id": "4a1e81d5",
   "metadata": {},
   "outputs": [
    {
     "data": {
      "image/png": "[encoded data removed]",
      "text/plain": [
       "<Figure size 640x480 with 1 Axes>"
      ]
     },
     "metadata": {},
     "output_type": "display_data"
    }
   ],
   "source": [
    "# Source\n",
    "target_position = SkyCoord(40.669 * u.deg, -0.013 * u.deg, frame=\"icrs\", unit=\"deg\")\n",
    "\n",
    "# Template spectral model. Defined by custom tabular values from Inoue+ 2022\n",
    "data = ascii.read(\"/Users/tharacaba/Desktop/Tesis_2/MASS_Thesis/simulations/Wind/Inoue_2022_wind.dat\")\n",
    "\n",
    "data['Frequency[Hz]'] = 10**data['logFrequency[Hz]'] \n",
    "data['flux[ergcm^-2s^-1]'] = 10**data['logflux[ergcm^-2s^-1]']\n",
    "\n",
    "energy = data['Frequency[Hz]'] * u.Hz\n",
    "values = data['flux[ergcm^-2s^-1]'] *u.erg / (u.cm **2.0 * u.s)\n",
    "\n",
    "energy_MeV = energy.to(u.MeV, equivalencies=u.spectral())\n",
    "\n",
    "values = values.to(u.MeV / (u.cm ** 2.0 * u.s))\n",
    "values_MeV = values / energy_MeV**2  # divide by energy to get dN/dE\n",
    "\n",
    "spectral_model = TemplateSpectralModel(energy=energy_MeV, values=values_MeV)\n",
    "\n",
    "spatial_model = PointSpatialModel.from_position(target_position)\n",
    "\n",
    "sky_model = SkyModel(\n",
    "                    spectral_model=spectral_model,\n",
    "                    spatial_model=spatial_model,\n",
    "                    name=\"NGC_1068\",\n",
    "                    )\n",
    "\n",
    "# Background\n",
    "bkg_model = FoVBackgroundModel(dataset_name=\"my-dataset\")\n",
    "\n",
    "# Plotting the model\n",
    "energy_bounds = [0.1, 100] * u.TeV\n",
    "opts = dict(sed_type=\"e2dnde\", yunits=u.Unit(\"erg cm-2 s-1\"))\n",
    "spectral_model.plot(energy_bounds, **opts)\n",
    "plt.grid(which=\"both\")"
   ]
  },
  {
   "cell_type": "code",
   "execution_count": 4,
   "id": "280543c0",
   "metadata": {},
   "outputs": [
    {
     "name": "stdout",
     "output_type": "stream",
     "text": [
      "Models\n",
      "\n",
      "Component 0: SkyModel\n",
      "\n",
      "  Name                      : NGC_1068\n",
      "  Datasets names            : None\n",
      "  Spectral model type       : TemplateSpectralModel\n",
      "  Spatial  model type       : PointSpatialModel\n",
      "  Temporal model type       : \n",
      "  Parameters:\n",
      "    lon_0                         :     40.669   +/-    0.00 deg         \n",
      "    lat_0                         :     -0.013   +/-    0.00 deg         \n",
      "\n",
      "Component 1: FoVBackgroundModel\n",
      "\n",
      "  Name                      : my-dataset-bkg\n",
      "  Datasets names            : ['my-dataset']\n",
      "  Spectral model type       : PowerLawNormSpectralModel\n",
      "  Parameters:\n",
      "    norm                          :      1.000   +/-    0.00             \n",
      "    tilt                  (frozen):      0.000                   \n",
      "    reference             (frozen):      1.000       TeV         \n",
      "\n",
      "\n"
     ]
    }
   ],
   "source": [
    "# Define the full model\n",
    "models = Models([sky_model, bkg_model])\n",
    "print(models)\n",
    "\n",
    "# save it to disk\n",
    "file_model = \"./Wind_NGC_1068.yaml\"\n",
    "models.write(file_model, write_covariance=False, overwrite=True)\n",
    "\n",
    "irf_filename = \"/Users/tharacaba/Desktop/Tesis_2/gammapy-datasets/1.3/cta-prod5-zenodo-fitsonly-v0/fits/CTA-Performance-prod5-v0.1-North-40deg.FITS/Prod5-North-40deg-AverageAz-4LSTs09MSTs.180000s-v0.1.fits\"  \n",
    "IRF = load_irf_dict_from_file(irf_filename)"
   ]
  },
  {
   "cell_type": "code",
   "execution_count": 5,
   "id": "b16f9f68",
   "metadata": {},
   "outputs": [
    {
     "name": "stdout",
     "output_type": "stream",
     "text": [
      "WcsGeom\n",
      "\n",
      "\taxes       : ['lon', 'lat', 'energy']\n",
      "\tshape      : (np.int64(200), np.int64(200), 30)\n",
      "\tndim       : 3\n",
      "\tframe      : icrs\n",
      "\tprojection : CAR\n",
      "\tcenter     : 40.2 deg, -0.0 deg\n",
      "\twidth      : 4.0 deg x 4.0 deg\n",
      "\twcs ref    : 40.2 deg, -0.0 deg\n",
      "\n"
     ]
    }
   ],
   "source": [
    "#Ereco ed Etrue must to be different: Etrue must have a larger range in order to reconstruct in the correct way (knowledge of\n",
    "#the whole photon energy extension)\n",
    "\n",
    "energy_axis = MapAxis.from_energy_bounds(\n",
    "    \"0.1 TeV\", \"100 TeV\", nbin=10, per_decade=True\n",
    "    )\n",
    "\n",
    "# for the Edisp\n",
    "energy_axis_true = MapAxis.from_energy_bounds(\n",
    "    \"0.01 TeV\", \"200 TeV\", nbin=20, per_decade=True, name=\"energy_true\"\n",
    "    )\n",
    "\n",
    "migra_axis = MapAxis.from_bounds(\n",
    "    0.5, 2, nbin=150, node_type=\"edges\", name=\"migra\" #If node_type = ‘edge’ then bounds correspond to the lower\n",
    "                                                      #  and upper bound of the first and last bin.\n",
    "    ) \n",
    "\n",
    "pointing = FixedPointingInfo(\n",
    "    fixed_icrs=SkyCoord(40.169 * u.deg, -0.013 * u.deg, frame=\"icrs\", unit=\"deg\"),\n",
    ")      \n",
    "\n",
    "# let's define the geometry of the simulation:\n",
    "geom = WcsGeom.create(\n",
    "    skydir=pointing.fixed_icrs,           \n",
    "    width=(4, 4),         # gammapy uses a square not a circle \n",
    "    binsz=0.02,           # pixel size\n",
    "    frame=\"icrs\",\n",
    "    axes=[energy_axis],    #in reco energy\n",
    ")\n",
    "print(geom)"
   ]
  },
  {
   "cell_type": "code",
   "execution_count": 6,
   "id": "18dfc675",
   "metadata": {},
   "outputs": [
    {
     "name": "stdout",
     "output_type": "stream",
     "text": [
      "Deleted file: /Users/tharacaba/Desktop/Tesis_2/MASS_Thesis/simulations/Wind/Experiment/events_obs14.fits\n",
      "Deleted file: /Users/tharacaba/Desktop/Tesis_2/MASS_Thesis/simulations/Wind/Experiment/events_obs0.fits\n",
      "Deleted file: /Users/tharacaba/Desktop/Tesis_2/MASS_Thesis/simulations/Wind/Experiment/events_obs18.fits\n",
      "Deleted file: /Users/tharacaba/Desktop/Tesis_2/MASS_Thesis/simulations/Wind/Experiment/events_obs19.fits\n",
      "Deleted file: /Users/tharacaba/Desktop/Tesis_2/MASS_Thesis/simulations/Wind/Experiment/events_obs1.fits\n",
      "Deleted file: /Users/tharacaba/Desktop/Tesis_2/MASS_Thesis/simulations/Wind/Experiment/events_obs15.fits\n",
      "Deleted file: /Users/tharacaba/Desktop/Tesis_2/MASS_Thesis/simulations/Wind/Experiment/events_obs12.fits\n",
      "Deleted file: /Users/tharacaba/Desktop/Tesis_2/MASS_Thesis/simulations/Wind/Experiment/events_obs6.fits\n",
      "Deleted file: /Users/tharacaba/Desktop/Tesis_2/MASS_Thesis/simulations/Wind/Experiment/events_obs7.fits\n",
      "Deleted file: /Users/tharacaba/Desktop/Tesis_2/MASS_Thesis/simulations/Wind/Experiment/events_obs13.fits\n",
      "Deleted file: /Users/tharacaba/Desktop/Tesis_2/MASS_Thesis/simulations/Wind/Experiment/events_obs8.fits\n",
      "Deleted file: /Users/tharacaba/Desktop/Tesis_2/MASS_Thesis/simulations/Wind/Experiment/events_obs4.fits\n",
      "Deleted file: /Users/tharacaba/Desktop/Tesis_2/MASS_Thesis/simulations/Wind/Experiment/events_obs10.fits\n",
      "Deleted file: /Users/tharacaba/Desktop/Tesis_2/MASS_Thesis/simulations/Wind/Experiment/events_obs11.fits\n",
      "Deleted file: /Users/tharacaba/Desktop/Tesis_2/MASS_Thesis/simulations/Wind/Experiment/events_obs5.fits\n",
      "Deleted file: /Users/tharacaba/Desktop/Tesis_2/MASS_Thesis/simulations/Wind/Experiment/events_obs9.fits\n",
      "Deleted file: /Users/tharacaba/Desktop/Tesis_2/MASS_Thesis/simulations/Wind/Experiment/events_obs2.fits\n",
      "Deleted file: /Users/tharacaba/Desktop/Tesis_2/MASS_Thesis/simulations/Wind/Experiment/events_obs16.fits\n",
      "Deleted file: /Users/tharacaba/Desktop/Tesis_2/MASS_Thesis/simulations/Wind/Experiment/events_obs17.fits\n",
      "Deleted file: /Users/tharacaba/Desktop/Tesis_2/MASS_Thesis/simulations/Wind/Experiment/events_obs3.fits\n"
     ]
    }
   ],
   "source": [
    "# Get all files in the ./sims directory\n",
    "files = glob.glob('/Users/tharacaba/Desktop/Tesis_2/MASS_Thesis/simulations/Wind/Experiment/*.fits')\n",
    "\n",
    "# Loop and delete each file\n",
    "for f in files:\n",
    "    if os.path.isfile(f):\n",
    "        os.remove(f)\n",
    "        print(f\"Deleted file: {f}\")"
   ]
  },
  {
   "cell_type": "code",
   "execution_count": 7,
   "id": "c4453c05",
   "metadata": {},
   "outputs": [
    {
     "name": "stdout",
     "output_type": "stream",
     "text": [
      "Simulating observation 0, tstart = 0.083 d, livetime = 0.5 h\n"
     ]
    },
    {
     "name": "stderr",
     "output_type": "stream",
     "text": [
      "The meta information will be empty here.\n"
     ]
    },
    {
     "name": "stdout",
     "output_type": "stream",
     "text": [
      "Simulating observation 1, tstart = 0.3171428571428571 d, livetime = 0.5 h\n"
     ]
    },
    {
     "name": "stderr",
     "output_type": "stream",
     "text": [
      "The meta information will be empty here.\n"
     ]
    },
    {
     "name": "stdout",
     "output_type": "stream",
     "text": [
      "Simulating observation 2, tstart = 0.5512857142857143 d, livetime = 0.5 h\n"
     ]
    },
    {
     "name": "stderr",
     "output_type": "stream",
     "text": [
      "The meta information will be empty here.\n"
     ]
    },
    {
     "name": "stdout",
     "output_type": "stream",
     "text": [
      "Simulating observation 3, tstart = 0.7854285714285714 d, livetime = 0.5 h\n"
     ]
    },
    {
     "name": "stderr",
     "output_type": "stream",
     "text": [
      "The meta information will be empty here.\n"
     ]
    },
    {
     "name": "stdout",
     "output_type": "stream",
     "text": [
      "Simulating observation 4, tstart = 1.0195714285714286 d, livetime = 0.5 h\n"
     ]
    },
    {
     "name": "stderr",
     "output_type": "stream",
     "text": [
      "The meta information will be empty here.\n"
     ]
    },
    {
     "name": "stdout",
     "output_type": "stream",
     "text": [
      "Simulating observation 5, tstart = 1.2537142857142856 d, livetime = 0.5 h\n"
     ]
    },
    {
     "name": "stderr",
     "output_type": "stream",
     "text": [
      "The meta information will be empty here.\n"
     ]
    },
    {
     "name": "stdout",
     "output_type": "stream",
     "text": [
      "Simulating observation 6, tstart = 1.4878571428571428 d, livetime = 0.5 h\n"
     ]
    },
    {
     "name": "stderr",
     "output_type": "stream",
     "text": [
      "The meta information will be empty here.\n"
     ]
    },
    {
     "name": "stdout",
     "output_type": "stream",
     "text": [
      "Simulating observation 7, tstart = 1.7219999999999998 d, livetime = 0.5 h\n"
     ]
    },
    {
     "name": "stderr",
     "output_type": "stream",
     "text": [
      "The meta information will be empty here.\n"
     ]
    },
    {
     "name": "stdout",
     "output_type": "stream",
     "text": [
      "Simulating observation 8, tstart = 1.956142857142857 d, livetime = 0.5 h\n"
     ]
    },
    {
     "name": "stderr",
     "output_type": "stream",
     "text": [
      "The meta information will be empty here.\n"
     ]
    },
    {
     "name": "stdout",
     "output_type": "stream",
     "text": [
      "Simulating observation 9, tstart = 2.1902857142857144 d, livetime = 0.5 h\n"
     ]
    },
    {
     "name": "stderr",
     "output_type": "stream",
     "text": [
      "The meta information will be empty here.\n"
     ]
    },
    {
     "name": "stdout",
     "output_type": "stream",
     "text": [
      "Simulating observation 10, tstart = 2.4244285714285714 d, livetime = 0.5 h\n"
     ]
    },
    {
     "name": "stderr",
     "output_type": "stream",
     "text": [
      "The meta information will be empty here.\n"
     ]
    },
    {
     "name": "stdout",
     "output_type": "stream",
     "text": [
      "Simulating observation 11, tstart = 2.6585714285714284 d, livetime = 0.5 h\n"
     ]
    },
    {
     "name": "stderr",
     "output_type": "stream",
     "text": [
      "The meta information will be empty here.\n"
     ]
    },
    {
     "name": "stdout",
     "output_type": "stream",
     "text": [
      "Simulating observation 12, tstart = 2.892714285714286 d, livetime = 0.5 h\n"
     ]
    },
    {
     "name": "stderr",
     "output_type": "stream",
     "text": [
      "The meta information will be empty here.\n"
     ]
    },
    {
     "name": "stdout",
     "output_type": "stream",
     "text": [
      "Simulating observation 13, tstart = 3.126857142857143 d, livetime = 0.5 h\n"
     ]
    },
    {
     "name": "stderr",
     "output_type": "stream",
     "text": [
      "The meta information will be empty here.\n"
     ]
    },
    {
     "name": "stdout",
     "output_type": "stream",
     "text": [
      "Simulating observation 14, tstart = 3.3609999999999998 d, livetime = 0.5 h\n"
     ]
    },
    {
     "name": "stderr",
     "output_type": "stream",
     "text": [
      "The meta information will be empty here.\n"
     ]
    },
    {
     "name": "stdout",
     "output_type": "stream",
     "text": [
      "Simulating observation 15, tstart = 3.595142857142857 d, livetime = 0.5 h\n"
     ]
    },
    {
     "name": "stderr",
     "output_type": "stream",
     "text": [
      "The meta information will be empty here.\n"
     ]
    },
    {
     "name": "stdout",
     "output_type": "stream",
     "text": [
      "Simulating observation 16, tstart = 3.829285714285714 d, livetime = 0.5 h\n"
     ]
    },
    {
     "name": "stderr",
     "output_type": "stream",
     "text": [
      "The meta information will be empty here.\n"
     ]
    },
    {
     "name": "stdout",
     "output_type": "stream",
     "text": [
      "Simulating observation 17, tstart = 4.063428571428571 d, livetime = 0.5 h\n"
     ]
    },
    {
     "name": "stderr",
     "output_type": "stream",
     "text": [
      "The meta information will be empty here.\n"
     ]
    },
    {
     "name": "stdout",
     "output_type": "stream",
     "text": [
      "Simulating observation 18, tstart = 4.297571428571429 d, livetime = 0.5 h\n"
     ]
    },
    {
     "name": "stderr",
     "output_type": "stream",
     "text": [
      "The meta information will be empty here.\n"
     ]
    },
    {
     "name": "stdout",
     "output_type": "stream",
     "text": [
      "Simulating observation 19, tstart = 4.531714285714285 d, livetime = 0.5 h\n"
     ]
    },
    {
     "name": "stderr",
     "output_type": "stream",
     "text": [
      "The meta information will be empty here.\n"
     ]
    },
    {
     "name": "stdout",
     "output_type": "stream",
     "text": [
      "Simulating observation 20, tstart = 4.765857142857143 d, livetime = 0.5 h\n"
     ]
    },
    {
     "name": "stderr",
     "output_type": "stream",
     "text": [
      "The meta information will be empty here.\n"
     ]
    },
    {
     "name": "stdout",
     "output_type": "stream",
     "text": [
      "Simulating observation 21, tstart = 5.0 d, livetime = 0.5 h\n"
     ]
    },
    {
     "name": "stderr",
     "output_type": "stream",
     "text": [
      "The meta information will be empty here.\n"
     ]
    }
   ],
   "source": [
    "# tstart_obs = [0.083, 3, 10, 20, 25, 40, 80, 100, 200, 250] * u.d\n",
    "# livetime_obs = [8.5, 8.5, 8.5, 8.5, 8.5, 8.5, 8.5, 8.5, 8.5, 8.5] * u.hr\n",
    "# angle_wobble = [0, 90, 180, 270, 0, 90, 180, 270, 0, 90] * u.deg\n",
    "\n",
    "# Parameters\n",
    "total_hours = 11\n",
    "obs_duration = 0.5  # 30 minutes in hours\n",
    "n_obs = int(total_hours / obs_duration)\n",
    "\n",
    "# Generate tstart_obs with increasing values (non-simultaneous), spread out in time\n",
    "# We use an arbitrary starting point and step to ensure separation\n",
    "tstart_obs = np.linspace(0.083, 5, n_obs) * u.d\n",
    "\n",
    "# All observations are 30 minutes\n",
    "livetime_obs = np.full(n_obs, obs_duration) * u.hr\n",
    "\n",
    "# Generate angle_wobble cycling through [0, 90, 180, 270]\n",
    "base_angles = [0, 90, 180, 270]\n",
    "angle_wobble = [base_angles[i % 4] for i in range(n_obs)] * u.deg\n",
    "\n",
    "location = observatory_locations[\"cta_north\"]\n",
    "\n",
    "reference_time = Time(\"2026-05-28T00:00:00\", format=\"isot\", scale=\"utc\")\n",
    "\n",
    "#### MapDataset object with zer0-filled map\n",
    "empty = MapDataset.create(\n",
    "        geom,                               \n",
    "        energy_axis_true=energy_axis_true,       #for the IRF maps\n",
    "        migra_axis=migra_axis,                   #for the Edisp map\n",
    "        name=\"my-dataset\",                       #the name that will read the FoVBKG\n",
    "            )\n",
    "\n",
    "### Make maps for a single observation\n",
    "maker = MapDatasetMaker(selection=[\"exposure\", \"background\", \"psf\", \"edisp\"]) #which maps to make (by default all)\n",
    "\n",
    "\n",
    "for i, (tobs, liveobs, wobobs) in enumerate(zip(tstart_obs, livetime_obs, angle_wobble)):\n",
    "\n",
    "    print(f\"Simulating observation {i}, tstart = {tobs}, livetime = {liveobs}\")\n",
    "\n",
    "    pointing_obs = target_position.directional_offset_by(wobobs, 0.5*u.deg)\n",
    "    obs = Observation.create(\n",
    "                            obs_id=i, \n",
    "                            pointing=pointing_obs, \n",
    "                            livetime=liveobs, \n",
    "                            irfs=IRF,\n",
    "                            location=location,\n",
    "                            reference_time = reference_time, \n",
    "                            tstart = tobs\n",
    "                  )    \n",
    "\n",
    "    dataset = maker.run(empty.copy(), obs) \n",
    "\n",
    "    bkg_model = bkg_model.copy()\n",
    "    bkg_model.datasets_names = [dataset.name]   # <-- relink\n",
    "\n",
    "    dataset.models = Models([sky_model, bkg_model])\n",
    "\n",
    "    sampler = MapDatasetEventSampler(random_state=i)\n",
    "    events = sampler.run(dataset, obs)\n",
    "\n",
    "    obs.events = events\n",
    "    obs.write(f\"events_obs{i}.fits\", include_irfs=False, overwrite=True)"
   ]
  }
 ],
 "metadata": {
  "kernelspec": {
   "display_name": "gammapy-1.3",
   "language": "python",
   "name": "python3"
  },
  "language_info": {
   "codemirror_mode": {
    "name": "ipython",
    "version": 3
   },
   "file_extension": ".py",
   "mimetype": "text/x-python",
   "name": "python",
   "nbconvert_exporter": "python",
   "pygments_lexer": "ipython3",
   "version": "3.11.11"
  }
 },
 "nbformat": 4,
 "nbformat_minor": 5
}
